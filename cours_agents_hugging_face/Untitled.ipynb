{
 "cells": [
  {
   "cell_type": "markdown",
   "id": "c54c3f96-8fb8-4367-b05c-2a5b98f70e9d",
   "metadata": {},
   "source": [
    "<div class=\"mermaid\">\n",
    "flowchart TB\n",
    "    Task[User Task]\n",
    "    Memory[agent.memory]\n",
    "    Generate[Generate from agent.model]\n",
    "    Execute[Execute Code action - Tool calls are written as functions]\n",
    "    Answer[Return the argument given to 'final_answer']\n",
    "\n",
    "    Task -->|Add task to agent.memory| Memory\n",
    "\n",
    "    subgraph ReAct[ReAct loop]\n",
    "        Memory -->|Memory as chat messages| Generate\n",
    "        Generate -->|Parse output to extract code action| Execute\n",
    "        Execute -->|No call to 'final_answer' tool => Store execution logs in memory and keep running| Memory\n",
    "    end\n",
    "    \n",
    "    Execute -->|Call to 'final_answer' tool| Answer\n",
    "\n",
    "    classDef default fill:#d4b702,stroke:#8b7701,color:#ffffff\n",
    "    classDef io fill:#4a5568,stroke:#2d3748,color:#ffffff\n",
    "    \n",
    "    class Task,Answer io\n",
    "</div>"
   ]
  },
  {
   "cell_type": "code",
   "execution_count": null,
   "id": "ca6bdaad-8c8d-4270-a058-d93552281e91",
   "metadata": {},
   "outputs": [],
   "source": []
  }
 ],
 "metadata": {
  "kernelspec": {
   "display_name": "Python 3 (ipykernel)",
   "language": "python",
   "name": "python3"
  },
  "language_info": {
   "codemirror_mode": {
    "name": "ipython",
    "version": 3
   },
   "file_extension": ".py",
   "mimetype": "text/x-python",
   "name": "python",
   "nbconvert_exporter": "python",
   "pygments_lexer": "ipython3",
   "version": "3.12.8"
  }
 },
 "nbformat": 4,
 "nbformat_minor": 5
}
