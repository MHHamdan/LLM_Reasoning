{
  "metadata": {
    "kernelspec": {
      "display_name": "Python 3",
      "name": "python3"
    },
    "language_info": {
      "name": "python",
      "version": "3.10.12",
      "mimetype": "text/x-python",
      "codemirror_mode": {
        "name": "ipython",
        "version": 3
      },
      "pygments_lexer": "ipython3",
      "nbconvert_exporter": "python",
      "file_extension": ".py"
    },
    "kaggle": {
      "accelerator": "nvidiaTeslaT4",
      "dataSources": [
        {
          "sourceId": 86946,
          "databundleVersionId": 10131489,
          "sourceType": "competition"
        },
        {
          "sourceId": 10564835,
          "sourceType": "datasetVersion",
          "datasetId": 6537533
        },
        {
          "sourceId": 240592,
          "sourceType": "modelInstanceVersion",
          "isSourceIdPinned": true,
          "modelInstanceId": 205586,
          "modelId": 227332
        },
        {
          "sourceId": 240650,
          "sourceType": "modelInstanceVersion",
          "isSourceIdPinned": true,
          "modelInstanceId": 205631,
          "modelId": 227378
        },
        {
          "sourceId": 241196,
          "sourceType": "modelInstanceVersion",
          "isSourceIdPinned": true,
          "modelInstanceId": 206048,
          "modelId": 227795
        },
        {
          "sourceId": 242092,
          "sourceType": "modelInstanceVersion",
          "isSourceIdPinned": true,
          "modelInstanceId": 206793,
          "modelId": 228539
        }
      ],
      "dockerImageVersionId": 30840,
      "isInternetEnabled": false,
      "language": "python",
      "sourceType": "notebook",
      "isGpuEnabled": true
    },
    "colab": {
      "provenance": [],
      "gpuType": "T4",
      "include_colab_link": true
    },
    "accelerator": "GPU"
  },
  "nbformat_minor": 0,
  "nbformat": 4,
  "cells": [
    {
      "cell_type": "markdown",
      "metadata": {
        "id": "view-in-github",
        "colab_type": "text"
      },
      "source": [
        "<a href=\"https://colab.research.google.com/github/MHHamdan/LLM_Reasoning/blob/main/arena_(1).ipynb\" target=\"_parent\"><img src=\"https://colab.research.google.com/assets/colab-badge.svg\" alt=\"Open In Colab\"/></a>"
      ]
    },
    {
      "cell_type": "code",
      "source": [
        "import pandas as pd\n",
        "\n",
        "# File paths\n",
        "train_path = \"/content/drive/MyDrive/GenerativeAI/wsdm-cup-multilingual-chatbot-arena/train.parquet\"\n",
        "test_path = \"/content/drive/MyDrive/GenerativeAI/wsdm-cup-multilingual-chatbot-arena/test.parquet\"\n",
        "\n",
        "# Load datasets\n",
        "train = pd.read_parquet(train_path)\n",
        "test = pd.read_parquet(test_path)\n",
        "\n",
        "print(\"Train shape:\", train.shape)\n",
        "print(\"Test shape:\", test.shape)\n",
        "#train.head()\n"
      ],
      "metadata": {
        "trusted": true,
        "execution": {
          "iopub.status.busy": "2025-01-26T01:00:35.328829Z",
          "iopub.execute_input": "2025-01-26T01:00:35.329197Z",
          "iopub.status.idle": "2025-01-26T01:00:37.785485Z",
          "shell.execute_reply.started": "2025-01-26T01:00:35.329166Z",
          "shell.execute_reply": "2025-01-26T01:00:37.784676Z"
        },
        "colab": {
          "base_uri": "https://localhost:8080/"
        },
        "id": "PFWn8TACTcgv",
        "outputId": "ab97cba7-6bc7-44d6-fcb0-916700119cd4"
      },
      "outputs": [
        {
          "output_type": "stream",
          "name": "stdout",
          "text": [
            "Train shape: (48439, 8)\n",
            "Test shape: (3, 5)\n"
          ]
        }
      ],
      "execution_count": 3
    },
    {
      "cell_type": "code",
      "source": [
        "# Check for missing values\n",
        "print(train.isnull().sum())\n",
        "\n",
        "# Analyze text lengths\n",
        "train['prompt_length'] = train['prompt'].apply(lambda x: len(x.split()))\n",
        "train['response_a_length'] = train['response_a'].apply(lambda x: len(x.split()))\n",
        "train['response_b_length'] = train['response_b'].apply(lambda x: len(x.split()))\n",
        "train[['prompt_length', 'response_a_length', 'response_b_length']].describe()\n"
      ],
      "metadata": {
        "trusted": true,
        "execution": {
          "iopub.status.busy": "2025-01-26T01:01:35.876697Z",
          "iopub.execute_input": "2025-01-26T01:01:35.877007Z",
          "iopub.status.idle": "2025-01-26T01:01:38.381323Z",
          "shell.execute_reply.started": "2025-01-26T01:01:35.876986Z",
          "shell.execute_reply": "2025-01-26T01:01:38.380431Z"
        },
        "colab": {
          "base_uri": "https://localhost:8080/",
          "height": 461
        },
        "id": "Se17vrhnTcg1",
        "outputId": "7d63b5be-edec-4d2c-d7d3-436fad140dba"
      },
      "outputs": [
        {
          "output_type": "stream",
          "name": "stdout",
          "text": [
            "id            0\n",
            "prompt        0\n",
            "response_a    0\n",
            "response_b    0\n",
            "winner        0\n",
            "model_a       0\n",
            "model_b       0\n",
            "language      0\n",
            "dtype: int64\n"
          ]
        },
        {
          "output_type": "execute_result",
          "data": {
            "text/plain": [
              "       prompt_length  response_a_length  response_b_length\n",
              "count   48439.000000       48439.000000       48439.000000\n",
              "mean      121.658808         293.452714         294.143294\n",
              "std       364.760289         276.278870         275.319280\n",
              "min         0.000000           1.000000           1.000000\n",
              "25%         9.000000          94.000000          94.000000\n",
              "50%        22.000000         241.000000         242.000000\n",
              "75%        73.000000         419.000000         421.000000\n",
              "max      7160.000000        6476.000000        6061.000000"
            ],
            "text/html": [
              "\n",
              "  <div id=\"df-aa0ddd72-3a35-4435-b428-18ed8a450c4d\" class=\"colab-df-container\">\n",
              "    <div>\n",
              "<style scoped>\n",
              "    .dataframe tbody tr th:only-of-type {\n",
              "        vertical-align: middle;\n",
              "    }\n",
              "\n",
              "    .dataframe tbody tr th {\n",
              "        vertical-align: top;\n",
              "    }\n",
              "\n",
              "    .dataframe thead th {\n",
              "        text-align: right;\n",
              "    }\n",
              "</style>\n",
              "<table border=\"1\" class=\"dataframe\">\n",
              "  <thead>\n",
              "    <tr style=\"text-align: right;\">\n",
              "      <th></th>\n",
              "      <th>prompt_length</th>\n",
              "      <th>response_a_length</th>\n",
              "      <th>response_b_length</th>\n",
              "    </tr>\n",
              "  </thead>\n",
              "  <tbody>\n",
              "    <tr>\n",
              "      <th>count</th>\n",
              "      <td>48439.000000</td>\n",
              "      <td>48439.000000</td>\n",
              "      <td>48439.000000</td>\n",
              "    </tr>\n",
              "    <tr>\n",
              "      <th>mean</th>\n",
              "      <td>121.658808</td>\n",
              "      <td>293.452714</td>\n",
              "      <td>294.143294</td>\n",
              "    </tr>\n",
              "    <tr>\n",
              "      <th>std</th>\n",
              "      <td>364.760289</td>\n",
              "      <td>276.278870</td>\n",
              "      <td>275.319280</td>\n",
              "    </tr>\n",
              "    <tr>\n",
              "      <th>min</th>\n",
              "      <td>0.000000</td>\n",
              "      <td>1.000000</td>\n",
              "      <td>1.000000</td>\n",
              "    </tr>\n",
              "    <tr>\n",
              "      <th>25%</th>\n",
              "      <td>9.000000</td>\n",
              "      <td>94.000000</td>\n",
              "      <td>94.000000</td>\n",
              "    </tr>\n",
              "    <tr>\n",
              "      <th>50%</th>\n",
              "      <td>22.000000</td>\n",
              "      <td>241.000000</td>\n",
              "      <td>242.000000</td>\n",
              "    </tr>\n",
              "    <tr>\n",
              "      <th>75%</th>\n",
              "      <td>73.000000</td>\n",
              "      <td>419.000000</td>\n",
              "      <td>421.000000</td>\n",
              "    </tr>\n",
              "    <tr>\n",
              "      <th>max</th>\n",
              "      <td>7160.000000</td>\n",
              "      <td>6476.000000</td>\n",
              "      <td>6061.000000</td>\n",
              "    </tr>\n",
              "  </tbody>\n",
              "</table>\n",
              "</div>\n",
              "    <div class=\"colab-df-buttons\">\n",
              "\n",
              "  <div class=\"colab-df-container\">\n",
              "    <button class=\"colab-df-convert\" onclick=\"convertToInteractive('df-aa0ddd72-3a35-4435-b428-18ed8a450c4d')\"\n",
              "            title=\"Convert this dataframe to an interactive table.\"\n",
              "            style=\"display:none;\">\n",
              "\n",
              "  <svg xmlns=\"http://www.w3.org/2000/svg\" height=\"24px\" viewBox=\"0 -960 960 960\">\n",
              "    <path d=\"M120-120v-720h720v720H120Zm60-500h600v-160H180v160Zm220 220h160v-160H400v160Zm0 220h160v-160H400v160ZM180-400h160v-160H180v160Zm440 0h160v-160H620v160ZM180-180h160v-160H180v160Zm440 0h160v-160H620v160Z\"/>\n",
              "  </svg>\n",
              "    </button>\n",
              "\n",
              "  <style>\n",
              "    .colab-df-container {\n",
              "      display:flex;\n",
              "      gap: 12px;\n",
              "    }\n",
              "\n",
              "    .colab-df-convert {\n",
              "      background-color: #E8F0FE;\n",
              "      border: none;\n",
              "      border-radius: 50%;\n",
              "      cursor: pointer;\n",
              "      display: none;\n",
              "      fill: #1967D2;\n",
              "      height: 32px;\n",
              "      padding: 0 0 0 0;\n",
              "      width: 32px;\n",
              "    }\n",
              "\n",
              "    .colab-df-convert:hover {\n",
              "      background-color: #E2EBFA;\n",
              "      box-shadow: 0px 1px 2px rgba(60, 64, 67, 0.3), 0px 1px 3px 1px rgba(60, 64, 67, 0.15);\n",
              "      fill: #174EA6;\n",
              "    }\n",
              "\n",
              "    .colab-df-buttons div {\n",
              "      margin-bottom: 4px;\n",
              "    }\n",
              "\n",
              "    [theme=dark] .colab-df-convert {\n",
              "      background-color: #3B4455;\n",
              "      fill: #D2E3FC;\n",
              "    }\n",
              "\n",
              "    [theme=dark] .colab-df-convert:hover {\n",
              "      background-color: #434B5C;\n",
              "      box-shadow: 0px 1px 3px 1px rgba(0, 0, 0, 0.15);\n",
              "      filter: drop-shadow(0px 1px 2px rgba(0, 0, 0, 0.3));\n",
              "      fill: #FFFFFF;\n",
              "    }\n",
              "  </style>\n",
              "\n",
              "    <script>\n",
              "      const buttonEl =\n",
              "        document.querySelector('#df-aa0ddd72-3a35-4435-b428-18ed8a450c4d button.colab-df-convert');\n",
              "      buttonEl.style.display =\n",
              "        google.colab.kernel.accessAllowed ? 'block' : 'none';\n",
              "\n",
              "      async function convertToInteractive(key) {\n",
              "        const element = document.querySelector('#df-aa0ddd72-3a35-4435-b428-18ed8a450c4d');\n",
              "        const dataTable =\n",
              "          await google.colab.kernel.invokeFunction('convertToInteractive',\n",
              "                                                    [key], {});\n",
              "        if (!dataTable) return;\n",
              "\n",
              "        const docLinkHtml = 'Like what you see? Visit the ' +\n",
              "          '<a target=\"_blank\" href=https://colab.research.google.com/notebooks/data_table.ipynb>data table notebook</a>'\n",
              "          + ' to learn more about interactive tables.';\n",
              "        element.innerHTML = '';\n",
              "        dataTable['output_type'] = 'display_data';\n",
              "        await google.colab.output.renderOutput(dataTable, element);\n",
              "        const docLink = document.createElement('div');\n",
              "        docLink.innerHTML = docLinkHtml;\n",
              "        element.appendChild(docLink);\n",
              "      }\n",
              "    </script>\n",
              "  </div>\n",
              "\n",
              "\n",
              "<div id=\"df-f2a2d562-a5e1-4a15-933c-b5cd0d79053e\">\n",
              "  <button class=\"colab-df-quickchart\" onclick=\"quickchart('df-f2a2d562-a5e1-4a15-933c-b5cd0d79053e')\"\n",
              "            title=\"Suggest charts\"\n",
              "            style=\"display:none;\">\n",
              "\n",
              "<svg xmlns=\"http://www.w3.org/2000/svg\" height=\"24px\"viewBox=\"0 0 24 24\"\n",
              "     width=\"24px\">\n",
              "    <g>\n",
              "        <path d=\"M19 3H5c-1.1 0-2 .9-2 2v14c0 1.1.9 2 2 2h14c1.1 0 2-.9 2-2V5c0-1.1-.9-2-2-2zM9 17H7v-7h2v7zm4 0h-2V7h2v10zm4 0h-2v-4h2v4z\"/>\n",
              "    </g>\n",
              "</svg>\n",
              "  </button>\n",
              "\n",
              "<style>\n",
              "  .colab-df-quickchart {\n",
              "      --bg-color: #E8F0FE;\n",
              "      --fill-color: #1967D2;\n",
              "      --hover-bg-color: #E2EBFA;\n",
              "      --hover-fill-color: #174EA6;\n",
              "      --disabled-fill-color: #AAA;\n",
              "      --disabled-bg-color: #DDD;\n",
              "  }\n",
              "\n",
              "  [theme=dark] .colab-df-quickchart {\n",
              "      --bg-color: #3B4455;\n",
              "      --fill-color: #D2E3FC;\n",
              "      --hover-bg-color: #434B5C;\n",
              "      --hover-fill-color: #FFFFFF;\n",
              "      --disabled-bg-color: #3B4455;\n",
              "      --disabled-fill-color: #666;\n",
              "  }\n",
              "\n",
              "  .colab-df-quickchart {\n",
              "    background-color: var(--bg-color);\n",
              "    border: none;\n",
              "    border-radius: 50%;\n",
              "    cursor: pointer;\n",
              "    display: none;\n",
              "    fill: var(--fill-color);\n",
              "    height: 32px;\n",
              "    padding: 0;\n",
              "    width: 32px;\n",
              "  }\n",
              "\n",
              "  .colab-df-quickchart:hover {\n",
              "    background-color: var(--hover-bg-color);\n",
              "    box-shadow: 0 1px 2px rgba(60, 64, 67, 0.3), 0 1px 3px 1px rgba(60, 64, 67, 0.15);\n",
              "    fill: var(--button-hover-fill-color);\n",
              "  }\n",
              "\n",
              "  .colab-df-quickchart-complete:disabled,\n",
              "  .colab-df-quickchart-complete:disabled:hover {\n",
              "    background-color: var(--disabled-bg-color);\n",
              "    fill: var(--disabled-fill-color);\n",
              "    box-shadow: none;\n",
              "  }\n",
              "\n",
              "  .colab-df-spinner {\n",
              "    border: 2px solid var(--fill-color);\n",
              "    border-color: transparent;\n",
              "    border-bottom-color: var(--fill-color);\n",
              "    animation:\n",
              "      spin 1s steps(1) infinite;\n",
              "  }\n",
              "\n",
              "  @keyframes spin {\n",
              "    0% {\n",
              "      border-color: transparent;\n",
              "      border-bottom-color: var(--fill-color);\n",
              "      border-left-color: var(--fill-color);\n",
              "    }\n",
              "    20% {\n",
              "      border-color: transparent;\n",
              "      border-left-color: var(--fill-color);\n",
              "      border-top-color: var(--fill-color);\n",
              "    }\n",
              "    30% {\n",
              "      border-color: transparent;\n",
              "      border-left-color: var(--fill-color);\n",
              "      border-top-color: var(--fill-color);\n",
              "      border-right-color: var(--fill-color);\n",
              "    }\n",
              "    40% {\n",
              "      border-color: transparent;\n",
              "      border-right-color: var(--fill-color);\n",
              "      border-top-color: var(--fill-color);\n",
              "    }\n",
              "    60% {\n",
              "      border-color: transparent;\n",
              "      border-right-color: var(--fill-color);\n",
              "    }\n",
              "    80% {\n",
              "      border-color: transparent;\n",
              "      border-right-color: var(--fill-color);\n",
              "      border-bottom-color: var(--fill-color);\n",
              "    }\n",
              "    90% {\n",
              "      border-color: transparent;\n",
              "      border-bottom-color: var(--fill-color);\n",
              "    }\n",
              "  }\n",
              "</style>\n",
              "\n",
              "  <script>\n",
              "    async function quickchart(key) {\n",
              "      const quickchartButtonEl =\n",
              "        document.querySelector('#' + key + ' button');\n",
              "      quickchartButtonEl.disabled = true;  // To prevent multiple clicks.\n",
              "      quickchartButtonEl.classList.add('colab-df-spinner');\n",
              "      try {\n",
              "        const charts = await google.colab.kernel.invokeFunction(\n",
              "            'suggestCharts', [key], {});\n",
              "      } catch (error) {\n",
              "        console.error('Error during call to suggestCharts:', error);\n",
              "      }\n",
              "      quickchartButtonEl.classList.remove('colab-df-spinner');\n",
              "      quickchartButtonEl.classList.add('colab-df-quickchart-complete');\n",
              "    }\n",
              "    (() => {\n",
              "      let quickchartButtonEl =\n",
              "        document.querySelector('#df-f2a2d562-a5e1-4a15-933c-b5cd0d79053e button');\n",
              "      quickchartButtonEl.style.display =\n",
              "        google.colab.kernel.accessAllowed ? 'block' : 'none';\n",
              "    })();\n",
              "  </script>\n",
              "</div>\n",
              "\n",
              "    </div>\n",
              "  </div>\n"
            ],
            "application/vnd.google.colaboratory.intrinsic+json": {
              "type": "dataframe",
              "summary": "{\n  \"name\": \"train[['prompt_length', 'response_a_length', 'response_b_length']]\",\n  \"rows\": 8,\n  \"fields\": [\n    {\n      \"column\": \"prompt_length\",\n      \"properties\": {\n        \"dtype\": \"number\",\n        \"std\": 16916.17870405386,\n        \"min\": 0.0,\n        \"max\": 48439.0,\n        \"num_unique_values\": 8,\n        \"samples\": [\n          121.6588079853011,\n          22.0,\n          48439.0\n        ],\n        \"semantic_type\": \"\",\n        \"description\": \"\"\n      }\n    },\n    {\n      \"column\": \"response_a_length\",\n      \"properties\": {\n        \"dtype\": \"number\",\n        \"std\": 16874.819763805932,\n        \"min\": 1.0,\n        \"max\": 48439.0,\n        \"num_unique_values\": 8,\n        \"samples\": [\n          293.45271372241376,\n          241.0,\n          48439.0\n        ],\n        \"semantic_type\": \"\",\n        \"description\": \"\"\n      }\n    },\n    {\n      \"column\": \"response_b_length\",\n      \"properties\": {\n        \"dtype\": \"number\",\n        \"std\": 16877.250994031983,\n        \"min\": 1.0,\n        \"max\": 48439.0,\n        \"num_unique_values\": 8,\n        \"samples\": [\n          294.1432936270361,\n          242.0,\n          48439.0\n        ],\n        \"semantic_type\": \"\",\n        \"description\": \"\"\n      }\n    }\n  ]\n}"
            }
          },
          "metadata": {},
          "execution_count": 4
        }
      ],
      "execution_count": 4
    },
    {
      "cell_type": "code",
      "source": [
        "from transformers import AutoTokenizer\n",
        "\n",
        "# Initialize tokenizer\n",
        "tokenizer = AutoTokenizer.from_pretrained(\"/content/drive/MyDrive/GenerativeAI/bert-base-multilingual-cased\")\n"
      ],
      "metadata": {
        "trusted": true,
        "execution": {
          "iopub.status.busy": "2025-01-26T01:01:58.941496Z",
          "iopub.execute_input": "2025-01-26T01:01:58.941822Z",
          "iopub.status.idle": "2025-01-26T01:01:59.223363Z",
          "shell.execute_reply.started": "2025-01-26T01:01:58.941794Z",
          "shell.execute_reply": "2025-01-26T01:01:59.222568Z"
        },
        "id": "R45Ymw3UTcg2"
      },
      "outputs": [],
      "execution_count": 6
    },
    {
      "cell_type": "code",
      "source": [
        "def tokenize_and_chunk(text, tokenizer, max_length=512):\n",
        "    \"\"\"\n",
        "    Tokenizes the text and splits it into chunks of `max_length` tokens.\n",
        "    Returns the number of tokens and the tokenized chunks.\n",
        "    \"\"\"\n",
        "    try:\n",
        "        tokens = tokenizer.encode(text, add_special_tokens=True)\n",
        "        if len(tokens) > max_length:\n",
        "            # Split tokens into chunks\n",
        "            chunks = [tokens[i:i + max_length] for i in range(0, len(tokens), max_length)]\n",
        "            return len(tokens), chunks\n",
        "        else:\n",
        "            return len(tokens), [tokens]  # Return as a single chunk if within limit\n",
        "    except Exception as e:\n",
        "        print(f\"Error tokenizing text: {text[:50]}... -> {e}\")\n",
        "        return 0, []  # Return 0 tokens and empty chunks if there's an error\n"
      ],
      "metadata": {
        "trusted": true,
        "execution": {
          "iopub.status.busy": "2025-01-26T01:01:59.851176Z",
          "iopub.execute_input": "2025-01-26T01:01:59.851493Z",
          "iopub.status.idle": "2025-01-26T01:01:59.856635Z",
          "shell.execute_reply.started": "2025-01-26T01:01:59.851471Z",
          "shell.execute_reply": "2025-01-26T01:01:59.855735Z"
        },
        "id": "Ed3KXXznTcg3"
      },
      "outputs": [],
      "execution_count": 7
    },
    {
      "cell_type": "code",
      "source": [
        "# Apply tokenization with chunking\n",
        "train['prompt_tokens'], train['prompt_chunks'] = zip(\n",
        "    *train['prompt'].apply(lambda x: tokenize_and_chunk(x, tokenizer))\n",
        ")\n",
        "train['response_a_tokens'], train['response_a_chunks'] = zip(\n",
        "    *train['response_a'].apply(lambda x: tokenize_and_chunk(x, tokenizer))\n",
        ")\n",
        "train['response_b_tokens'], train['response_b_chunks'] = zip(\n",
        "    *train['response_b'].apply(lambda x: tokenize_and_chunk(x, tokenizer))\n",
        ")\n",
        "\n",
        "# Check results\n",
        "print(train[['prompt_tokens', 'response_a_tokens', 'response_b_tokens']].describe())\n"
      ],
      "metadata": {
        "trusted": true,
        "execution": {
          "iopub.status.busy": "2025-01-26T01:02:22.080179Z",
          "iopub.execute_input": "2025-01-26T01:02:22.080504Z",
          "iopub.status.idle": "2025-01-26T01:05:22.407753Z",
          "shell.execute_reply.started": "2025-01-26T01:02:22.080480Z",
          "shell.execute_reply": "2025-01-26T01:05:22.406807Z"
        },
        "colab": {
          "base_uri": "https://localhost:8080/"
        },
        "id": "HKN4ToKSTcg4",
        "outputId": "c66f5597-8552-468e-86dc-0847c0bb871c"
      },
      "outputs": [
        {
          "output_type": "stream",
          "name": "stderr",
          "text": [
            "Token indices sequence length is longer than the specified maximum sequence length for this model (694 > 512). Running this sequence through the model will result in indexing errors\n"
          ]
        },
        {
          "output_type": "stream",
          "name": "stdout",
          "text": [
            "       prompt_tokens  response_a_tokens  response_b_tokens\n",
            "count   48439.000000       48439.000000       48439.000000\n",
            "mean      278.250046         624.627882         624.449245\n",
            "std       892.652223         569.023964         555.217057\n",
            "min         2.000000           3.000000           2.000000\n",
            "25%        20.000000         249.000000         250.000000\n",
            "50%        46.000000         521.000000         522.000000\n",
            "75%       150.000000         843.000000         845.000000\n",
            "max     29875.000000       17174.000000       12604.000000\n"
          ]
        }
      ],
      "execution_count": 8
    },
    {
      "cell_type": "code",
      "source": [
        "import torch\n",
        "\n",
        "def process_chunks(chunks, model, tokenizer):\n",
        "    \"\"\"\n",
        "    Processes tokenized chunks through the model and aggregates the results.\n",
        "    \"\"\"\n",
        "    results = []\n",
        "    for chunk in chunks:\n",
        "        # Convert tokenized chunk to tensors\n",
        "        inputs = {\n",
        "            \"input_ids\": torch.tensor([chunk]),  # Add batch dimension\n",
        "            \"attention_mask\": torch.tensor([[1] * len(chunk)])  # Attention mask for valid tokens\n",
        "        }\n",
        "\n",
        "        # Ensure inputs are on the correct device\n",
        "        model_device = next(model.parameters()).device\n",
        "        inputs = {k: v.to(model_device) for k, v in inputs.items()}\n",
        "\n",
        "        # Run the model\n",
        "        outputs = model(**inputs)\n",
        "        results.append(outputs.logits.detach().cpu().numpy())\n",
        "\n",
        "    # Aggregate results (e.g., mean pooling)\n",
        "    aggregated_result = sum(results) / len(results)\n",
        "    return aggregated_result\n"
      ],
      "metadata": {
        "trusted": true,
        "execution": {
          "iopub.status.busy": "2025-01-26T01:10:33.109578Z",
          "iopub.execute_input": "2025-01-26T01:10:33.109928Z",
          "iopub.status.idle": "2025-01-26T01:10:33.115472Z",
          "shell.execute_reply.started": "2025-01-26T01:10:33.109906Z",
          "shell.execute_reply": "2025-01-26T01:10:33.114498Z"
        },
        "id": "RtZpkPMWTcg5"
      },
      "outputs": [],
      "execution_count": 9
    },
    {
      "cell_type": "code",
      "source": [
        "from transformers import AutoModelForSequenceClassification\n",
        "\n",
        "# Load the model\n",
        "model = AutoModelForSequenceClassification.from_pretrained(\"/content/drive/MyDrive/GenerativeAI/bert-base-multilingual-cased\", num_labels=2)\n"
      ],
      "metadata": {
        "trusted": true,
        "execution": {
          "iopub.status.busy": "2025-01-26T01:12:01.022838Z",
          "iopub.execute_input": "2025-01-26T01:12:01.023219Z",
          "iopub.status.idle": "2025-01-26T01:12:17.186730Z",
          "shell.execute_reply.started": "2025-01-26T01:12:01.023189Z",
          "shell.execute_reply": "2025-01-26T01:12:17.186057Z"
        },
        "colab": {
          "base_uri": "https://localhost:8080/"
        },
        "id": "oC91HpfATcg6",
        "outputId": "1477e798-e5cc-4ba6-ae04-c7b23cde0466"
      },
      "outputs": [
        {
          "output_type": "stream",
          "name": "stderr",
          "text": [
            "Some weights of BertForSequenceClassification were not initialized from the model checkpoint at /content/drive/MyDrive/GenerativeAI/bert-base-multilingual-cased and are newly initialized: ['classifier.bias', 'classifier.weight']\n",
            "You should probably TRAIN this model on a down-stream task to be able to use it for predictions and inference.\n"
          ]
        }
      ],
      "execution_count": 11
    },
    {
      "cell_type": "code",
      "source": [
        "# Ensure the model is on the correct device\n",
        "device = torch.device(\"cuda\" if torch.cuda.is_available() else \"cpu\")\n",
        "model = model.to(device)\n",
        "\n",
        "# Process chunks and get predictions\n",
        "train['response_a_logits'] = train['response_a_chunks'].apply(lambda chunks: process_chunks(chunks, model, tokenizer))\n",
        "train['response_b_logits'] = train['response_b_chunks'].apply(lambda chunks: process_chunks(chunks, model, tokenizer))\n",
        "\n",
        "# Check the results\n",
        "print(train[['response_a_logits', 'response_b_logits']].head())\n"
      ],
      "metadata": {
        "trusted": true,
        "execution": {
          "iopub.status.busy": "2025-01-26T01:12:17.187790Z",
          "iopub.execute_input": "2025-01-26T01:12:17.188335Z"
        },
        "id": "4X_DNsm3Tcg7"
      },
      "outputs": [],
      "execution_count": null
    },
    {
      "cell_type": "code",
      "source": [
        "import numpy as np\n",
        "\n",
        "# Determine the predicted winner based on logits\n",
        "def predict_winner(logits_a, logits_b):\n",
        "    \"\"\"\n",
        "    Compares the logits for response_a and response_b to predict the winner.\n",
        "    \"\"\"\n",
        "    prob_a = np.exp(logits_a[0][1]) / (np.exp(logits_a[0][1]) + np.exp(logits_b[0][1]))\n",
        "    prob_b = 1 - prob_a\n",
        "    return \"model_a\" if prob_a > prob_b else \"model_b\"\n",
        "\n",
        "# Apply prediction to the dataset\n",
        "train['predicted_winner'] = train.apply(\n",
        "    lambda row: predict_winner(row['response_a_logits'], row['response_b_logits']), axis=1\n",
        ")\n",
        "\n",
        "# Inspect results\n",
        "print(train[['response_a_logits', 'response_b_logits', 'predicted_winner']].head())\n"
      ],
      "metadata": {
        "trusted": true,
        "execution": {
          "iopub.status.busy": "2025-01-26T00:01:57.201298Z",
          "iopub.execute_input": "2025-01-26T00:01:57.201683Z",
          "iopub.status.idle": "2025-01-26T00:01:57.908308Z",
          "shell.execute_reply.started": "2025-01-26T00:01:57.201653Z",
          "shell.execute_reply": "2025-01-26T00:01:57.907411Z"
        },
        "id": "5CrxiqXkTcg7"
      },
      "outputs": [],
      "execution_count": null
    },
    {
      "cell_type": "code",
      "source": [
        "# Calculate accuracy\n",
        "accuracy = (train['predicted_winner'] == train['winner']).mean()\n",
        "print(f\"Training Accuracy: {accuracy:.2%}\")\n"
      ],
      "metadata": {
        "trusted": true,
        "execution": {
          "iopub.status.busy": "2025-01-26T00:02:21.286014Z",
          "iopub.execute_input": "2025-01-26T00:02:21.286338Z",
          "iopub.status.idle": "2025-01-26T00:02:21.296399Z",
          "shell.execute_reply.started": "2025-01-26T00:02:21.286309Z",
          "shell.execute_reply": "2025-01-26T00:02:21.295590Z"
        },
        "id": "1wGqAeAiTcg9"
      },
      "outputs": [],
      "execution_count": null
    },
    {
      "cell_type": "code",
      "source": [
        "# Tokenize and chunk the test data\n",
        "test['prompt_tokens'], test['prompt_chunks'] = zip(\n",
        "    *test['prompt'].apply(lambda x: tokenize_and_chunk(x, tokenizer))\n",
        ")\n",
        "test['response_a_tokens'], test['response_a_chunks'] = zip(\n",
        "    *test['response_a'].apply(lambda x: tokenize_and_chunk(x, tokenizer))\n",
        ")\n",
        "test['response_b_tokens'], test['response_b_chunks'] = zip(\n",
        "    *test['response_b'].apply(lambda x: tokenize_and_chunk(x, tokenizer))\n",
        ")\n",
        "\n",
        "# Verify the new columns\n",
        "print(test[['prompt_tokens', 'response_a_tokens', 'response_b_tokens']].head())\n"
      ],
      "metadata": {
        "trusted": true,
        "execution": {
          "iopub.status.busy": "2025-01-26T00:04:02.364914Z",
          "iopub.execute_input": "2025-01-26T00:04:02.365213Z",
          "iopub.status.idle": "2025-01-26T00:04:02.383712Z",
          "shell.execute_reply.started": "2025-01-26T00:04:02.365194Z",
          "shell.execute_reply": "2025-01-26T00:04:02.383036Z"
        },
        "id": "wFzgTeTgTcg9"
      },
      "outputs": [],
      "execution_count": null
    },
    {
      "cell_type": "code",
      "source": [
        "# Compute logits for test data\n",
        "test['response_a_logits'] = test['response_a_chunks'].apply(lambda chunks: process_chunks(chunks, model, tokenizer))\n",
        "test['response_b_logits'] = test['response_b_chunks'].apply(lambda chunks: process_chunks(chunks, model, tokenizer))\n",
        "\n",
        "# Predict winners for the test set\n",
        "test['predicted_winner'] = test.apply(\n",
        "    lambda row: predict_winner(row['response_a_logits'], row['response_b_logits']), axis=1\n",
        ")\n"
      ],
      "metadata": {
        "trusted": true,
        "execution": {
          "iopub.status.busy": "2025-01-26T00:04:21.722362Z",
          "iopub.execute_input": "2025-01-26T00:04:21.722717Z",
          "iopub.status.idle": "2025-01-26T00:04:21.998099Z",
          "shell.execute_reply.started": "2025-01-26T00:04:21.722688Z",
          "shell.execute_reply": "2025-01-26T00:04:21.997392Z"
        },
        "id": "r6qUDMVxTcg-"
      },
      "outputs": [],
      "execution_count": null
    },
    {
      "cell_type": "code",
      "source": [
        "from transformers import TrainingArguments, Trainer\n",
        "\n",
        "# Define training arguments\n",
        "training_args = TrainingArguments(\n",
        "    output_dir=\"./results\",\n",
        "    num_train_epochs=3,\n",
        "    per_device_train_batch_size=16,\n",
        "    per_device_eval_batch_size=16,\n",
        "    evaluation_strategy=\"epoch\",\n",
        "    save_strategy=\"epoch\",\n",
        "    logging_dir=\"./logs\",\n",
        "    logging_steps=10,\n",
        "    learning_rate=2e-5,\n",
        ")\n",
        "\n",
        "# Prepare the dataset for training\n",
        "train_encodings = tokenizer(list(train['prompt']), list(train['response_a']), list(train['response_b']),\n",
        "                            truncation=True, padding=True, max_length=512, return_tensors=\"pt\")\n",
        "\n",
        "# Trainer\n",
        "trainer = Trainer(\n",
        "    model=model,\n",
        "    args=training_args,\n",
        "    train_dataset=train_encodings,\n",
        ")\n",
        "\n",
        "# Fine-tune the model\n",
        "trainer.train()\n"
      ],
      "metadata": {
        "trusted": true,
        "execution": {
          "iopub.status.busy": "2025-01-26T00:14:20.021367Z",
          "iopub.execute_input": "2025-01-26T00:14:20.021790Z",
          "iopub.status.idle": "2025-01-26T00:14:35.632102Z",
          "shell.execute_reply.started": "2025-01-26T00:14:20.021756Z",
          "shell.execute_reply": "2025-01-26T00:14:35.630732Z"
        },
        "id": "koySfP6eTcg-"
      },
      "outputs": [],
      "execution_count": null
    },
    {
      "cell_type": "code",
      "source": [],
      "metadata": {
        "trusted": true,
        "id": "ezQj3c1-Tcg_"
      },
      "outputs": [],
      "execution_count": null
    }
  ]
}