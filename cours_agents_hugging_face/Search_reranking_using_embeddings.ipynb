{
  "cells": [
    {
      "cell_type": "markdown",
      "metadata": {
        "id": "view-in-github",
        "colab_type": "text"
      },
      "source": [
        "<a href=\"https://colab.research.google.com/github/MHHamdan/LLM_Reasoning/blob/main/Search_reranking_using_embeddings.ipynb\" target=\"_parent\"><img src=\"https://colab.research.google.com/assets/colab-badge.svg\" alt=\"Open In Colab\"/></a>"
      ]
    },
    {
      "cell_type": "markdown",
      "metadata": {
        "id": "Tce3stUlHN0L"
      },
      "source": [
        "##### Copyright 2024 Google LLC."
      ]
    },
    {
      "cell_type": "code",
      "execution_count": null,
      "metadata": {
        "cellView": "form",
        "id": "tuOe1ymfHZPu"
      },
      "outputs": [],
      "source": [
        "# @title Licensed under the Apache License, Version 2.0 (the \"License\");\n",
        "# you may not use this file except in compliance with the License.\n",
        "# You may obtain a copy of the License at\n",
        "#\n",
        "# https://www.apache.org/licenses/LICENSE-2.0\n",
        "#\n",
        "# Unless required by applicable law or agreed to in writing, software\n",
        "# distributed under the License is distributed on an \"AS IS\" BASIS,\n",
        "# WITHOUT WARRANTIES OR CONDITIONS OF ANY KIND, either express or implied.\n",
        "# See the License for the specific language governing permissions and\n",
        "# limitations under the License."
      ]
    },
    {
      "cell_type": "markdown",
      "metadata": {
        "id": "oJt4OFKPgO8C"
      },
      "source": [
        "# Search re-ranking using Gemini embeddings"
      ]
    },
    {
      "cell_type": "markdown",
      "metadata": {
        "id": "k5n0sCc_fKcB"
      },
      "source": [
        "<table align=\"left\">\n",
        "  <td>\n",
        "    <a target=\"_blank\" href=\"https://colab.research.google.com/github/google-gemini/cookbook/blob/main/examples/Search_reranking_using_embeddings.ipynb\"><img src=\"https://github.com/google-gemini/cookbook/blob/main/images/colab_logo_32px.png?raw=1\" />Run in Google Colab</a>\n",
        "  </td>\n",
        "</table>"
      ]
    },
    {
      "cell_type": "markdown",
      "metadata": {
        "id": "0UO0Cgq0mRlG"
      },
      "source": [
        "This notebook demonstrates the use of embeddings to re-rank search results. This walkthrough will focus on the following objectives:\n",
        "\n",
        "\n",
        "\n",
        "1.   Setting up your development environment and API access to use Gemini.\n",
        "2.   Using Gemini's function calling support to access the Wikipedia API.\n",
        "3.   Embedding content via Gemini API.\n",
        "4.   Re-ranking the search results.\n"
      ]
    },
    {
      "cell_type": "markdown",
      "metadata": {
        "id": "-e5Aje-DTQOq"
      },
      "source": [
        "This is how you will implement search re-ranking:\n",
        "\n",
        "\n",
        "1.   The user will make a search query.\n",
        "2.   You will use Wikipedia API to return the relevant search results.\n",
        "3.   The search results will be embedded and their relevance will be evaluated by calculating distance metrics like cosine similarity.\n",
        "4.   The most relevant search result will be returned as the final answer."
      ]
    },
    {
      "cell_type": "markdown",
      "metadata": {
        "id": "rpVL_QrF5-oF"
      },
      "source": [
        "> The non-source code materials in this notebook are licensed under Creative Commons - Attribution-ShareAlike CC-BY-SA 4.0, https://creativecommons.org/licenses/by-sa/4.0/legalcode."
      ]
    },
    {
      "cell_type": "markdown",
      "metadata": {
        "id": "pwImlRg9DUp7"
      },
      "source": [
        "## Setup\n"
      ]
    },
    {
      "cell_type": "code",
      "execution_count": null,
      "metadata": {
        "id": "Nv_6f_qNHe_2"
      },
      "outputs": [],
      "source": [
        "!pip install -q -U \"google-generativeai>=0.7.2\""
      ]
    },
    {
      "cell_type": "code",
      "execution_count": null,
      "metadata": {
        "id": "5999faf240a4",
        "colab": {
          "base_uri": "https://localhost:8080/"
        },
        "outputId": "ba667f57-6dd5-4b14-8cf7-996b6ae439ce"
      },
      "outputs": [
        {
          "output_type": "stream",
          "name": "stdout",
          "text": [
            "  Preparing metadata (setup.py) ... \u001b[?25l\u001b[?25hdone\n",
            "  Building wheel for wikipedia (setup.py) ... \u001b[?25l\u001b[?25hdone\n"
          ]
        }
      ],
      "source": [
        "!pip install -q wikipedia"
      ]
    },
    {
      "cell_type": "markdown",
      "metadata": {
        "id": "739f0bb73f05"
      },
      "source": [
        "Note: The [`wikipedia` package](https://pypi.org/project/wikipedia/) notes that it was \"designed for ease of use and simplicity, not for advanced use\", and that production or heavy use should instead \"use [Pywikipediabot](http://www.mediawiki.org/wiki/Manual:Pywikipediabot) or one of the other more advanced [Python MediaWiki API wrappers](http://en.wikipedia.org/wiki/Wikipedia:Creating_a_bot#Python)\"."
      ]
    },
    {
      "cell_type": "code",
      "execution_count": null,
      "metadata": {
        "id": "D0qOtLI3FVid"
      },
      "outputs": [],
      "source": [
        "import json\n",
        "import textwrap\n",
        "\n",
        "import google.generativeai as genai\n",
        "\n",
        "import wikipedia\n",
        "from wikipedia.exceptions import DisambiguationError, PageError\n",
        "\n",
        "import numpy as np\n",
        "\n",
        "from IPython.display import Markdown\n",
        "\n",
        "def to_markdown(text):\n",
        "  text = text.replace('•', '  *')\n",
        "  return Markdown(textwrap.indent(text, '> ', predicate=lambda _: True))"
      ]
    },
    {
      "cell_type": "markdown",
      "metadata": {
        "id": "aeo_9J9iDtCx"
      },
      "source": [
        "To run the following cell, your API key must be stored it in a Colab Secret named `GOOGLE_API_KEY`. If you don't already have an API key, or you're not sure how to create a Colab Secret, see the [Authentication](https://github.com/google-gemini/cookbook/blob/main/quickstarts/Authentication.ipynb) quickstart for an example."
      ]
    },
    {
      "cell_type": "code",
      "execution_count": null,
      "metadata": {
        "id": "yxzEH0GqLshI"
      },
      "outputs": [],
      "source": [
        "from google.colab import userdata\n",
        "GOOGLE_API_KEY=userdata.get('GOOGLE_API_KEY')\n",
        "genai.configure(api_key=GOOGLE_API_KEY)"
      ]
    },
    {
      "cell_type": "markdown",
      "metadata": {
        "id": "0hkJSFIWI7G1"
      },
      "source": [
        "## Define tools"
      ]
    },
    {
      "cell_type": "markdown",
      "metadata": {
        "id": "7HjN6hsAJkOq"
      },
      "source": [
        "As stated earlier, this tutorial uses Gemini's function calling support to access the Wikipedia API. Please refer to the [docs](https://ai.google.dev/docs/function_calling) to learn more about function calling."
      ]
    },
    {
      "cell_type": "markdown",
      "metadata": {
        "id": "fpFkazXUenkK"
      },
      "source": [
        "### Define the search function"
      ]
    },
    {
      "cell_type": "markdown",
      "metadata": {
        "id": "2fp-m-5Ke0XY"
      },
      "source": [
        "To cater to the search engine needs, you will design this function in the following way:\n",
        "\n",
        "\n",
        "*   For each search query, the search engine will use the `wikipedia.search` method to get relevant topics.\n",
        "*   From the relevant topics, the engine will choose `n_topics(int)` top candidates and will use `gemini-1.5-flash` to extract relevant information from the page.\n",
        "*   The engine will avoid duplicate entries by maintaining a search history.\n"
      ]
    },
    {
      "cell_type": "code",
      "execution_count": null,
      "metadata": {
        "id": "2U27tdP8OBys"
      },
      "outputs": [],
      "source": [
        "def wikipedia_search(search_queries: list[str]) -> list[str]:\n",
        "  \"\"\"Search wikipedia for each query and summarize relevant docs.\"\"\"\n",
        "  n_topics=3\n",
        "  search_history = set() # tracking search history\n",
        "  search_urls = []\n",
        "  mining_model = genai.GenerativeModel('gemini-1.5-flash')\n",
        "  summary_results = []\n",
        "\n",
        "  for query in search_queries:\n",
        "    print(f'Searching for \"{query}\"')\n",
        "    search_terms = wikipedia.search(query)\n",
        "\n",
        "    print(f\"Related search terms: {search_terms[:n_topics]}\")\n",
        "    for search_term in search_terms[:n_topics]: # select first `n_topics` candidates\n",
        "      if search_term in search_history: # check if the topic is already covered\n",
        "        continue\n",
        "\n",
        "      print(f'Fetching page: \"{search_term}\"')\n",
        "      search_history.add(search_term) # add to search history\n",
        "\n",
        "      try:\n",
        "        # extract the relevant data by using `gemini-1.5-flash` model\n",
        "        page = wikipedia.page(search_term, auto_suggest=False)\n",
        "        url = page.url\n",
        "        print(f\"Information Source: {url}\")\n",
        "        search_urls.append(url)\n",
        "        page = page.content\n",
        "        response = mining_model.generate_content(textwrap.dedent(f\"\"\"\\\n",
        "            Extract relevant information\n",
        "            about user's query: {query}\n",
        "            From this source:\n",
        "\n",
        "            {page}\n",
        "\n",
        "            Note: Do not summarize. Only Extract and return the relevant information\n",
        "        \"\"\"))\n",
        "\n",
        "        urls = [url]\n",
        "        if response.candidates[0].citation_metadata:\n",
        "          extra_citations = response.candidates[0].citation_metadata.citation_sources\n",
        "          extra_urls = [source.url for source in extra_citations]\n",
        "          urls.extend(extra_urls)\n",
        "          search_urls.extend(extra_urls)\n",
        "          print(\"Additional citations:\", response.candidates[0].citation_metadata.citation_sources)\n",
        "        try:\n",
        "          text = response.text\n",
        "        except ValueError:\n",
        "          pass\n",
        "        else:\n",
        "          summary_results.append(text + \"\\n\\nBased on:\\n  \" + ',\\n  '.join(urls))\n",
        "\n",
        "      except DisambiguationError:\n",
        "        print(f\"\"\"Results when searching for \"{search_term}\" (originally for \"{query}\")\n",
        "        were ambiguous, hence skipping\"\"\")\n",
        "        continue\n",
        "\n",
        "      except PageError:\n",
        "        print(f'{search_term} did not match with any page id, hence skipping.')\n",
        "        continue\n",
        "\n",
        "      except:\n",
        "        print(f'{search_term} did not match with any page id, hence skipping.')\n",
        "        continue\n",
        "\n",
        "  print(f\"Information Sources:\")\n",
        "  for url in search_urls:\n",
        "    print('    ', url)\n",
        "\n",
        "  return summary_results\n"
      ]
    },
    {
      "cell_type": "code",
      "execution_count": null,
      "metadata": {
        "id": "EWKkkKDXmzOX",
        "colab": {
          "base_uri": "https://localhost:8080/",
          "height": 260
        },
        "outputId": "af56a877-e292-4bee-edc1-848e6031210b"
      },
      "outputs": [
        {
          "output_type": "stream",
          "name": "stdout",
          "text": [
            "Searching for \"What are LLMs?\"\n",
            "Related search terms: ['Large language model', 'Stochastic parrot', 'Artificial intelligence content detection']\n",
            "Fetching page: \"Large language model\"\n",
            "Information Source: https://en.wikipedia.org/wiki/Large_language_model\n",
            "Fetching page: \"Stochastic parrot\"\n",
            "Information Source: https://en.wikipedia.org/wiki/Stochastic_parrot\n"
          ]
        },
        {
          "output_type": "stream",
          "name": "stderr",
          "text": [
            "WARNING:tornado.access:400 POST /v1beta/models/gemini-1.5-flash:generateContent?%24alt=json%3Benum-encoding%3Dint (127.0.0.1) 280.58ms\n"
          ]
        },
        {
          "output_type": "stream",
          "name": "stdout",
          "text": [
            "Stochastic parrot did not match with any page id, hence skipping.\n",
            "Fetching page: \"Artificial intelligence content detection\"\n",
            "Information Source: https://en.wikipedia.org/wiki/Artificial_intelligence_content_detection\n",
            "Information Sources:\n",
            "     https://en.wikipedia.org/wiki/Large_language_model\n",
            "     https://en.wikipedia.org/wiki/Stochastic_parrot\n",
            "     https://en.wikipedia.org/wiki/Artificial_intelligence_content_detection\n"
          ]
        }
      ],
      "source": [
        "example = wikipedia_search([\"What are LLMs?\"])"
      ]
    },
    {
      "cell_type": "markdown",
      "metadata": {
        "id": "8bPT114QEPgW"
      },
      "source": [
        "Here is what the search results look like:"
      ]
    },
    {
      "cell_type": "code",
      "execution_count": null,
      "metadata": {
        "id": "8wy7YUFqEYTv",
        "colab": {
          "base_uri": "https://localhost:8080/",
          "height": 245
        },
        "outputId": "ba1c1d4d-9f69-4040-fc69-d19757a87a8b"
      },
      "outputs": [
        {
          "output_type": "display_data",
          "data": {
            "text/plain": [
              "<IPython.core.display.Markdown object>"
            ],
            "text/markdown": "> LLMs, or large language models, are machine learning models designed for natural language processing tasks like language generation.  They have many parameters and are trained with self-supervised learning on vast amounts of text.  The most capable LLMs are generative pretrained transformers (GPTs).  Modern models can be fine-tuned for specific tasks or guided by prompt engineering.  They acquire predictive power regarding syntax, semantics, and ontologies in human language but also inherit inaccuracies and biases from their training data.\n> \n> \n> Based on:\n>   https://en.wikipedia.org/wiki/Large_language_model"
          },
          "metadata": {}
        },
        {
          "output_type": "display_data",
          "data": {
            "text/plain": [
              "<IPython.core.display.Markdown object>"
            ],
            "text/markdown": "> Large language models (LLMs) are mentioned in relation to watermarking techniques.  A 2023 paper, \"A Watermark for Large Language Models,\" describes a method to embed imperceptible watermarks into text generated by LLMs.  LLMs like ChatGPT, Claude, and Gemini are also noted for their ability to write in different languages, highlighting a shortcoming of AI detection software which is primarily trained in English and a few other languages.\n> \n> \n> Based on:\n>   https://en.wikipedia.org/wiki/Artificial_intelligence_content_detection"
          },
          "metadata": {}
        }
      ],
      "source": [
        "from IPython.display import display\n",
        "\n",
        "for e in example:\n",
        "  display(to_markdown(e))"
      ]
    },
    {
      "cell_type": "markdown",
      "metadata": {
        "id": "SKcH1LICeg5Z"
      },
      "source": [
        "### Pass the tools to the model"
      ]
    },
    {
      "cell_type": "markdown",
      "metadata": {
        "id": "qQcxR7cjLjGM"
      },
      "source": [
        "If you pass a list of functions to the `GenerativeModel`'s `tools` argument,\n",
        "it will extract a schema from the function's signature and type hints, and then pass schema along to the API calls. In response the model may return a `FunctionCall` object asking to call the function.\n",
        "\n",
        "Note: This approach only handles annotations of `AllowedTypes = int | float | str | dict | list['AllowedTypes']`\n",
        "\n",
        "The `GenerativeModel` will keep a reference to the function inself, so that it _can_ execute the function locally later."
      ]
    },
    {
      "cell_type": "code",
      "execution_count": null,
      "metadata": {
        "id": "39kqTnBRLDeQ"
      },
      "outputs": [],
      "source": [
        "model = genai.GenerativeModel(\n",
        "    'gemini-1.5-flash',\n",
        "    tools=[wikipedia_search],\n",
        "    generation_config={'temperature': 0.6})"
      ]
    },
    {
      "cell_type": "markdown",
      "metadata": {
        "id": "VedPbpzlh6jX"
      },
      "source": [
        "## Generate supporting search queries"
      ]
    },
    {
      "cell_type": "markdown",
      "metadata": {
        "id": "5sLKZik7isBW"
      },
      "source": [
        "In order to have multiple supporting search queries to the user's original query, you will ask the model to generate more such queries. This would help the engine to cover the asked question on comprehensive levels."
      ]
    },
    {
      "cell_type": "code",
      "execution_count": null,
      "metadata": {
        "id": "Z-Ym3H9KIosY"
      },
      "outputs": [],
      "source": [
        "instructions = \"\"\"You have access to the Wikipedia API which you will be using\n",
        "to answer a user's query. Your job is to generate a list of search queries which\n",
        "might answer a user's question. Be creative by using various key-phrases from\n",
        "the user's query. To generate variety of queries, ask questions which are\n",
        "related to  the user's query that might help to find the answer. The more\n",
        "queries you generate the better are the odds of you finding the correct answer.\n",
        "Here is an example:\n",
        "\n",
        "user: Tell me about Cricket World cup 2023 winners.\n",
        "\n",
        "function_call: wikipedia_search(['What is the name of the team that\n",
        "won the Cricket World Cup 2023?', 'Who was the captain of the Cricket World Cup\n",
        "2023 winning team?', 'Which country hosted the Cricket World Cup 2023?', 'What\n",
        "was the venue of the Cricket World Cup 2023 final match?', 'Cricket World cup 2023',\n",
        "'Who lifted the Cricket World Cup 2023 trophy?'])\n",
        "\n",
        "The search function will return a list of article summaries, use these to\n",
        "answer the  user's question.\n",
        "\n",
        "Here is the user's query: {query}\n",
        "\"\"\""
      ]
    },
    {
      "cell_type": "markdown",
      "metadata": {
        "id": "3Wyn3lV-d5S_"
      },
      "source": [
        "In order to yield creative and a more random variety of questions, you will set the model's temperature parameter to a value higher. Values can range from [0.0,1.0], inclusive. A value closer to 1.0 will produce responses that are more varied and creative, while a value closer to 0.0 will typically result in more straightforward responses from the model."
      ]
    },
    {
      "cell_type": "markdown",
      "metadata": {
        "id": "TD1vU6FXhYO5"
      },
      "source": [
        "## Enable automatic function calling and call the API"
      ]
    },
    {
      "cell_type": "markdown",
      "metadata": {
        "id": "qyUSnXJ5hg6x"
      },
      "source": [
        "Now start a new chat with `enable_automatic_function_calling=True`. With it enabled, the `genai.ChatSession` will handle the back and forth required to call the function, and return the final response:"
      ]
    },
    {
      "cell_type": "code",
      "execution_count": null,
      "metadata": {
        "id": "ZNJqA60yKNpT",
        "colab": {
          "base_uri": "https://localhost:8080/",
          "height": 1000
        },
        "outputId": "531868ee-78a8-4402-9e4b-e6adb0a951a4"
      },
      "outputs": [
        {
          "output_type": "stream",
          "name": "stdout",
          "text": [
            "Searching for \"How do deep sea creatures survive?\"\n",
            "Related search terms: ['Deep-sea community', 'Deep sea', 'Still Wakes the Deep']\n",
            "Fetching page: \"Deep-sea community\"\n",
            "Information Source: https://en.wikipedia.org/wiki/Deep-sea_community\n",
            "Fetching page: \"Deep sea\"\n",
            "Information Source: https://en.wikipedia.org/wiki/Deep_sea\n",
            "Deep sea did not match with any page id, hence skipping.\n",
            "Fetching page: \"Still Wakes the Deep\"\n",
            "Information Source: https://en.wikipedia.org/wiki/Still_Wakes_the_Deep\n",
            "Searching for \"What adaptations do deep sea animals have?\"\n",
            "Related search terms: ['Deep sea', 'Deep-sea fish', 'Cyclothone']\n",
            "Fetching page: \"Deep-sea fish\"\n",
            "Information Source: https://en.wikipedia.org/wiki/Deep-sea_fish\n",
            "Fetching page: \"Cyclothone\"\n",
            "Information Source: https://en.wikipedia.org/wiki/Cyclothone\n",
            "Searching for \"How do deep sea animals cope with pressure?\"\n",
            "Related search terms: ['Deep sea', 'Deep-sea community', 'Deep-sea fish']\n",
            "Searching for \"How do deep sea animals find food?\"\n",
            "Related search terms: ['Cyclothone', 'Deep-sea community', 'Deep-sea fish']\n",
            "Searching for \"Deep sea life adaptations\"\n",
            "Related search terms: ['Deep sea', 'Deep-sea fish', 'Deep-sea gigantism']\n",
            "Fetching page: \"Deep-sea gigantism\"\n",
            "Information Source: https://en.wikipedia.org/wiki/Deep-sea_gigantism\n",
            "Searching for \"Deep sea ecosystem\"\n",
            "Related search terms: ['Deep-sea community', 'Deep sea', 'Deep-sea fish']\n",
            "Searching for \"Survival mechanisms of deep sea organisms\"\n",
            "Related search terms: ['Hydrothermal vent', 'List of longest-living organisms', 'Deep-sea community']\n",
            "Fetching page: \"Hydrothermal vent\"\n",
            "Information Source: https://en.wikipedia.org/wiki/Hydrothermal_vent\n",
            "Fetching page: \"List of longest-living organisms\"\n",
            "Information Source: https://en.wikipedia.org/wiki/List_of_longest-living_organisms\n",
            "Searching for \"Challenges of deep sea life\"\n",
            "Related search terms: ['Deep-sea community', 'Deepsea Challenger', 'Deep-sea exploration']\n",
            "Fetching page: \"Deepsea Challenger\"\n",
            "Information Source: https://en.wikipedia.org/wiki/Deepsea_Challenger\n"
          ]
        },
        {
          "output_type": "stream",
          "name": "stderr",
          "text": [
            "WARNING:tornado.access:400 POST /v1beta/models/gemini-1.5-flash:generateContent?%24alt=json%3Benum-encoding%3Dint (127.0.0.1) 254.57ms\n"
          ]
        },
        {
          "output_type": "stream",
          "name": "stdout",
          "text": [
            "Deepsea Challenger did not match with any page id, hence skipping.\n",
            "Fetching page: \"Deep-sea exploration\"\n",
            "Information Source: https://en.wikipedia.org/wiki/Deep-sea_exploration\n",
            "Searching for \"Deep sea hydrothermal vents\"\n",
            "Related search terms: ['Hydrothermal vent', 'Hydrothermal vent microbial communities', 'Scaly-foot gastropod']\n",
            "Fetching page: \"Hydrothermal vent microbial communities\"\n",
            "Information Source: https://en.wikipedia.org/wiki/Hydrothermal_vent_microbial_communities\n",
            "Fetching page: \"Scaly-foot gastropod\"\n",
            "Information Source: https://en.wikipedia.org/wiki/Scaly-foot_gastropod\n",
            "Scaly-foot gastropod did not match with any page id, hence skipping.\n",
            "Searching for \"Deep sea extremophiles\"\n",
            "Related search terms: ['Hydrothermal vent', 'Deep-sea community', 'Extremophile']\n",
            "Fetching page: \"Extremophile\"\n",
            "Information Source: https://en.wikipedia.org/wiki/Extremophile\n",
            "Extremophile did not match with any page id, hence skipping.\n",
            "Information Sources:\n",
            "     https://en.wikipedia.org/wiki/Deep-sea_community\n",
            "     https://en.wikipedia.org/wiki/Deep_sea\n",
            "     https://en.wikipedia.org/wiki/Still_Wakes_the_Deep\n",
            "     https://en.wikipedia.org/wiki/Deep-sea_fish\n",
            "     https://en.wikipedia.org/wiki/Cyclothone\n",
            "     https://en.wikipedia.org/wiki/Deep-sea_gigantism\n",
            "     https://en.wikipedia.org/wiki/Hydrothermal_vent\n",
            "     https://en.wikipedia.org/wiki/List_of_longest-living_organisms\n",
            "     https://en.wikipedia.org/wiki/Deepsea_Challenger\n",
            "     https://en.wikipedia.org/wiki/Deep-sea_exploration\n",
            "     https://en.wikipedia.org/wiki/Hydrothermal_vent_microbial_communities\n",
            "     https://en.wikipedia.org/wiki/Scaly-foot_gastropod\n",
            "     https://en.wikipedia.org/wiki/Extremophile\n"
          ]
        }
      ],
      "source": [
        "model = genai.GenerativeModel(\n",
        "    'gemini-1.5-flash', tools=[wikipedia_search], generation_config={'temperature': 0.6})\n",
        "\n",
        "chat = model.start_chat(enable_automatic_function_calling=True)\n",
        "\n",
        "query = \"Explain how deep-sea life survives.\"\n",
        "\n",
        "res = chat.send_message(instructions.format(query=query))"
      ]
    },
    {
      "cell_type": "code",
      "execution_count": null,
      "metadata": {
        "id": "1l8KWb13M_lJ",
        "colab": {
          "base_uri": "https://localhost:8080/",
          "height": 132
        },
        "outputId": "c793f8e0-25dc-4571-b3d9-ab9a8e2792f5"
      },
      "outputs": [
        {
          "output_type": "execute_result",
          "data": {
            "text/plain": [
              "<IPython.core.display.Markdown object>"
            ],
            "text/markdown": "> Deep-sea life faces extreme conditions: crushing pressure, freezing temperatures, and total darkness.  Organisms have adapted in remarkable ways to survive.  Many are small and gelatinous to withstand pressure, relying on marine snow (sinking organic matter) or chemosynthesis (using chemicals for energy) near hydrothermal vents for food.  Bioluminescence (creating light) is common for attracting prey or mates.  Some animals have symbiotic relationships with bacteria, providing energy.  In short, deep-sea survival hinges on adaptations to pressure, food scarcity, darkness, and extreme temperatures, often involving unique biological strategies and partnerships.\n"
          },
          "metadata": {},
          "execution_count": 15
        }
      ],
      "source": [
        "to_markdown(res.text)"
      ]
    },
    {
      "cell_type": "markdown",
      "metadata": {
        "id": "ua7DPlj7HZyO"
      },
      "source": [
        "Check for additional citations:"
      ]
    },
    {
      "cell_type": "code",
      "execution_count": null,
      "metadata": {
        "id": "ASotq7EcHAeo",
        "colab": {
          "base_uri": "https://localhost:8080/",
          "height": 35
        },
        "outputId": "d0b0b3d2-b680-4f2f-d859-967256440649"
      },
      "outputs": [
        {
          "output_type": "execute_result",
          "data": {
            "text/plain": [
              "'No citations found'"
            ],
            "application/vnd.google.colaboratory.intrinsic+json": {
              "type": "string"
            }
          },
          "metadata": {},
          "execution_count": 16
        }
      ],
      "source": [
        "res.candidates[0].citation_metadata or 'No citations found'"
      ]
    },
    {
      "cell_type": "markdown",
      "metadata": {
        "id": "A0CfKMjYFSQm"
      },
      "source": [
        "That looks like it worked. You can go through the chat history to see the details of what was sent and received in the function calls:"
      ]
    },
    {
      "cell_type": "code",
      "execution_count": null,
      "metadata": {
        "id": "_9h2b8saNnxh",
        "colab": {
          "base_uri": "https://localhost:8080/"
        },
        "outputId": "7608f804-83a7-4fb2-94ac-10e13ed30ee8"
      },
      "outputs": [
        {
          "output_type": "stream",
          "name": "stdout",
          "text": [
            "user -> {\n",
            "  \"text\": \"You have access to the Wikipedia API which you will be using\\nto answer a user's query. Your job is to generate a list of search queries which\\nmight answer a user's question. Be creative by using various key-phrases from\\nthe user's query. To generate variety of queries, ask questions which are\\nrelated to  the user's query that might help to find the answer. The more\\nqueries you generate the better are the odds of you finding the correct answer.\\nHere is an example:\\n\\nuser: Tell me about Cricket World cup 2023 winners.\\n\\nfunction_call: wikipedia_search(['What is the name of the team that\\nwon the Cricket World Cup 2023?', 'Who was the captain of the Cricket World Cup\\n2023 winning team?', 'Which country hosted the Cricket World Cup 2023?', 'What\\nwas the venue of the Cricket World Cup 2023 final match?', 'Cricket World cup 2023',\\n'Who lifted the Cricket World Cup 2023 trophy?'])\\n\\nThe search function will return a list of article summaries, use these to\\nanswer the  user's question.\\n\\nHere is the user's query: Explain how deep-sea life survives.\\n\"\n",
            "}\n",
            "------------------------------------------------------------\n",
            "model -> {\n",
            "  \"function_call\": {\n",
            "    \"name\": \"wikipedia_search\",\n",
            "    \"args\": {\n",
            "      \"search_queries\": [\n",
            "        \"How do deep sea creatures survive?\",\n",
            "        \"What adaptations do deep sea animals have?\",\n",
            "        \"How do deep sea animals cope with pressure?\",\n",
            "        \"How do deep sea animals find food?\",\n",
            "        \"Deep sea life adaptations\",\n",
            "        \"Deep sea ecosystem\",\n",
            "        \"Survival mechanisms of deep sea organisms\",\n",
            "        \"Challenges of deep sea life\",\n",
            "        \"Deep sea hydrothermal vents\",\n",
            "        \"Deep sea extremophiles\"\n",
            "      ]\n",
            "    }\n",
            "  }\n",
            "}\n",
            "------------------------------------------------------------\n",
            "user -> {\n",
            "  \"function_response\": {\n",
            "    \"name\": \"wikipedia_search\",\n",
            "    \"response\": {\n",
            "      \"result\": [\n",
            "        \"Deep-sea creatures survive due to several adaptations:\\n\\n* **Pressure:** Many are small (under 25 cm), have gelatinous flesh, minimal skeletal structure, and lack cavities that would collapse under pressure.\\n\\n* **Food Sources:**  They rely on marine snow (sinking organic matter), whale falls (dead whale carcasses), and chemosynthesis at hydrothermal vents and cold seeps.\\n\\n* **Darkness:**  Creatures in the aphotic zone (perpetual darkness) either migrate to the photic zone (sunlit zone) for feeding, rely on sinking matter from above, or utilize chemosynthesis.  Those in the mesopelagic zone (twilight zone) may have large eyes and use bioluminescence for camouflage or communication.\\n\\n* **Temperature:** Deep-sea temperatures are generally constant and cold (below the thermocline).  Hydrothermal vents are an exception, with extreme temperature gradients.\\n\\n* **Salinity:** Salinity is generally constant except in specific areas like the Mediterranean Sea and brine pools (areas of high salinity).\\n\\n\\n\\n\\nBased on:\\n  https://en.wikipedia.org/wiki/Deep-sea_community\",\n",
            "        \"This text focuses on a video game and does not contain information about how deep-sea creatures survive.  Therefore, no relevant information can be extracted to answer the query.\\n\\n\\nBased on:\\n  https://en.wikipedia.org/wiki/Still_Wakes_the_Deep\",\n",
            "        \"Deep-sea fish adaptations include:\\n\\n* **Sensory adaptations:** Many are blind and rely on pressure and smell; those with eyes have large, sensitive eyes adapted to bioluminescence and can be up to 100 times more sensitive than human eyes; some species have multiple Rh1 genes for enhanced vision in dim light.  Many are dark-colored for camouflage.\\n\\n* **Bioluminescence:** Many species are bioluminescent, using light for attracting prey (like anglerfish), communication, mate finding, and predator distraction;  photophores (light-producing cells) are common; counter-illumination is used for camouflage in the mesopelagic zone.\\n\\n* **Buoyancy adaptations:**  Lack swim bladders due to high pressure; instead, they use oil droplets in eggs and larvae, high fat content, reduced bone structure, and water accumulation to maintain neutral buoyancy;  some utilize hydrofoils for hydrodynamic lift; bodies are often gelatinous.\\n\\n* **Feeding adaptations:** Long feelers locate prey; anglerfish have a bioluminescent lure; large mouths, sharp teeth, hinged jaws, and expandable bodies allow consumption of large prey (e.g., gulper eel).\\n\\n* **High-pressure adaptations:** High internal pressure; increased proportion of unsaturated fatty acids in cell membranes to maintain fluidity; altered metabolic reactions to minimize volume changes; modified protein structures to withstand pressure; some have a gelatinous layer for buoyancy and reduced drag; Na+/K+ -ATPase adaptations for osmoregulation under high pressure.\\n\\n\\nBased on:\\n  https://en.wikipedia.org/wiki/Deep-sea_fish\",\n",
            "        \"Deep sea animals, such as Cyclothone, have several adaptations to survive in the extreme conditions of the deep sea:\\n\\n* **Lack of gaseous structures:**  They do not possess lungs or air-pocket swim bladders, which would be affected by pressure changes at depth.\\n* **Bioluminescence:** Some species use bioluminescent spots on their underside (ventral side) for counter-illumination, blending in with the faint light from above and making them less visible to predators below.\\n* **Specialized sensory organs:** Males have a strong sense of smell, likely advantageous for finding mates in the dark.  Deep-sea organisms cannot rely on sight for many functions due to the lack of light.\\n\\n\\nThe deep sea is characterized by:\\n\\n* **Absence of light:** Less than 1% of light penetrates, making sight unreliable for prey capture, predator avoidance, and mate finding.\\n* **Cold temperatures:** Below 200 meters, the average temperature is 4\\u00b0C (39\\u00b0F).\\n* **Immense pressure:** Pressure increases by 1 atmosphere for every 10 meters of depth.\\n\\n\\nBased on:\\n  https://en.wikipedia.org/wiki/Cyclothone\",\n",
            "        \"Deep-sea gigantism, or abyssal gigantism, is the tendency for deep-sea animals to be larger than their shallower-water relatives.  Proposed explanations include:\\n\\n* **Colder temperature:**  Similar to Bergmann's rule (increasing size with decreasing temperature), lower temperatures lead to increased cell size and lifespan, resulting in larger maximum body size.  This is less significant in areas with reduced vertical temperature gradients.\\n\\n* **Food scarcity:** Larger size improves foraging efficiency for scattered resources, and larger offspring have greater initial food reserves for longer drifts.  Giant isopods, for example, gorge when food is available and can survive years without food. Kleiber's law (larger animals have more efficient metabolism) provides additional benefit under limited food.\\n\\n* **Reduced predation pressure:** Predation is significantly less frequent at greater depths.\\n\\n* **Increased dissolved oxygen:**  Dissolved oxygen increases with depth due to pressure, decreased salinity and temperature. Larger organisms can intake more oxygen, but risk oxygen toxicity.\\n\\n\\nDeep-sea gigantism is observed in various taxa, including crustaceans (mysids, euphausiids, decapods, isopods, amphipods), cephalopods, cnidarians, and Anguilliformes eels.  Examples include the giant isopod, giant ostracod, giant sea spider, giant amphipod, Japanese spider crab, giant oarfish, deepwater stingray, seven-arm octopus, and various squid species (colossal squid, giant squid, etc.).  Meiofauna, however, exhibit the opposite trend (decreasing size with depth).\\n\\n\\nBased on:\\n  https://en.wikipedia.org/wiki/Deep-sea_gigantism\",\n",
            "        \"Deep-sea organisms around hydrothermal vents depend on nutrients found in chemical deposits and hydrothermal fluids.  The vents support chemosynthetic bacteria, which form the base of the food chain, supporting diverse organisms including giant tube worms, clams, limpets, and shrimp.  These organisms use chemosynthesis, converting chemicals like hydrogen sulfide into energy, rather than sunlight.  Many organisms have symbiotic relationships with chemosynthetic bacteria; for example, tubeworms lack mouths and digestive tracts, absorbing nutrients produced by bacteria living in their tissues.  Other examples of adaptations include the Pompeii worm, which withstands temperatures up to 80 \\u00b0C (176 \\u00b0F), and the scaly-foot gastropod, which uses iron sulfides for its armor.  The symbiosis between macroinvertebrate hosts and chemoautotrophic microbial symbionts allows survival in the toxic conditions of the vents.  The  tubeworm's hemoglobin carries oxygen without interference from sulfide due to zinc ions binding the sulfide.  Some organisms, like pectinid scallops, have a lesser dependence on endosymbionts because they live at the edge of vent fields.  Some symbionts reduce sulfur compounds, while others are methanotrophs, reducing methane.  Even though chemosynthesis allows life without direct sunlight, these organisms still rely on the sun's byproduct: oxygen.  If the sun disappeared, vent life could persist for millennia.\\n\\n\\nBased on:\\n  https://en.wikipedia.org/wiki/Hydrothermal_vent\",\n",
            "        \"The provided text focuses on the lifespans of various organisms, not their survival mechanisms in the deep sea.  Therefore, no relevant information about the survival mechanisms of deep-sea organisms can be extracted from this source.\\n\\n\\nBased on:\\n  https://en.wikipedia.org/wiki/List_of_longest-living_organisms\",\n",
            "        \"The provided text focuses on the *history* and *technology* of deep-sea exploration, not the challenges of deep-sea *life*.  There is no information about the challenges faced by organisms living in the deep sea.\\n\\n\\nBased on:\\n  https://en.wikipedia.org/wiki/Deep-sea_exploration\",\n",
            "        \"**Deep Sea Hydrothermal Vents:**\\n\\n* **Location:** Where tectonic plates move apart, allowing water to enter the Earth's crust, be heated by magma, and return to the ocean carrying dissolved minerals and chemicals.\\n* **Types:** Diffuse vents (<30\\u00b0C), white smoker vents (200-330\\u00b0C), black smoker vents (300-400\\u00b0C). Black smoker waters are darkened by sulfide precipitates.\\n* **Energy Source:** Chemosynthesis, due to the absence of sunlight. Symbiotic bacteria and archaea form the base of the food chain.\\n* **Temperature:** Relatively constant 0\\u20133 \\u00b0C in deep sea except near vents (up to 407 \\u00b0C, prevented from boiling by high pressure).\\n* **Pressure:** Increases by about 10 MPa per kilometer of depth.\\n* **Salinity:** Relatively constant at 35 parts per thousand.\\n* **Microbial Communities:** Include unicellular organisms (in microbial mats, free-floating, or endosymbiotic with animals), chemolithoautotrophic bacteria (derive energy from geological activity), and viruses.\\n* **Adaptations:** Microbes are hyperthermophiles (grow above 90\\u00b0C), possessing proteins with extended stability at high temperatures and mechanisms to protect DNA (high salt concentrations, histone-like proteins). Symbiotic relationships allow detoxification of sulfide-rich waters.\\n* **Microbial Biogeochemistry:** Microbial communities transform energy and minerals into organic matter.  Hydrothermal vent fluids are rich in iron, manganese, and sulfur compounds. Microbes oxidize or reduce elements, creating a web of chemical pathways (carbon, sulfur, nitrogen, hydrogen).\\n* **Carbon Cycle:** High concentrations of methane and carbon monoxide in vent plumes. Chemoautotrophic bacteria fix inorganic carbon (CO2) using energy from oxidation of sulfur, iron, manganese, hydrogen, and methane.  Metabolic pathways include Calvin-Benson-Bassham cycle, reductive TCA cycle, 3-hydroxypropionate cycle, and reductive acetyl-CoA pathway.  Methane metabolism is significant, with methanotrophs (using methane as energy and carbon source) and methanogens (producing methane).\\n* **Sulfur Cycle:**  Abundant sulfide (H2S) is oxidized to sulfite, sulfate, and elemental sulfur for energy.  Pathways include SOX pathway and dissimilatory oxidation.  Sulfate reduction uses sulfate as an electron acceptor.\\n* **Nitrogen Cycle:** Deep ocean water is the largest reservoir of nitrogen.  Biological nitrogen fixation is important, especially in microbial mats.  Other processes likely present include assimilation, nitrification, denitrification, anammox, mineralization, and dissimilatory nitrate reduction to ammonium.\\n* **Bacterial Diversity:** Chemolithotrophs are most abundant, using reduced chemical species (often sulfur) as energy sources. Sulfur-oxidizing, methane-oxidizing, hydrogen-oxidizing, iron- and manganese-oxidizing bacteria are present.  Proteobacteria is a dominant phyla.\\n* **Symbiotic Relationships:** Symbiotic chemosynthesis is crucial.  Symbionts include deep-sea clams, mussels, and tube worms.  Trophosomes are specialized organs for symbionts.\\n* **DNA Repair:** Microbial communities are enriched in genes for DNA mismatch repair and homologous recombination.\\n* **Viruses:** Abundant in hydrothermal vents, potentially playing both parasitic (causing mortality) and mutualistic (gene transfer, enhanced survival) roles.  Temperate phages may confer fitness benefits to hosts through lysogenic conversion and auxiliary metabolic genes.  Viral genes may manipulate bacterial metabolism, aiding adaptation to the extreme environment.  A connection between vent viruses and those in the Earth's crust is likely.\\n\\n\\n\\nBased on:\\n  https://en.wikipedia.org/wiki/Hydrothermal_vent_microbial_communities\"\n",
            "      ]\n",
            "    }\n",
            "  }\n",
            "}\n",
            "------------------------------------------------------------\n",
            "model -> {\n",
            "  \"text\": \"Deep-sea life faces extreme conditions: crushing pressure, freezing temperatures, and total darkness.  Organisms have adapted in remarkable ways to survive.  Many are small and gelatinous to withstand pressure, relying on marine snow (sinking organic matter) or chemosynthesis (using chemicals for energy) near hydrothermal vents for food.  Bioluminescence (creating light) is common for attracting prey or mates.  Some animals have symbiotic relationships with bacteria, providing energy.  In short, deep-sea survival hinges on adaptations to pressure, food scarcity, darkness, and extreme temperatures, often involving unique biological strategies and partnerships.\\n\"\n",
            "}\n",
            "------------------------------------------------------------\n"
          ]
        }
      ],
      "source": [
        "for content in chat.history:\n",
        "  part = content.parts[0]\n",
        "\n",
        "  print(f'{content.role} -> ', end='')\n",
        "  print(json.dumps(type(part).to_dict(part), indent=2))\n",
        "  print('---' * 20)\n"
      ]
    },
    {
      "cell_type": "markdown",
      "metadata": {
        "id": "WDWc9Fj9Ig6A"
      },
      "source": [
        "In the chat history you can see all 4 steps:\n",
        "\n",
        "1. The user sent the query.\n",
        "2. The model replied with a `genai.protos.FunctionCall` calling the `wikipedia_search` with a number of relevant searches.\n",
        "3. Because you set `enable_automatic_function_calling=True` when creating the `genai.ChatSession`, it  executed the search function and returned the list of article summaries to the model.\n",
        "4. Folliwing the instructions in the prompt, the model generated a final answer based on those summaries.\n"
      ]
    },
    {
      "cell_type": "markdown",
      "metadata": {
        "id": "PJP1EAgfnPUA"
      },
      "source": [
        "## [Optional] Manually execute the function call"
      ]
    },
    {
      "cell_type": "markdown",
      "metadata": {
        "id": "Sa5ke2ssKl7M"
      },
      "source": [
        "If you want to understand what happened behind the scenes, this section executes the `FunctionCall` manually to demonstrate."
      ]
    },
    {
      "cell_type": "code",
      "execution_count": null,
      "metadata": {
        "id": "wavbHrL3K5vo"
      },
      "outputs": [],
      "source": [
        "chat = model.start_chat()"
      ]
    },
    {
      "cell_type": "code",
      "execution_count": null,
      "metadata": {
        "id": "ON4LTcmiLs2E"
      },
      "outputs": [],
      "source": [
        "result = chat.send_message(instructions.format(query=query))"
      ]
    },
    {
      "cell_type": "markdown",
      "metadata": {
        "id": "__JN3YuHe7fR"
      },
      "source": [
        "Initially the model returns a FunctionCall:"
      ]
    },
    {
      "cell_type": "code",
      "execution_count": null,
      "metadata": {
        "id": "Lgngdvcdi06F",
        "colab": {
          "base_uri": "https://localhost:8080/"
        },
        "outputId": "cdf93e89-a853-4575-daa2-b3d337d5f0fb"
      },
      "outputs": [
        {
          "output_type": "stream",
          "name": "stdout",
          "text": [
            "{\n",
            "  \"name\": \"wikipedia_search\",\n",
            "  \"args\": {\n",
            "    \"search_queries\": [\n",
            "      \"How do deep sea creatures survive?\",\n",
            "      \"What are the adaptations of deep-sea life?\",\n",
            "      \"How do deep-sea organisms cope with pressure?\",\n",
            "      \"How do deep-sea organisms obtain food?\",\n",
            "      \"Deep sea life survival strategies\",\n",
            "      \"Deep sea ecosystem\",\n",
            "      \"Adaptations of deep sea animals\",\n",
            "      \"Challenges of deep sea survival\"\n",
            "    ]\n",
            "  }\n",
            "}\n"
          ]
        }
      ],
      "source": [
        "fc = result.candidates[0].content.parts[0].function_call\n",
        "fc = type(fc).to_dict(fc)\n",
        "print(json.dumps(fc, indent=2))"
      ]
    },
    {
      "cell_type": "code",
      "execution_count": null,
      "metadata": {
        "id": "Bfp1Kqv7PE8N",
        "colab": {
          "base_uri": "https://localhost:8080/",
          "height": 35
        },
        "outputId": "2152d56c-06c6-43aa-8f29-b55bdf4d5e6b"
      },
      "outputs": [
        {
          "output_type": "execute_result",
          "data": {
            "text/plain": [
              "'wikipedia_search'"
            ],
            "application/vnd.google.colaboratory.intrinsic+json": {
              "type": "string"
            }
          },
          "metadata": {},
          "execution_count": 21
        }
      ],
      "source": [
        "fc['name']"
      ]
    },
    {
      "cell_type": "markdown",
      "metadata": {
        "id": "xpD3axtDmfZb"
      },
      "source": [
        "Call the function with generated arguments to get the results."
      ]
    },
    {
      "cell_type": "code",
      "execution_count": null,
      "metadata": {
        "id": "Ek4g-CTAPSou",
        "colab": {
          "base_uri": "https://localhost:8080/",
          "height": 989
        },
        "outputId": "ef8cf3ca-dc53-4a62-cae0-64d1837dd37e"
      },
      "outputs": [
        {
          "output_type": "stream",
          "name": "stdout",
          "text": [
            "Searching for \"How do deep sea creatures survive?\"\n",
            "Related search terms: ['Deep-sea community', 'Deep sea', 'Still Wakes the Deep']\n",
            "Fetching page: \"Deep-sea community\"\n",
            "Information Source: https://en.wikipedia.org/wiki/Deep-sea_community\n",
            "Fetching page: \"Deep sea\"\n",
            "Information Source: https://en.wikipedia.org/wiki/Deep_sea\n",
            "Fetching page: \"Still Wakes the Deep\"\n",
            "Information Source: https://en.wikipedia.org/wiki/Still_Wakes_the_Deep\n",
            "Searching for \"What are the adaptations of deep-sea life?\"\n",
            "Related search terms: ['Deep sea', 'Deep-sea fish', 'Cyclothone']\n",
            "Fetching page: \"Deep-sea fish\"\n",
            "Information Source: https://en.wikipedia.org/wiki/Deep-sea_fish\n",
            "Fetching page: \"Cyclothone\"\n",
            "Information Source: https://en.wikipedia.org/wiki/Cyclothone\n",
            "Searching for \"How do deep-sea organisms cope with pressure?\"\n",
            "Related search terms: ['Deep sea', 'Deep-sea fish', 'Deep-sea community']\n",
            "Searching for \"How do deep-sea organisms obtain food?\"\n",
            "Related search terms: ['Hydrothermal vent', 'Deep-sea community', 'Food']\n",
            "Fetching page: \"Hydrothermal vent\"\n",
            "Information Source: https://en.wikipedia.org/wiki/Hydrothermal_vent\n",
            "Fetching page: \"Food\"\n",
            "Information Source: https://en.wikipedia.org/wiki/Food\n",
            "Searching for \"Deep sea life survival strategies\"\n",
            "Related search terms: ['Thalassophobia', 'Anglerfish', 'Brine pool']\n",
            "Fetching page: \"Thalassophobia\"\n",
            "Information Source: https://en.wikipedia.org/wiki/Thalassophobia\n",
            "Fetching page: \"Anglerfish\"\n",
            "Information Source: https://en.wikipedia.org/wiki/Anglerfish\n",
            "Fetching page: \"Brine pool\"\n",
            "Information Source: https://en.wikipedia.org/wiki/Brine_pool\n",
            "Searching for \"Deep sea ecosystem\"\n",
            "Related search terms: ['Deep-sea community', 'Deep sea', 'Deep-sea fish']\n",
            "Searching for \"Adaptations of deep sea animals\"\n",
            "Related search terms: ['Deep-sea gigantism', 'Deep sea', 'Deep-sea community']\n",
            "Fetching page: \"Deep-sea gigantism\"\n",
            "Information Source: https://en.wikipedia.org/wiki/Deep-sea_gigantism\n",
            "Searching for \"Challenges of deep sea survival\"\n",
            "Related search terms: ['Deepsea Challenger', 'Deep-sea community', 'Stranded Deep']\n",
            "Fetching page: \"Deepsea Challenger\"\n",
            "Information Source: https://en.wikipedia.org/wiki/Deepsea_Challenger\n",
            "Fetching page: \"Stranded Deep\"\n",
            "Information Source: https://en.wikipedia.org/wiki/Stranded_Deep\n",
            "Information Sources:\n",
            "     https://en.wikipedia.org/wiki/Deep-sea_community\n",
            "     https://en.wikipedia.org/wiki/Deep_sea\n",
            "     https://en.wikipedia.org/wiki/Still_Wakes_the_Deep\n",
            "     https://en.wikipedia.org/wiki/Deep-sea_fish\n",
            "     https://en.wikipedia.org/wiki/Cyclothone\n",
            "     https://en.wikipedia.org/wiki/Hydrothermal_vent\n",
            "     https://en.wikipedia.org/wiki/Food\n",
            "     https://en.wikipedia.org/wiki/Thalassophobia\n",
            "     https://en.wikipedia.org/wiki/Anglerfish\n",
            "     https://en.wikipedia.org/wiki/Brine_pool\n",
            "     https://en.wikipedia.org/wiki/Deep-sea_gigantism\n",
            "     https://en.wikipedia.org/wiki/Deepsea_Challenger\n",
            "     https://en.wikipedia.org/wiki/Stranded_Deep\n"
          ]
        }
      ],
      "source": [
        "summaries = wikipedia_search(**fc['args'])"
      ]
    },
    {
      "cell_type": "markdown",
      "metadata": {
        "id": "kv4WGnG_gT3F"
      },
      "source": [
        "Now send the `FunctionResult` to the model."
      ]
    },
    {
      "cell_type": "code",
      "execution_count": null,
      "metadata": {
        "id": "bcLuieHqj9PW",
        "colab": {
          "base_uri": "https://localhost:8080/",
          "height": 132
        },
        "outputId": "8aa4366a-42be-4c0f-d27a-3ee24afffc41"
      },
      "outputs": [
        {
          "output_type": "execute_result",
          "data": {
            "text/plain": [
              "<IPython.core.display.Markdown object>"
            ],
            "text/markdown": "> Deep-sea life faces extreme pressure, cold temperatures, and darkness.  Organisms have adapted in various ways to survive.  Many are small, with gelatinous bodies to withstand pressure.  They often have slow metabolisms and feed on whatever limited resources are available, such as marine snow (organic matter falling from above), or chemosynthesis around hydrothermal vents.  Some have bioluminescence for attracting prey or mates.  Many have adaptations for pressure tolerance, including specialized proteins and cell membranes.  The specifics vary greatly depending on the species and depth.\n"
          },
          "metadata": {},
          "execution_count": 23
        }
      ],
      "source": [
        "response = chat.send_message(\n",
        "    genai.protos.Content(\n",
        "      parts=[genai.protos.Part(\n",
        "          function_response = genai.protos.FunctionResponse(\n",
        "            name='wikipedia_search',\n",
        "            response={'result': summaries}\n",
        "          )\n",
        "      )]\n",
        "    )\n",
        ")\n",
        "\n",
        "to_markdown(response.text)"
      ]
    },
    {
      "cell_type": "markdown",
      "metadata": {
        "id": "L2Vfv8xpmuV1"
      },
      "source": [
        "## Re-ranking the search results"
      ]
    },
    {
      "cell_type": "markdown",
      "metadata": {
        "id": "cQ3JUJLeGGzA"
      },
      "source": [
        "Helper function to embed the content:"
      ]
    },
    {
      "cell_type": "code",
      "execution_count": null,
      "metadata": {
        "id": "mSkE7EynJBwF"
      },
      "outputs": [],
      "source": [
        "def get_embeddings(content: list[str]) -> np.ndarray:\n",
        "  embeddings = genai.embed_content('models/embedding-001', content, 'SEMANTIC_SIMILARITY')\n",
        "  embds = embeddings.get('embedding', None)\n",
        "  embds = np.array(embds).reshape(len(embds), -1)\n",
        "  return embds"
      ]
    },
    {
      "cell_type": "markdown",
      "metadata": {
        "id": "tip8ArqJf_ep"
      },
      "source": [
        "Please refer to the [embeddings guide](https://ai.google.dev/docs/embeddings_guide) for more information on embeddings."
      ]
    },
    {
      "cell_type": "markdown",
      "metadata": {
        "id": "nSPyycFuFj-_"
      },
      "source": [
        "Your next step is to define functions that you can use to calculate similarity scores between two embedding vectors. These scores will help you decide which embedding vector is the most relevant vector to the user's query.\n"
      ]
    },
    {
      "cell_type": "markdown",
      "metadata": {
        "id": "ltbB0vDsKQtI"
      },
      "source": [
        "You will now implement cosine similarity as your metric. Here returned embedding vectors will be of unit length and hence their L1 norm (`np.linalg.norm()`) will be ~1. Hence, calculating cosine similarity is esentially same as calculating their dot product score."
      ]
    },
    {
      "cell_type": "code",
      "execution_count": null,
      "metadata": {
        "id": "9iDFdzq_JWJW"
      },
      "outputs": [],
      "source": [
        "def dot_product(a: np.ndarray, b: np.ndarray):\n",
        "  return (a @ b.T)"
      ]
    },
    {
      "cell_type": "markdown",
      "metadata": {
        "id": "MrF_1c_M_Hw3"
      },
      "source": [
        "### Similarity with user's query\n",
        "\n",
        "Now it's time to find the most relevant search result returned by the Wikipedia API.\n",
        "\n",
        "Use Gemini API to get embeddings for user's query and search results."
      ]
    },
    {
      "cell_type": "code",
      "execution_count": null,
      "metadata": {
        "id": "gK9ryjftGDNe"
      },
      "outputs": [],
      "source": [
        "search_res = get_embeddings(summaries)\n",
        "embedded_query = get_embeddings([query])"
      ]
    },
    {
      "cell_type": "markdown",
      "metadata": {
        "id": "2wwWq30uGRG3"
      },
      "source": [
        "Calculate similarity score:"
      ]
    },
    {
      "cell_type": "code",
      "execution_count": null,
      "metadata": {
        "id": "jWlFNYIsGV0X"
      },
      "outputs": [],
      "source": [
        "sim_value = dot_product(search_res, embedded_query)"
      ]
    },
    {
      "cell_type": "markdown",
      "metadata": {
        "id": "bJW1pQQXG2w2"
      },
      "source": [
        "using `np.argmax` best candidate is selected.\n",
        "\n",
        "**Users's Input:** Explain how deep-sea life survives.\n",
        "\n",
        "**Answer:**"
      ]
    },
    {
      "cell_type": "code",
      "execution_count": null,
      "metadata": {
        "id": "8vDMDnCsG8Wn",
        "colab": {
          "base_uri": "https://localhost:8080/"
        },
        "outputId": "43b03bc4-0b72-456f-bac9-7e25cbbb4873"
      },
      "outputs": [
        {
          "output_type": "stream",
          "name": "stdout",
          "text": [
            "This document is about a video game and does not contain information about how deep sea creatures survive.\n",
            "\n",
            "\n",
            "Based on:\n",
            "  https://en.wikipedia.org/wiki/Still_Wakes_the_Deep\n"
          ]
        }
      ],
      "source": [
        "print(summaries[np.argmax(sim_value)])"
      ]
    },
    {
      "cell_type": "markdown",
      "metadata": {
        "id": "Ozn6mIFvoyJU"
      },
      "source": [
        "### Similarity with Hypothetical Document Embeddings (HyDE)\n",
        "\n",
        "Drawing inspiration from [Gao et al](https://arxiv.org/abs/2212.10496) the objective here is to generate a template answer to the user's query using `gemini-1.5-flash`'s internal knowledge. This hypothetical answer will serve as a baseline to calculate relevance of all the search results."
      ]
    },
    {
      "cell_type": "code",
      "execution_count": null,
      "metadata": {
        "id": "J7m5KAkMREBH",
        "colab": {
          "base_uri": "https://localhost:8080/",
          "height": 312
        },
        "outputId": "cf2c2e62-8ca0-414d-e82a-b4b7100eee85"
      },
      "outputs": [
        {
          "output_type": "execute_result",
          "data": {
            "text/plain": [
              "<IPython.core.display.Markdown object>"
            ],
            "text/markdown": "> Oh wow, deep-sea life!  It's amazing how they manage it, isn't it?  It's a completely different world down there.  Essentially, they've adapted to overcome three major challenges:  the crushing pressure, the absolute lack of sunlight, and the incredibly scarce food supply.\n> \n> The pressure thing is solved with some seriously clever biochemistry.  Their bodies are essentially built with [Specific biochemical adaptation 1] and [Specific biochemical adaptation 2] that allow their cells and tissues to withstand the immense pressure without imploding.  Think of it like having a super-strong, flexible suit of armor built right into your cells.\n> \n> The lack of sunlight?  That's where things get *really* interesting. Forget photosynthesis –  most deep-sea creatures rely on [Alternative energy source 1] like chemosynthesis in hydrothermal vents, or they've developed incredible sensory systems to detect even the faintest [Specific sensory stimuli] to find food. Some species even engage in [Unique feeding strategy] to maximize their meager resources.\n> \n> And the food?  Let's just say it's a \"feast or famine\" existence.  They have incredibly efficient metabolisms, often slowing down their [Metabolic function] to conserve energy between meals, which might be days, weeks, or even months apart.  They've also evolved [Adaptation for scavenging/predation] to make the most of whatever limited food does drift down from the surface – even if it's just a tiny bit of [Type of organic matter].\n> \n> So, in short, deep-sea life isn't just surviving, it's thriving... in its own incredibly unique and adapted way. They've essentially become masters of efficiency, utilizing every available resource and adapting their very biology to overcome the extreme challenges of their environment. It’s truly a testament to the incredible resilience of life.\n"
          },
          "metadata": {},
          "execution_count": 29
        }
      ],
      "source": [
        "hypothetical_ans_model = genai.GenerativeModel('gemini-1.5-flash')\n",
        "res = hypothetical_ans_model.generate_content(f\"\"\"Generate a hypothetical answer\n",
        "to the user's query by using your own knowledge. Assume that you know everything\n",
        "about the said topic. Do not use factual information, instead use placeholders\n",
        "to complete your answer. Your answer should feel like it has been written by a human.\n",
        "\n",
        "query: {query}\"\"\")\n",
        "\n",
        "to_markdown(res.text)"
      ]
    },
    {
      "cell_type": "markdown",
      "metadata": {
        "id": "85f4MpLgrYbW"
      },
      "source": [
        "Use Gemini API to get embeddings for the baseline answer and compare them with search results"
      ]
    },
    {
      "cell_type": "code",
      "execution_count": null,
      "metadata": {
        "id": "fSI6-5eYI3me"
      },
      "outputs": [],
      "source": [
        "hypothetical_ans = get_embeddings([res.text])"
      ]
    },
    {
      "cell_type": "markdown",
      "metadata": {
        "id": "WxYGEWbqrh44"
      },
      "source": [
        "Calculate similarity scores to rank the search results"
      ]
    },
    {
      "cell_type": "code",
      "execution_count": null,
      "metadata": {
        "id": "99sjvMtlJfL_"
      },
      "outputs": [],
      "source": [
        "sim_value = dot_product(search_res, hypothetical_ans)"
      ]
    },
    {
      "cell_type": "code",
      "execution_count": null,
      "metadata": {
        "id": "C32IhIapQFNa",
        "colab": {
          "base_uri": "https://localhost:8080/"
        },
        "outputId": "24f8080c-d5bc-422a-fa65-9065a4a3f176"
      },
      "outputs": [
        {
          "output_type": "execute_result",
          "data": {
            "text/plain": [
              "array([[0.85123131],\n",
              "       [0.84652198],\n",
              "       [0.72562176],\n",
              "       [0.7969651 ],\n",
              "       [0.81950443],\n",
              "       [0.8053952 ],\n",
              "       [0.7567845 ],\n",
              "       [0.71918985],\n",
              "       [0.75196504],\n",
              "       [0.8035631 ],\n",
              "       [0.76306842],\n",
              "       [0.77025518],\n",
              "       [0.76567088]])"
            ]
          },
          "metadata": {},
          "execution_count": 32
        }
      ],
      "source": [
        "sim_value"
      ]
    },
    {
      "cell_type": "markdown",
      "metadata": {
        "id": "wJ7pklxursSk"
      },
      "source": [
        "using `np.argmax` best candidate is selected.\n",
        "\n",
        "**Users's Input:** Explain how deep-sea life survives.\n",
        "\n",
        "**Answer:**"
      ]
    },
    {
      "cell_type": "code",
      "execution_count": null,
      "metadata": {
        "id": "MzTfyU_mJ8-M",
        "colab": {
          "base_uri": "https://localhost:8080/",
          "height": 190
        },
        "outputId": "c64202ee-b2e0-406f-f21a-dcf576379af5"
      },
      "outputs": [
        {
          "output_type": "execute_result",
          "data": {
            "text/plain": [
              "<IPython.core.display.Markdown object>"
            ],
            "text/markdown": "> Deep-sea creatures survive by adapting to the extreme pressure, temperature, and darkness of their environment.  Adaptations include: small size (generally not exceeding 25 cm), gelatinous flesh, minimal skeletal structure, elimination of cavities (like swim bladders) to withstand pressure; and tolerance for cold, constant temperatures (below the thermocline)  or extreme temperature fluctuations near hydrothermal vents.  Food sources include marine snow, occasional surface blooms of plankton, whale falls, and chemosynthesis at hydrothermal vents and cold seeps.  Chemosynthetic bacteria provide energy at vents and seeps, forming the base of the food web.  Many organisms in the mesopelagic and bathypelagic zones make vertical migrations to feed, utilizing swim bladders (though some have lost them).  In the aphotic zone, organisms rely on material sinking from above or chemosynthesis.\n> \n> \n> Based on:\n>   https://en.wikipedia.org/wiki/Deep-sea_community"
          },
          "metadata": {},
          "execution_count": 33
        }
      ],
      "source": [
        "to_markdown(summaries[np.argmax(sim_value)])"
      ]
    },
    {
      "cell_type": "markdown",
      "metadata": {
        "id": "UjDN2OUpsL6M"
      },
      "source": [
        "You have now created a search re-ranking engine using embeddings!"
      ]
    },
    {
      "cell_type": "markdown",
      "metadata": {
        "id": "AKH2vs2Lc1R1"
      },
      "source": [
        "## Next steps\n",
        "\n",
        "I hope you found this example helpful! Check out more examples in the [Gemini Guide](https://github.com/google-gemini/gemini-guide/) to learn more."
      ]
    }
  ],
  "metadata": {
    "colab": {
      "name": "Search_reranking_using_embeddings.ipynb",
      "provenance": [],
      "include_colab_link": true
    },
    "kernelspec": {
      "display_name": "Python 3",
      "name": "python3"
    }
  },
  "nbformat": 4,
  "nbformat_minor": 0
}