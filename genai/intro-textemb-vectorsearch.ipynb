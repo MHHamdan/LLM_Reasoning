{
 "cells": [
  {
   "cell_type": "code",
   "execution_count": null,
   "metadata": {
    "id": "c3_K0GGSTrhd"
   },
   "outputs": [],
   "source": [
    "# Copyright 2023 Google LLC\n",
    "#\n",
    "# Licensed under the Apache License, Version 2.0 (the \"License\");\n",
    "# you may not use this file except in compliance with the License.\n",
    "# You may obtain a copy of the License at\n",
    "#\n",
    "#     https://www.apache.org/licenses/LICENSE-2.0\n",
    "#\n",
    "# Unless required by applicable law or agreed to in writing, software\n",
    "# distributed under the License is distributed on an \"AS IS\" BASIS,\n",
    "# WITHOUT WARRANTIES OR CONDITIONS OF ANY KIND, either express or implied.\n",
    "# See the License for the specific language governing permissions and\n",
    "# limitations under the License."
   ]
  },
  {
   "cell_type": "markdown",
   "metadata": {
    "id": "7VQkf8sFTeDo"
   },
   "source": [
    "# Getting Started with Text Embeddings + Vertex AI Vector Search\n",
    "\n",
    "\n",
    "<table align=\"left\">\n",
    "  <td style=\"text-align: center\">\n",
    "    <a href=\"https://colab.research.google.com/github/GoogleCloudPlatform/generative-ai/blob/main/embeddings/intro-textemb-vectorsearch.ipynb\">\n",
    "      <img width=\"32px\" src=\"https://www.gstatic.com/pantheon/images/bigquery/welcome_page/colab-logo.svg\" alt=\"Google Colaboratory logo\"><br> Open in Colab\n",
    "    </a>\n",
    "  </td>\n",
    "  <td style=\"text-align: center\">\n",
    "    <a href=\"https://console.cloud.google.com/vertex-ai/colab/import/https:%2F%2Fraw.githubusercontent.com%2FGoogleCloudPlatform%2Fgenerative-ai%2Fmain%2Fembeddings%2Fintro-textemb-vectorsearch.ipynb\">\n",
    "      <img width=\"32px\" src=\"https://lh3.googleusercontent.com/JmcxdQi-qOpctIvWKgPtrzZdJJK-J3sWE1RsfjZNwshCFgE_9fULcNpuXYTilIR2hjwN\" alt=\"Google Cloud Colab Enterprise logo\"><br> Open in Colab Enterprise\n",
    "    </a>\n",
    "  </td>\n",
    "  <td style=\"text-align: center\">\n",
    "    <a href=\"https://console.cloud.google.com/vertex-ai/workbench/deploy-notebook?download_url=https://raw.githubusercontent.com/GoogleCloudPlatform/generative-ai/main/embeddings/intro-textemb-vectorsearch.ipynb\">\n",
    "      <img src=\"https://www.gstatic.com/images/branding/gcpiconscolors/vertexai/v1/32px.svg\" alt=\"Vertex AI logo\"><br> Open in Vertex AI Workbench\n",
    "    </a>\n",
    "  </td>\n",
    "  <td style=\"text-align: center\">\n",
    "    <a href=\"https://console.cloud.google.com/bigquery/import?url=https://github.com/GoogleCloudPlatform/generative-ai/blob/main/embeddings/intro-textemb-vectorsearch.ipynb\">\n",
    "      <img src=\"https://www.gstatic.com/images/branding/gcpiconscolors/bigquery/v1/32px.svg\" alt=\"BigQuery Studio logo\"><br> Open in BigQuery Studio\n",
    "    </a>\n",
    "  </td>\n",
    "  <td style=\"text-align: center\">\n",
    "    <a href=\"https://github.com/GoogleCloudPlatform/generative-ai/blob/main/embeddings/intro-textemb-vectorsearch.ipynb\">\n",
    "      <img width=\"32px\" src=\"https://upload.wikimedia.org/wikipedia/commons/9/91/Octicons-mark-github.svg\" alt=\"GitHub logo\"><br> View on GitHub\n",
    "    </a>\n",
    "  </td>\n",
    "  <td style=\"text-align: center\">\n",
    "    <a href=\"https://www.cloudskillsboost.google/catalog_lab/31063\">\n",
    "      <img width=\"32px\" src=\"https://cdn.qwiklabs.com/assets/gcp_cloud-e3a77215f0b8bfa9b3f611c0d2208c7e8708ed31.svg\" alt=\"Google Cloud logo\"><br> Open in  Cloud Skills Boost\n",
    "    </a>\n",
    "  </td>\n",
    "</table>\n",
    "\n",
    "<div style=\"clear: both;\"></div>\n",
    "\n",
    "<b>Share to:</b>\n",
    "\n",
    "<a href=\"https://www.linkedin.com/sharing/share-offsite/?url=https%3A//github.com/GoogleCloudPlatform/generative-ai/blob/main/embeddings/intro-textemb-vectorsearch.ipynb\" target=\"_blank\">\n",
    "  <img width=\"20px\" src=\"https://upload.wikimedia.org/wikipedia/commons/8/81/LinkedIn_icon.svg\" alt=\"LinkedIn logo\">\n",
    "</a>\n",
    "\n",
    "<a href=\"https://bsky.app/intent/compose?text=https%3A//github.com/GoogleCloudPlatform/generative-ai/blob/main/embeddings/intro-textemb-vectorsearch.ipynb\" target=\"_blank\">\n",
    "  <img width=\"20px\" src=\"https://upload.wikimedia.org/wikipedia/commons/7/7a/Bluesky_Logo.svg\" alt=\"Bluesky logo\">\n",
    "</a>\n",
    "\n",
    "<a href=\"https://twitter.com/intent/tweet?url=https%3A//github.com/GoogleCloudPlatform/generative-ai/blob/main/embeddings/intro-textemb-vectorsearch.ipynb\" target=\"_blank\">\n",
    "  <img width=\"20px\" src=\"https://upload.wikimedia.org/wikipedia/commons/5/53/X_logo_2023_original.svg\" alt=\"X logo\">\n",
    "</a>\n",
    "\n",
    "<a href=\"https://reddit.com/submit?url=https%3A//github.com/GoogleCloudPlatform/generative-ai/blob/main/embeddings/intro-textemb-vectorsearch.ipynb\" target=\"_blank\">\n",
    "  <img width=\"20px\" src=\"https://redditinc.com/hubfs/Reddit%20Inc/Brand/Reddit_Logo.png\" alt=\"Reddit logo\">\n",
    "</a>\n",
    "\n",
    "<a href=\"https://www.facebook.com/sharer/sharer.php?u=https%3A//github.com/GoogleCloudPlatform/generative-ai/blob/main/embeddings/intro-textemb-vectorsearch.ipynb\" target=\"_blank\">\n",
    "  <img width=\"20px\" src=\"https://upload.wikimedia.org/wikipedia/commons/5/51/Facebook_f_logo_%282019%29.svg\" alt=\"Facebook logo\">\n",
    "</a>            "
   ]
  },
  {
   "cell_type": "markdown",
   "metadata": {
    "id": "4d742715e6de"
   },
   "source": [
    "| | |\n",
    "|-|-|\n",
    "|Author(s) | [Smitha Venkat](https://github.com/smitha-google), [Kaz Sato](https://github.com/kazunori279)|"
   ]
  },
  {
   "cell_type": "markdown",
   "metadata": {
    "id": "25a71983a324"
   },
   "source": [
    "## Introduction\n",
    "\n",
    "In this tutorial, you learn how to use Google Cloud AI tools to quickly bring the power of Large Language Models to enterprise systems.  \n",
    "\n",
    "This tutorial covers the following -\n",
    "\n",
    "*   What are embeddings - what business challenges do they help solve ?\n",
    "*   Understanding Text with Vertex AI Text Embeddings\n",
    "*   Find Embeddings fast with Vertex AI Vector Search\n",
    "*   Grounding LLM outputs with Vector Search\n",
    "\n",
    "This tutorial is based on [the blog post](https://cloud.google.com/blog/products/ai-machine-learning/how-to-use-grounding-for-your-llms-with-text-embeddings), combined with sample code.\n",
    "\n",
    "\n",
    "### Prerequisites\n",
    "\n",
    "This tutorial is designed for developers who has basic knowledge and experience with Python programming and machine learning.\n",
    "\n",
    "If you are not reading this tutorial in Qwiklab, then you need to have a Google Cloud project that is linked to a billing account to run this. Please go through [this document](https://cloud.google.com/vertex-ai/docs/start/cloud-environment) to create a project and setup a billing account for it.\n",
    "\n",
    "### Choose the runtime environment\n",
    "\n",
    "The notebook can be run on either Google Colab or [Vertex AI Workbench](https://cloud.google.com/vertex-ai-workbench).\n",
    "\n",
    "- To use Colab: Click [this link](https://colab.research.google.com/github/GoogleCloudPlatform/generative-ai/blob/main/embeddings/intro-textemb-vectorsearch.ipynb) to open the tutorial in Colab.\n",
    "\n",
    "- To use Workbench: If it is the first time to use Workbench in your Google Cloud project, open [the Workbench console](https://console.cloud.google.com/vertex-ai/workbench) and click ENABLE button to enable Notebooks API. Then click [this link](https://console.cloud.google.com/vertex-ai/workbench/deploy-notebook?download_url=https://raw.githubusercontent.com/GoogleCloudPlatform/generative-ai/main/embeddings/intro-textemb-vectorsearch.ipynb),  and select an existing notebook or create a new notebook.\n"
   ]
  },
  {
   "cell_type": "markdown",
   "metadata": {
    "id": "2pImjuenUIQz"
   },
   "source": [
    "### How much will this cost?\n",
    "\n",
    "In case you are using your own Cloud project, not a temporary project on Qwiklab, you need to spend roughly a few US dollars to finish this tutorial.\n",
    "\n",
    "The pricing of the Cloud services we will use in this tutorial are available in the following pages:\n",
    "\n",
    "- [Vertex AI Embeddings for Text](https://cloud.google.com/vertex-ai/pricing#generative_ai_models)\n",
    "- [Vertex AI Vector Search](https://cloud.google.com/vertex-ai/pricing#matchingengine)\n",
    "- [BigQuery](https://cloud.google.com/bigquery/pricing)\n",
    "- [Cloud Storage](https://cloud.google.com/storage/pricing)\n",
    "- [Vertex AI Workbench](https://cloud.google.com/vertex-ai/pricing#notebooks) if you use one\n",
    "\n",
    "You can use the [Pricing Calculator](https://cloud.google.com/products/calculator) to generate a cost estimate based on your projected usage. The following is an example of rough cost estimation with the calculator, assuming you will go through this tutorial a couple of time.\n",
    "\n",
    "<img src=\"https://storage.googleapis.com/github-repo/img/embeddings/vs-quickstart/pricing.png\" width=\"50%\"/>\n",
    "\n",
    "### **Warning: delete your objects after the tutorial**\n",
    "\n",
    "In case you are using your own Cloud project, please make sure to delete all the Indexes, Index Endpoints and Cloud Storage buckets (and the Workbench instance if you use one) after finishing this tutorial. Otherwise the remaining assets would incur unexpected costs.\n"
   ]
  },
  {
   "cell_type": "markdown",
   "metadata": {
    "id": "6Fu2OoUDTQ6w"
   },
   "source": [
    "# Bringing Gen AI and LLMs to production services\n",
    "\n",
    "Many people are now starting to think about how to bring Gen AI and LLMs to production services, and facing with several challenges.\n",
    "\n",
    "- \"How to integrate LLMs or AI chatbots with existing IT systems, databases and business data?\"\n",
    "- \"We have thousands of products. How can I let LLM memorize them all precisely?\"\n",
    "- \"How to handle the hallucination issues in AI chatbots to build a reliable service?\"\n",
    "\n",
    "Here is a quick solution: **grounding** with **embeddings** and **vector search**.\n",
    "\n",
    "What is grounding? What are embedding and vector search? In this tutorial, we will learn these crucial concepts to build reliable Gen AI services for enterprise use. But before we dive deeper, let's try the demo below."
   ]
  },
  {
   "cell_type": "markdown",
   "metadata": {
    "id": "ORqZYLgTm9pJ"
   },
   "source": [
    "![](https://storage.googleapis.com/gweb-cloudblog-publish/original_images/1._demo_animation.gif)\n",
    "\n",
    "**Exercise: Try the Stack Overflow semantic search demo:**\n",
    "\n",
    "This demo is available as a [public live demo](https://ai-demos.dev/). Select \"STACKOVERFLOW\" and enter any coding question as a query, so it runs a text search on **8 million** questions posted on [Stack Overflow](https://stackoverflow.com/). Try the text semantic search with some queries like 'How to shuffle rows in SQL?' or arbitrary programming questions.\n",
    "\n",
    "In this tutorial, we are going to see how to build a similar search experience - what is involved in building solutions like this using Vertex AI Embeddings API and Vector Search."
   ]
  },
  {
   "cell_type": "markdown",
   "metadata": {
    "id": "H1MAIOkCw35V"
   },
   "source": [
    "# What is Embeddings?\n",
    "\n",
    "With the rise of LLMs, why is it becoming important for IT engineers and ITDMs to understand how they work?\n",
    "\n",
    "In traditional IT systems, most data is organized as structured or tabular data, using simple keywords, labels, and categories in databases and search engines.\n",
    "\n",
    "![](https://storage.googleapis.com/github-repo/img/embeddings/textemb-vs-notebook/1.png)\n",
    "\n",
    "In contrast, AI-powered services arrange data into a simple data structure known as \"embeddings.\"\n",
    "\n",
    "![](https://storage.googleapis.com/github-repo/img/embeddings/textemb-vs-notebook/2.png)"
   ]
  },
  {
   "cell_type": "markdown",
   "metadata": {
    "id": "hJqjBmQsxz2Z"
   },
   "source": [
    "Once trained with specific content like text, images, or any content, AI creates a space called \"embedding space\", which is essentially a map of the content's meaning.\n",
    "\n",
    "![](https://storage.googleapis.com/github-repo/img/embeddings/textemb-vs-notebook/3.png)\n",
    "\n",
    "AI can identify the location of each content on the map, that's what embedding is.\n",
    "\n",
    "![](https://storage.googleapis.com/github-repo/img/embeddings/textemb-vs-notebook/4.png)\n",
    "\n",
    "Let's take an example where a text discusses movies, music, and actors, with a distribution of 10%, 2%, and 30%, respectively. In this case, the AI can create an embedding with three values: 0.1, 0.02, and 0.3, in 3 dimensional space.\n",
    "\n",
    "![](https://storage.googleapis.com/github-repo/img/embeddings/textemb-vs-notebook/5.png)\n",
    "\n",
    "AI can put content with similar meanings closely together in the space."
   ]
  },
  {
   "cell_type": "markdown",
   "metadata": {
    "id": "A5z7vyTyzk_4"
   },
   "source": [
    "This is how Google organizes data across various services like Google Search, YouTube, Play, and many others, to provide search results and recommendations with relevant content.\n",
    "\n",
    "Embeddings can also be used to represent different types of things in businesses, such as products, users, user activities, conversations, music & videos, signals from IoT sensors, and so on."
   ]
  },
  {
   "cell_type": "markdown",
   "metadata": {
    "id": "tpKVmyEe0ab9"
   },
   "source": [
    "AI and Embeddings are now playing a crucial role in creating a new way of human-computer interaction.\n",
    "\n",
    "![](https://storage.googleapis.com/github-repo/img/embeddings/textemb-vs-notebook/6.png)\n",
    "\n",
    "AI organizes data into embeddings, which represent what the user is looking for, the meaning of contents, or many other things you have in your business. This creates a new level of user experience that is becoming the new standard.\n",
    "\n",
    "To learn more about embeddings, [Foundational courses: Embeddings on Google Machine Learning Crush Course](https://developers.google.com/machine-learning/crash-course/embeddings/video-lecture) and [Meet AI's multitool: Vector embeddings by Dale Markowitz](https://cloud.google.com/blog/topics/developers-practitioners/meet-ais-multitool-vector-embeddings) are great materials.\n"
   ]
  },
  {
   "cell_type": "markdown",
   "metadata": {
    "id": "ovQpiL2GUEXa"
   },
   "source": [
    "# Vertex AI Embeddings for Text\n",
    "\n",
    "With the [Vertex AI Embeddings for Text](https://cloud.google.com/vertex-ai/docs/generative-ai/embeddings/get-text-embeddings), you can easily create a text embedding with LLM. The product is also available on [Vertex AI Model Garden](https://cloud.google.com/model-garden)\n",
    "\n",
    "![](https://storage.googleapis.com/github-repo/img/embeddings/textemb-vs-notebook/7.png)\n",
    "\n",
    "This API is designed to extract embeddings from texts. It can take text input up to 2048 input tokens, and outputs 768 dimensional text embeddings."
   ]
  },
  {
   "cell_type": "markdown",
   "metadata": {
    "id": "nwJHDPG7lU52"
   },
   "source": [
    "## LLM text embedding business use cases\n",
    "\n",
    "With the embedding API, you can apply the innovation of embeddings, combined with the LLM capability, to various text processing tasks, such as:\n",
    "\n",
    "**LLM-enabled Semantic Search**: text embeddings can be used to represent both the meaning and intent of a user's query and documents in the embedding space. Documents that have similar meaning to the user's query intent will be found fast with vector search technology. The model is capable of generating text embeddings that capture the subtle nuances of each sentence and paragraphs in the document.\n",
    "\n",
    "**LLM-enabled Text Classification**: LLM text embeddings can be used for text classification with a deep understanding of different contexts without any training or fine-tuning (so-called zero-shot learning). This wasn't possible with the past language models without task-specific training.\n",
    "\n",
    "**LLM-enabled Recommendation**: The text embedding can be used for recommendation systems as a strong feature for training recommendation models such as Two-Tower model. The model learns the relationship between the query and candidate embeddings, resulting in next-gen user experience with semantic product recommendation.\n",
    "\n",
    "LLM-enabled Clustering, Anomaly Detection, Sentiment Analysis, and more, can be also handled with the LLM-level deep semantics understanding.\n"
   ]
  },
  {
   "cell_type": "markdown",
   "metadata": {
    "id": "ga5A7koYlvlZ"
   },
   "source": [
    "## Sorting 8 million texts at \"librarian-level\" precision\n",
    "\n",
    "Vertex AI Embeddings for Text has an embedding space with 768 dimensions. As explained earlier, the space represents a huge map of a wide variety of texts in the world, organized by their meanings. With each input text, the model can find a location (embedding) in the map.\n",
    "\n",
    "By visualizing the embedding space, you can actually observe how the model sorts the texts at the \"librarian-level\" precision.\n",
    "\n",
    "**Exercise: Try the Nomic AI Atlas**\n",
    "\n",
    "[Nomic AI](http://nomic.ai/) provides a platform called Atlas for storing, visualizing and interacting with embedding spaces with high scalability and in a smooth UI, and they worked with Google for visualizing the embedding space of the 8 million Stack Overflow questions. You can try exploring around the space, zooming in and out to each data point on your browser on this page, courtesy of Nomic AI.\n",
    "\n",
    "The embedding space represents a huge map of texts, organized by their meanings\n",
    "With each input text, the model can find a location (embedding) in the map\n",
    "Like a librarian reading through millions of texts, sorting them with millions of nano-categories\n",
    "\n",
    "Try exploring it [here](https://atlas.nomic.ai/map/edaff028-12b5-42a0-8e8b-6430c9b8222b/bcb42818-3581-4fb5-ac30-9883d01f98ec). Zoom into a few categories, point each dots, and see how the LLM is sorting similar questions close together in the space.\n",
    "\n",
    "![](https://storage.googleapis.com/gweb-cloudblog-publish/images/4._Nomic_AI_Atlas.max-2200x2200.png)\n",
    "\n",
    "### The librarian-level semantic understanding\n",
    "\n",
    "Here are the examples of the librarian-level semantic understanding by Embeddings API with Stack Overflow questions.\n",
    "\n",
    "![](https://storage.googleapis.com/gweb-cloudblog-publish/images/5._semantic_understanding.max-2200x2200.png)\n",
    "\n",
    "For example, the model thinks the question \"Does moving the request line to a header frame require an app change?\" is similar to the question \"Does an application developed on HTTP1x require modifications to run on HTTP2?\". That is because The model knows both questions talk about what's the change required to support the HTTP2 header frame.\n",
    "\n",
    "Note that this demo didn't require any training or fine-tuning with computer programming specific datasets. This is the innovative part of the zero-shot learning capability of the LLM. It can be applied to a wide variety of industries, including finance, healthcare, retail, manufacturing, construction, media, and more, for deep semantic search on the industry-focused business documents without spending time and cost for collecting industry specific datasets and training models."
   ]
  },
  {
   "cell_type": "markdown",
   "metadata": {
    "id": "-iOWOKnIvYxf"
   },
   "source": [
    "# Text Embeddings in Action\n",
    "\n",
    "Lets try using Text Embeddings in action with actual sample code."
   ]
  },
  {
   "cell_type": "markdown",
   "metadata": {
    "id": "AtXnXhF8U-8R"
   },
   "source": [
    "## Setup\n",
    "\n",
    "Before get started with the Vertex AI services, we need to setup the following.\n",
    "\n",
    "* Install Python SDK\n",
    "* Environment variables\n",
    "* Authentication (Colab only)\n",
    "* Enable APIs\n",
    "* Set IAM permissions"
   ]
  },
  {
   "cell_type": "markdown",
   "metadata": {
    "id": "UjnvWl6FLUlF"
   },
   "source": [
    "### Install Python SDK\n",
    "\n",
    "Vertex AI, Cloud Storage and BigQuery APIs can be accessed with multiple ways including REST API and Python SDK. In this tutorial we will use the SDK."
   ]
  },
  {
   "cell_type": "code",
   "execution_count": 1,
   "metadata": {
    "id": "FZgLGALt_al7",
    "tags": []
   },
   "outputs": [
    {
     "name": "stdout",
     "output_type": "stream",
     "text": [
      "Requirement already satisfied: google-cloud-aiplatform in /home/jupyter/.local/lib/python3.10/site-packages (1.76.0)\n",
      "Requirement already satisfied: google-cloud-storage in /home/jupyter/.local/lib/python3.10/site-packages (2.19.0)\n",
      "Requirement already satisfied: google-cloud-bigquery[pandas] in /home/jupyter/.local/lib/python3.10/site-packages (3.27.0)\n",
      "Requirement already satisfied: google-api-core!=2.0.*,!=2.1.*,!=2.2.*,!=2.3.*,!=2.4.*,!=2.5.*,!=2.6.*,!=2.7.*,<3.0.0dev,>=1.34.1 in /home/jupyter/.local/lib/python3.10/site-packages (from google-api-core[grpc]!=2.0.*,!=2.1.*,!=2.2.*,!=2.3.*,!=2.4.*,!=2.5.*,!=2.6.*,!=2.7.*,<3.0.0dev,>=1.34.1->google-cloud-aiplatform) (2.24.0)\n",
      "Requirement already satisfied: google-auth<3.0.0dev,>=2.14.1 in /opt/conda/lib/python3.10/site-packages (from google-cloud-aiplatform) (2.36.0)\n",
      "Requirement already satisfied: proto-plus<2.0.0dev,>=1.22.3 in /opt/conda/lib/python3.10/site-packages (from google-cloud-aiplatform) (1.25.0)\n",
      "Requirement already satisfied: protobuf!=4.21.0,!=4.21.1,!=4.21.2,!=4.21.3,!=4.21.4,!=4.21.5,<6.0.0dev,>=3.20.2 in /opt/conda/lib/python3.10/site-packages (from google-cloud-aiplatform) (3.20.3)\n",
      "Requirement already satisfied: packaging>=14.3 in /opt/conda/lib/python3.10/site-packages (from google-cloud-aiplatform) (24.1)\n",
      "Requirement already satisfied: google-cloud-resource-manager<3.0.0dev,>=1.3.3 in /opt/conda/lib/python3.10/site-packages (from google-cloud-aiplatform) (1.13.1)\n",
      "Requirement already satisfied: shapely<3.0.0dev in /opt/conda/lib/python3.10/site-packages (from google-cloud-aiplatform) (2.0.6)\n",
      "Requirement already satisfied: pydantic<3 in /opt/conda/lib/python3.10/site-packages (from google-cloud-aiplatform) (2.9.2)\n",
      "Requirement already satisfied: typing-extensions in /opt/conda/lib/python3.10/site-packages (from google-cloud-aiplatform) (4.12.2)\n",
      "Requirement already satisfied: docstring-parser<1 in /opt/conda/lib/python3.10/site-packages (from google-cloud-aiplatform) (0.16)\n",
      "Requirement already satisfied: google-cloud-core<3.0dev,>=2.3.0 in /opt/conda/lib/python3.10/site-packages (from google-cloud-storage) (2.4.1)\n",
      "Requirement already satisfied: google-resumable-media>=2.7.2 in /opt/conda/lib/python3.10/site-packages (from google-cloud-storage) (2.7.2)\n",
      "Requirement already satisfied: requests<3.0.0dev,>=2.18.0 in /opt/conda/lib/python3.10/site-packages (from google-cloud-storage) (2.32.3)\n",
      "Requirement already satisfied: google-crc32c<2.0dev,>=1.0 in /opt/conda/lib/python3.10/site-packages (from google-cloud-storage) (1.6.0)\n",
      "Requirement already satisfied: python-dateutil<3.0dev,>=2.7.3 in /opt/conda/lib/python3.10/site-packages (from google-cloud-bigquery[pandas]) (2.9.0.post0)\n",
      "Requirement already satisfied: pandas>=1.1.0 in /opt/conda/lib/python3.10/site-packages (from google-cloud-bigquery[pandas]) (2.2.3)\n",
      "Requirement already satisfied: pyarrow>=3.0.0 in /opt/conda/lib/python3.10/site-packages (from google-cloud-bigquery[pandas]) (15.0.2)\n",
      "Requirement already satisfied: db-dtypes<2.0.0dev,>=0.3.0 in /opt/conda/lib/python3.10/site-packages (from google-cloud-bigquery[pandas]) (1.3.1)\n",
      "Requirement already satisfied: numpy>=1.16.6 in /opt/conda/lib/python3.10/site-packages (from db-dtypes<2.0.0dev,>=0.3.0->google-cloud-bigquery[pandas]) (1.26.4)\n",
      "Requirement already satisfied: googleapis-common-protos<2.0.dev0,>=1.56.2 in /opt/conda/lib/python3.10/site-packages (from google-api-core!=2.0.*,!=2.1.*,!=2.2.*,!=2.3.*,!=2.4.*,!=2.5.*,!=2.6.*,!=2.7.*,<3.0.0dev,>=1.34.1->google-api-core[grpc]!=2.0.*,!=2.1.*,!=2.2.*,!=2.3.*,!=2.4.*,!=2.5.*,!=2.6.*,!=2.7.*,<3.0.0dev,>=1.34.1->google-cloud-aiplatform) (1.66.0)\n",
      "Requirement already satisfied: grpcio<2.0dev,>=1.33.2 in /opt/conda/lib/python3.10/site-packages (from google-api-core[grpc]!=2.0.*,!=2.1.*,!=2.2.*,!=2.3.*,!=2.4.*,!=2.5.*,!=2.6.*,!=2.7.*,<3.0.0dev,>=1.34.1->google-cloud-aiplatform) (1.68.0)\n",
      "Requirement already satisfied: grpcio-status<2.0.dev0,>=1.33.2 in /opt/conda/lib/python3.10/site-packages (from google-api-core[grpc]!=2.0.*,!=2.1.*,!=2.2.*,!=2.3.*,!=2.4.*,!=2.5.*,!=2.6.*,!=2.7.*,<3.0.0dev,>=1.34.1->google-cloud-aiplatform) (1.48.2)\n",
      "Requirement already satisfied: cachetools<6.0,>=2.0.0 in /opt/conda/lib/python3.10/site-packages (from google-auth<3.0.0dev,>=2.14.1->google-cloud-aiplatform) (5.5.0)\n",
      "Requirement already satisfied: pyasn1-modules>=0.2.1 in /opt/conda/lib/python3.10/site-packages (from google-auth<3.0.0dev,>=2.14.1->google-cloud-aiplatform) (0.4.1)\n",
      "Requirement already satisfied: rsa<5,>=3.1.4 in /opt/conda/lib/python3.10/site-packages (from google-auth<3.0.0dev,>=2.14.1->google-cloud-aiplatform) (4.9)\n",
      "Requirement already satisfied: grpc-google-iam-v1<1.0.0dev,>=0.12.4 in /opt/conda/lib/python3.10/site-packages (from google-cloud-resource-manager<3.0.0dev,>=1.3.3->google-cloud-aiplatform) (0.13.1)\n",
      "Requirement already satisfied: pytz>=2020.1 in /opt/conda/lib/python3.10/site-packages (from pandas>=1.1.0->google-cloud-bigquery[pandas]) (2024.2)\n",
      "Requirement already satisfied: tzdata>=2022.7 in /opt/conda/lib/python3.10/site-packages (from pandas>=1.1.0->google-cloud-bigquery[pandas]) (2024.2)\n",
      "Requirement already satisfied: annotated-types>=0.6.0 in /opt/conda/lib/python3.10/site-packages (from pydantic<3->google-cloud-aiplatform) (0.7.0)\n",
      "Requirement already satisfied: pydantic-core==2.23.4 in /opt/conda/lib/python3.10/site-packages (from pydantic<3->google-cloud-aiplatform) (2.23.4)\n",
      "Requirement already satisfied: six>=1.5 in /opt/conda/lib/python3.10/site-packages (from python-dateutil<3.0dev,>=2.7.3->google-cloud-bigquery[pandas]) (1.16.0)\n",
      "Requirement already satisfied: charset-normalizer<4,>=2 in /opt/conda/lib/python3.10/site-packages (from requests<3.0.0dev,>=2.18.0->google-cloud-storage) (3.4.0)\n",
      "Requirement already satisfied: idna<4,>=2.5 in /opt/conda/lib/python3.10/site-packages (from requests<3.0.0dev,>=2.18.0->google-cloud-storage) (3.10)\n",
      "Requirement already satisfied: urllib3<3,>=1.21.1 in /opt/conda/lib/python3.10/site-packages (from requests<3.0.0dev,>=2.18.0->google-cloud-storage) (1.26.20)\n",
      "Requirement already satisfied: certifi>=2017.4.17 in /opt/conda/lib/python3.10/site-packages (from requests<3.0.0dev,>=2.18.0->google-cloud-storage) (2024.8.30)\n",
      "Requirement already satisfied: pyasn1<0.7.0,>=0.4.6 in /opt/conda/lib/python3.10/site-packages (from pyasn1-modules>=0.2.1->google-auth<3.0.0dev,>=2.14.1->google-cloud-aiplatform) (0.6.1)\n",
      "Note: you may need to restart the kernel to use updated packages.\n"
     ]
    }
   ],
   "source": [
    "%pip install --upgrade --user google-cloud-aiplatform google-cloud-storage 'google-cloud-bigquery[pandas]'"
   ]
  },
  {
   "cell_type": "markdown",
   "metadata": {
    "id": "R5Xep4W9lq-Z"
   },
   "source": [
    "### Restart current runtime\n",
    "\n",
    "To use the newly installed packages in this Jupyter runtime, you must restart the runtime. You can do this by running the cell below, which will restart the current kernel."
   ]
  },
  {
   "cell_type": "code",
   "execution_count": 2,
   "metadata": {
    "id": "XRvKdaPDTznN",
    "tags": []
   },
   "outputs": [
    {
     "data": {
      "text/plain": [
       "{'status': 'ok', 'restart': True}"
      ]
     },
     "execution_count": 2,
     "metadata": {},
     "output_type": "execute_result"
    }
   ],
   "source": [
    "# Restart kernel after installs so that your environment can access the new packages\n",
    "import IPython\n",
    "\n",
    "app = IPython.Application.instance()\n",
    "app.kernel.do_shutdown(True)"
   ]
  },
  {
   "cell_type": "markdown",
   "metadata": {
    "id": "SbmM4z7FOBpM"
   },
   "source": [
    "<div class=\"alert alert-block alert-warning\">\n",
    "<b>⚠️ The kernel is going to restart. Please wait until it is finished before continuing to the next step. ⚠️</b>\n",
    "</div>\n"
   ]
  },
  {
   "cell_type": "markdown",
   "metadata": {
    "id": "nCoTvkOJoh76"
   },
   "source": [
    "### Environment variables\n",
    "\n",
    "Sets environment variables. If asked, please replace the following `[your-project-id]` with your project ID and run it."
   ]
  },
  {
   "cell_type": "code",
   "execution_count": 4,
   "metadata": {
    "id": "fkmvFRrj3nQI",
    "tags": []
   },
   "outputs": [],
   "source": [
    "# get project ID\n",
    "PROJECT_ID = ! gcloud config get project\n",
    "PROJECT_ID = PROJECT_ID[0]\n",
    "LOCATION = \"us-central1\"\n",
    "if PROJECT_ID == \"(unset)\":\n",
    "    print(f\"Please set the project ID manually below\")"
   ]
  },
  {
   "cell_type": "code",
   "execution_count": 5,
   "metadata": {
    "id": "69XJ95rNoYG9",
    "tags": []
   },
   "outputs": [],
   "source": [
    "# define project information\n",
    "if PROJECT_ID == \"(unset)\":\n",
    "    PROJECT_ID = \"[qwiklabs-gcp-02-a801a98f8d3d]\"  # @param {type:\"string\"}\n",
    "\n",
    "# generate an unique id for this session\n",
    "from datetime import datetime\n",
    "\n",
    "UID = datetime.now().strftime(\"%m%d%H%M\")"
   ]
  },
  {
   "cell_type": "markdown",
   "metadata": {
    "id": "ph7mDSMRVTIZ"
   },
   "source": [
    "### Authentication (Colab only)\n",
    "\n",
    "If you are running this notebook on Colab, you will need to run the following cell authentication. This step is not required if you are using Vertex AI Workbench as it is pre-authenticated."
   ]
  },
  {
   "cell_type": "code",
   "execution_count": null,
   "metadata": {
    "id": "5jQkFtlimNXR"
   },
   "outputs": [],
   "source": [
    "import sys\n",
    "\n",
    "# if it's Colab runtime, authenticate the user with Google Cloud\n",
    "if \"google.colab\" in sys.modules:\n",
    "    from google.colab import auth\n",
    "\n",
    "    auth.authenticate_user()"
   ]
  },
  {
   "cell_type": "markdown",
   "metadata": {
    "id": "jUPbl4IFLmC2"
   },
   "source": [
    "### Enable APIs\n",
    "\n",
    "Run the following to enable APIs for Compute Engine, Vertex AI, Cloud Storage and BigQuery with this Google Cloud project."
   ]
  },
  {
   "cell_type": "code",
   "execution_count": 6,
   "metadata": {
    "id": "qGf0qMMQNond",
    "tags": []
   },
   "outputs": [
    {
     "name": "stdout",
     "output_type": "stream",
     "text": [
      "Operation \"operations/acat.p2-987384280338-ed70f076-c3f8-46b5-91e2-d69429c0f20e\" finished successfully.\n"
     ]
    }
   ],
   "source": [
    "! gcloud services enable compute.googleapis.com aiplatform.googleapis.com storage.googleapis.com bigquery.googleapis.com --project {PROJECT_ID}"
   ]
  },
  {
   "cell_type": "markdown",
   "metadata": {
    "id": "8cF8rkN3Lnhq"
   },
   "source": [
    "### Set IAM permissions\n",
    "\n",
    "Also, we need to add access permissions to the default service account for using those services.\n",
    "\n",
    "- Go to [the IAM page](https://console.cloud.google.com/iam-admin/) in the Console\n",
    "- Look for the principal for default compute service account. It should look like: `<project-number>-compute@developer.gserviceaccount.com`\n",
    "- Click the edit button at right and click `ADD ANOTHER ROLE` to add `Vertex AI User`, `BigQuery User` and `Storage Admin` to the account.\n",
    "\n",
    "This will look like this:\n",
    "\n",
    "![](https://storage.googleapis.com/github-repo/img/embeddings/vs-quickstart/iam-setting.png)"
   ]
  },
  {
   "cell_type": "markdown",
   "metadata": {
    "id": "mahCxLXHMIls"
   },
   "source": [
    "## Getting Started with Vertex AI Embeddings for Text\n",
    "\n",
    "Now it's ready to get started with embeddings!"
   ]
  },
  {
   "cell_type": "markdown",
   "metadata": {
    "id": "rq07_-o0VoZD"
   },
   "source": [
    "### Data Preparation\n",
    "\n",
    "We will be using [the Stack Overflow public dataset](https://console.cloud.google.com/marketplace/product/stack-exchange/stack-overflow) hosted on BigQuery table `bigquery-public-data.stackoverflow.posts_questions`. This is a very big dataset with 23 million rows that doesn't fit into the memory. We are going to limit it to 1000 rows for this tutorial."
   ]
  },
  {
   "cell_type": "code",
   "execution_count": 7,
   "metadata": {
    "id": "snrzPsEQDH4S",
    "tags": []
   },
   "outputs": [
    {
     "data": {
      "text/html": [
       "<div>\n",
       "<style scoped>\n",
       "    .dataframe tbody tr th:only-of-type {\n",
       "        vertical-align: middle;\n",
       "    }\n",
       "\n",
       "    .dataframe tbody tr th {\n",
       "        vertical-align: top;\n",
       "    }\n",
       "\n",
       "    .dataframe thead th {\n",
       "        text-align: right;\n",
       "    }\n",
       "</style>\n",
       "<table border=\"1\" class=\"dataframe\">\n",
       "  <thead>\n",
       "    <tr style=\"text-align: right;\">\n",
       "      <th></th>\n",
       "      <th>id</th>\n",
       "      <th>title</th>\n",
       "    </tr>\n",
       "  </thead>\n",
       "  <tbody>\n",
       "    <tr>\n",
       "      <th>0</th>\n",
       "      <td>73232855</td>\n",
       "      <td>How to split a database into two tables in Gri...</td>\n",
       "    </tr>\n",
       "    <tr>\n",
       "      <th>1</th>\n",
       "      <td>73344184</td>\n",
       "      <td>Is ant media mobile SDK support to share nativ...</td>\n",
       "    </tr>\n",
       "    <tr>\n",
       "      <th>2</th>\n",
       "      <td>73392599</td>\n",
       "      <td>Elasticsearch takes too long to match document...</td>\n",
       "    </tr>\n",
       "    <tr>\n",
       "      <th>3</th>\n",
       "      <td>73439792</td>\n",
       "      <td>Is it possible to get filtered and unfiltered ...</td>\n",
       "    </tr>\n",
       "    <tr>\n",
       "      <th>4</th>\n",
       "      <td>73445816</td>\n",
       "      <td>Azure Media Player Video Shifted from Left on ...</td>\n",
       "    </tr>\n",
       "  </tbody>\n",
       "</table>\n",
       "</div>"
      ],
      "text/plain": [
       "         id                                              title\n",
       "0  73232855  How to split a database into two tables in Gri...\n",
       "1  73344184  Is ant media mobile SDK support to share nativ...\n",
       "2  73392599  Elasticsearch takes too long to match document...\n",
       "3  73439792  Is it possible to get filtered and unfiltered ...\n",
       "4  73445816  Azure Media Player Video Shifted from Left on ..."
      ]
     },
     "execution_count": 7,
     "metadata": {},
     "output_type": "execute_result"
    }
   ],
   "source": [
    "# load the BQ Table into a Pandas DataFrame\n",
    "from google.cloud import bigquery\n",
    "\n",
    "QUESTIONS_SIZE = 1000\n",
    "\n",
    "bq_client = bigquery.Client(project=PROJECT_ID)\n",
    "QUERY_TEMPLATE = \"\"\"\n",
    "        SELECT distinct q.id, q.title\n",
    "        FROM (SELECT * FROM `bigquery-public-data.stackoverflow.posts_questions`\n",
    "        where Score > 0 ORDER BY View_Count desc) AS q\n",
    "        LIMIT {limit} ;\n",
    "        \"\"\"\n",
    "query = QUERY_TEMPLATE.format(limit=QUESTIONS_SIZE)\n",
    "query_job = bq_client.query(query)\n",
    "rows = query_job.result()\n",
    "df = rows.to_dataframe()\n",
    "\n",
    "# examine the data\n",
    "df.head()"
   ]
  },
  {
   "cell_type": "markdown",
   "metadata": {
    "id": "j6022U1FWzpb"
   },
   "source": [
    "### Call the API to generate embeddings\n",
    "\n",
    "With the Stack Overflow dataset, we will use the `title` column (the question title) and generate embedding for it with Embeddings for Text API. The API is available under the [vertexai](https://cloud.google.com/python/docs/reference/aiplatform/latest/vertexai) package of the SDK.\n",
    "\n",
    "You may see some warning messages from the TensorFlow library but you can ignore them."
   ]
  },
  {
   "cell_type": "code",
   "execution_count": 8,
   "metadata": {
    "id": "pY8M4DqO8wGx",
    "tags": []
   },
   "outputs": [],
   "source": [
    "# init the vertexai package\n",
    "import vertexai\n",
    "\n",
    "vertexai.init(project=PROJECT_ID, location=LOCATION)"
   ]
  },
  {
   "cell_type": "markdown",
   "metadata": {
    "id": "jrG82n-y-EC5"
   },
   "source": [
    "From the package, import [TextEmbeddingModel](https://cloud.google.com/python/docs/reference/aiplatform/latest/vertexai.language_models.TextEmbeddingModel) and get a model."
   ]
  },
  {
   "cell_type": "code",
   "execution_count": 9,
   "metadata": {
    "id": "YVLHjSeOGoTu",
    "tags": []
   },
   "outputs": [],
   "source": [
    "# Load the text embeddings model\n",
    "from vertexai.language_models import TextEmbeddingModel\n",
    "\n",
    "model = TextEmbeddingModel.from_pretrained(\"text-embedding-004\")"
   ]
  },
  {
   "cell_type": "markdown",
   "metadata": {
    "id": "FqdVsgZDb_hc"
   },
   "source": [
    "In this tutorial we will use `text-embedding-004` model for getting text embeddings. Please take a look at [Supported models](https://cloud.google.com/vertex-ai/docs/generative-ai/embeddings/get-text-embeddings#supported_models) on the doc to see the list of supported models.\n",
    "\n",
    "Once you get the model, you can call its [get_embeddings](https://cloud.google.com/python/docs/reference/aiplatform/latest/vertexai.language_models.TextEmbeddingModel#vertexai_language_models_TextEmbeddingModel_get_embeddings) function to get embeddings. You can pass up to 5 texts at once in a call. But there is a caveat. By default, the text embeddings API has a \"request per minute\" quota set to 60 for new Cloud projects and 600 for projects with usage history (see [Quotas and limits](https://cloud.google.com/vertex-ai/docs/quotas#request_quotas) to check the latest quota value for `base_model:textembedding-gecko`). So, rather than using the function directly, you may want to define a wrapper like below to limit under 10 calls per second, and pass 5 texts each time."
   ]
  },
  {
   "cell_type": "code",
   "execution_count": 10,
   "metadata": {
    "id": "8HUb9u_P2VWW",
    "tags": []
   },
   "outputs": [],
   "source": [
    "import time\n",
    "\n",
    "import tqdm  # to show a progress bar\n",
    "\n",
    "# get embeddings for a list of texts\n",
    "BATCH_SIZE = 5\n",
    "\n",
    "\n",
    "def get_embeddings_wrapper(texts):\n",
    "    embs = []\n",
    "    for i in tqdm.tqdm(range(0, len(texts), BATCH_SIZE)):\n",
    "        time.sleep(1)  # to avoid the quota error\n",
    "        result = model.get_embeddings(texts[i : i + BATCH_SIZE])\n",
    "        embs = embs + [e.values for e in result]\n",
    "    return embs"
   ]
  },
  {
   "cell_type": "markdown",
   "metadata": {
    "id": "aK4eTSPfcEuh"
   },
   "source": [
    "The following code will get embedding for the question titles and add them as a new column `embedding` to the DataFrame. This will take a few minutes."
   ]
  },
  {
   "cell_type": "code",
   "execution_count": 11,
   "metadata": {
    "id": "FcqPvu4PluN1",
    "tags": []
   },
   "outputs": [
    {
     "name": "stderr",
     "output_type": "stream",
     "text": [
      "100%|██████████| 200/200 [03:35<00:00,  1.08s/it]\n"
     ]
    },
    {
     "data": {
      "text/html": [
       "<div>\n",
       "<style scoped>\n",
       "    .dataframe tbody tr th:only-of-type {\n",
       "        vertical-align: middle;\n",
       "    }\n",
       "\n",
       "    .dataframe tbody tr th {\n",
       "        vertical-align: top;\n",
       "    }\n",
       "\n",
       "    .dataframe thead th {\n",
       "        text-align: right;\n",
       "    }\n",
       "</style>\n",
       "<table border=\"1\" class=\"dataframe\">\n",
       "  <thead>\n",
       "    <tr style=\"text-align: right;\">\n",
       "      <th></th>\n",
       "      <th>id</th>\n",
       "      <th>title</th>\n",
       "      <th>embedding</th>\n",
       "    </tr>\n",
       "  </thead>\n",
       "  <tbody>\n",
       "    <tr>\n",
       "      <th>0</th>\n",
       "      <td>73232855</td>\n",
       "      <td>How to split a database into two tables in Gri...</td>\n",
       "      <td>[0.007809001952409744, -0.026250692084431648, ...</td>\n",
       "    </tr>\n",
       "    <tr>\n",
       "      <th>1</th>\n",
       "      <td>73344184</td>\n",
       "      <td>Is ant media mobile SDK support to share nativ...</td>\n",
       "      <td>[-0.016099847853183746, 0.0047273533418774605,...</td>\n",
       "    </tr>\n",
       "    <tr>\n",
       "      <th>2</th>\n",
       "      <td>73392599</td>\n",
       "      <td>Elasticsearch takes too long to match document...</td>\n",
       "      <td>[0.02846752293407917, -0.06209100782871246, -0...</td>\n",
       "    </tr>\n",
       "    <tr>\n",
       "      <th>3</th>\n",
       "      <td>73439792</td>\n",
       "      <td>Is it possible to get filtered and unfiltered ...</td>\n",
       "      <td>[-0.006467924453318119, -0.008470905013382435,...</td>\n",
       "    </tr>\n",
       "    <tr>\n",
       "      <th>4</th>\n",
       "      <td>73445816</td>\n",
       "      <td>Azure Media Player Video Shifted from Left on ...</td>\n",
       "      <td>[0.034491363912820816, -0.01111516635864973, -...</td>\n",
       "    </tr>\n",
       "  </tbody>\n",
       "</table>\n",
       "</div>"
      ],
      "text/plain": [
       "         id                                              title  \\\n",
       "0  73232855  How to split a database into two tables in Gri...   \n",
       "1  73344184  Is ant media mobile SDK support to share nativ...   \n",
       "2  73392599  Elasticsearch takes too long to match document...   \n",
       "3  73439792  Is it possible to get filtered and unfiltered ...   \n",
       "4  73445816  Azure Media Player Video Shifted from Left on ...   \n",
       "\n",
       "                                           embedding  \n",
       "0  [0.007809001952409744, -0.026250692084431648, ...  \n",
       "1  [-0.016099847853183746, 0.0047273533418774605,...  \n",
       "2  [0.02846752293407917, -0.06209100782871246, -0...  \n",
       "3  [-0.006467924453318119, -0.008470905013382435,...  \n",
       "4  [0.034491363912820816, -0.01111516635864973, -...  "
      ]
     },
     "execution_count": 11,
     "metadata": {},
     "output_type": "execute_result"
    }
   ],
   "source": [
    "# get embeddings for the question titles and add them as \"embedding\" column\n",
    "df = df.assign(embedding=get_embeddings_wrapper(list(df.title)))\n",
    "df.head()"
   ]
  },
  {
   "cell_type": "markdown",
   "metadata": {
    "id": "nB53SiJjVN6e"
   },
   "source": [
    "## Look at the embedding similarities\n",
    "\n",
    "Let's see how these embeddings are organized in the embedding space with their meanings by quickly calculating the similarities between them and sorting them.\n",
    "\n",
    "As embeddings are vectors, you can calculate similarity between two embeddings by using one of the popular metrics like the followings:\n",
    "\n",
    "![](https://storage.googleapis.com/github-repo/img/embeddings/textemb-vs-notebook/8.png)\n",
    "\n",
    "Which metric should we use? Usually it depends on how each model is trained. In case of the model `text-embedding-004`, we need to use inner product (dot product).\n",
    "\n",
    "In the following code, it picks up one question randomly and uses the numpy `np.dot` function to calculate the similarities between the question and other questions."
   ]
  },
  {
   "cell_type": "code",
   "execution_count": 12,
   "metadata": {
    "id": "lKs6jSu7NiM6",
    "tags": []
   },
   "outputs": [
    {
     "data": {
      "text/plain": [
       "array([0.30634571, 0.27110637, 0.3673367 , 0.27912445, 0.42539412])"
      ]
     },
     "execution_count": 12,
     "metadata": {},
     "output_type": "execute_result"
    }
   ],
   "source": [
    "import random\n",
    "\n",
    "import numpy as np\n",
    "\n",
    "# pick one of them as a key question\n",
    "key = random.randint(0, len(df))\n",
    "\n",
    "# calc dot product between the key and other questions\n",
    "embs = np.array(df.embedding.to_list())\n",
    "similarities = np.dot(embs[key], embs.T)\n",
    "\n",
    "# print similarities for the first 5 questions\n",
    "similarities[:5]"
   ]
  },
  {
   "cell_type": "markdown",
   "metadata": {
    "id": "srM04lJBQp4w"
   },
   "source": [
    "Finally, sort the questions with the similarities and print the list."
   ]
  },
  {
   "cell_type": "code",
   "execution_count": 13,
   "metadata": {
    "id": "lTUVvj9FQlab",
    "tags": []
   },
   "outputs": [
    {
     "name": "stdout",
     "output_type": "stream",
     "text": [
      "Key question: Why are write-host statements are not appearing when calling a script with an azure commandlet in it?\n",
      "\n",
      "1.0000 Why are write-host statements are not appearing when calling a script with an azure commandlet in it?\n",
      "0.6087 powershell function not returning datatable\n",
      "0.5603 How to add filenames to file and search for them in powershell?\n",
      "0.5308 Executing this ngrok command in nodejs is producing no output\n",
      "0.5148 Azure functions v4 .Net 6 on Linux issue\n",
      "0.5055 Why is nothing printed to the terminal when using tracing-appender?\n",
      "0.4959 Databricks Log4J Custom Appender Not Working as expected\n",
      "0.4919 Intermittent 503 Service Unavailable responses in azure app services\n",
      "0.4869 Git Bash can't find node.js, even though it is in my Path and it works in Powershell\n",
      "0.4854 -Replace Operator not accepting capture group variable and user variable at once\n",
      "0.4796 How can I run dotnet commands in jenkins running in kubernetes?\n",
      "0.4764 How to route all traffic through Azure Firewall in Azure, even on Prem( connected with VPN)\n",
      "0.4760 simple Node js program but the order of execution seems different?\n",
      "0.4735 problem deploying dotnet cloud function GCP\n",
      "0.4726 Retrieve members from an Azure AD group including service principals\n",
      "0.4594 Irregular behavior of sendSlack with post on Jenkins - Is this a bug?\n",
      "0.4586 Text Not Appearing in Rmarkdown?\n",
      "0.4573 Is there way to write string to file without being enclosed in b' ' in python\n",
      "0.4560 insert files lines into another depending regex filter in Ansible\n",
      "0.4557 How to modify a file inside a pod through helm if that directory is not in helm chart?\n"
     ]
    }
   ],
   "source": [
    "# print the question\n",
    "print(f\"Key question: {df.title[key]}\\n\")\n",
    "\n",
    "# sort and print the questions by similarities\n",
    "sorted_questions = sorted(\n",
    "    zip(df.title, similarities), key=lambda x: x[1], reverse=True\n",
    ")[:20]\n",
    "for i, (question, similarity) in enumerate(sorted_questions):\n",
    "    print(f\"{similarity:.4f} {question}\")"
   ]
  },
  {
   "cell_type": "markdown",
   "metadata": {
    "id": "S75SQzAg1wHV"
   },
   "source": [
    "# Find embeddings fast with Vertex AI Vector Search\n",
    "\n",
    "As we have explained above, you can find similar embeddings by calculating the distance or similarity between the embeddings.\n",
    "\n",
    "But this isn't easy when you have millions or billions of embeddings. For example, if you have 1 million embeddings with 768 dimensions, you need to repeat the distance calculations for 1 million x 768 times. This would take some seconds - too slow."
   ]
  },
  {
   "cell_type": "markdown",
   "metadata": {
    "id": "0sjhTy-a47YH"
   },
   "source": [
    "So the researchers have been studying a technique called [Approximate Nearest Neighbor (ANN)](https://en.wikipedia.org/wiki/Nearest_neighbor_search) for faster search. ANN uses \"vector quantization\" for separating the space into multiple spaces with a tree structure. This is similar to the index in relational databases for improving the query performance, enabling very fast and scalable search with billions of embeddings.\n",
    "\n",
    "With the rise of LLMs, the ANN is getting popular quite rapidly, known as the Vector Search technology.\n",
    "\n",
    "![](https://storage.googleapis.com/gweb-cloudblog-publish/images/7._ANN.1143068821171228.max-2200x2200.png)\n",
    "\n",
    "In 2020, Google Research published a new ANN algorithm called [ScaNN](https://ai.googleblog.com/2020/07/announcing-scann-efficient-vector.html). It is considered one of the best ANN algorithms in the industry, also the most important foundation for search and recommendation in major Google services such as Google Search, YouTube and many others.\n"
   ]
  },
  {
   "cell_type": "markdown",
   "metadata": {
    "id": "xVOL8BgM2isz"
   },
   "source": [
    "## What is Vertex AI Vector Search?\n",
    "\n",
    "Google Cloud developers can take the full advantage of Google's vector search technology with [Vertex AI Vector Search](https://cloud.google.com/vertex-ai/docs/vector-search/overview) (previously called Matching Engine). With this fully managed service, developers can just add the embeddings to its index and issue a search query with a key embedding for the blazingly fast vector search. In the case of the Stack Overflow demo, Vector Search can find relevant questions from 8 million embeddings in tens of milliseconds.\n",
    "\n",
    "![](https://storage.googleapis.com/github-repo/img/embeddings/textemb-vs-notebook/9.png)\n",
    "\n",
    "With Vector Search, you don't need to spend much time and money building your own vector search service from scratch or using open source tools if your goal is high scalability, availability and maintainability for production systems."
   ]
  },
  {
   "cell_type": "markdown",
   "metadata": {
    "id": "uBt8tjidSzyU"
   },
   "source": [
    "## Get Started with Vector Search\n",
    "\n",
    "When you already have the embeddings, then getting started with Vector Search is pretty easy. In this section, we will follow the steps below.\n",
    "\n",
    "### Setting up Vector Search\n",
    "- Save the embeddings in JSON files on Cloud Storage\n",
    "- Build an Index\n",
    "- Create an Index Endpoint\n",
    "- Deploy the Index to the endpoint\n",
    "\n",
    "### Use Vector Search\n",
    "\n",
    "- Query with the endpoint\n",
    "\n",
    "### **Tip for Colab users**\n",
    "\n",
    "If you use Colab for this tutorial, you may lose your runtime while you are waiting for the Index building and deployment in the later sections as it takes tens of minutes. In that case, run the following sections again with the new instance to recover the runtime: [Install Python SDK, Environment variables and Authentication](https://colab.research.google.com/drive/1xJhLFEyPqW0qvKiERD6aYgeTHa6_U50N?resourcekey=0-2qUkxckCjt6W03AsqvZHhw#scrollTo=AtXnXhF8U-8R&line=9&uniqifier=1).\n",
    "\n",
    "Then, use the [Utilities](https://colab.research.google.com/drive/1xJhLFEyPqW0qvKiERD6aYgeTHa6_U50N?resourcekey=0-2qUkxckCjt6W03AsqvZHhw#scrollTo=BE1tELsH-u8N&line=1&uniqifier=1) to recover the Index and Index Endpoint and continue with the rest."
   ]
  },
  {
   "cell_type": "markdown",
   "metadata": {
    "id": "6pu1a3zjfQ0D"
   },
   "source": [
    "### Save the embeddings in a JSON file\n",
    "To load the embeddings to Vector Search, we need to save them in JSON files with JSONL format. See more information in the docs at [Input data format and structure](https://cloud.google.com/vertex-ai/docs/matching-engine/match-eng-setup/format-structure#data-file-formats).\n",
    "\n",
    "First, export the `id` and `embedding` columns from the DataFrame in JSONL format, and save it."
   ]
  },
  {
   "cell_type": "code",
   "execution_count": 14,
   "metadata": {
    "id": "GzZ30d4j_uLU",
    "tags": []
   },
   "outputs": [
    {
     "name": "stdout",
     "output_type": "stream",
     "text": [
      "{\"id\":73232855,\"embedding\":[0.007809002,-0.0262506921,0.0151641257,0.0339931659,0.076584436,-0.0024146268,0.0855442956,-0.0198862515,-0.0193747114,0.0085942447,-0.0011082512,0.0524604172,-0.0327186733,-0.0014788066,0.0010078936,0.0346981175,0.0485423319,-0.0482512899,-0.0348954871,0.0177706778,-0.020960819,0.0116921412,0.0040851915,-0.0321506783,-0.0198781136,-0.0412772745,-0.0375599228,-0.0293626431,0.0569207631,-0.0242834687,0.040639367,-0.0196650997,0.0370872989,0.0257070009,-0.0169902779,0.0198819116,-0.0527761318,0.0463320278,-0.0187848173,-0.0184807368,-0.0357224829,-0.0597107708,-0.0358505175,0.0233681984,-0.0128886495,-0.0112123592,-0.0378799364,0.0144028841,-0.0349468067,0.0075656362,0.0293356311,-0.0063718152,0.0066086766,0.0632096827,-0.0264608432,-0.0605127253,-0.0068213451,-0.0723393634,0.0219693445,-0.0191963799,0.0244342387,-0.0001907995,-0.0395059772,-0.0170993321,0.0165764317,0.0131592574,-0.0500248224,-0.0217583906,-0.0606115982,0.0233874694,0.0218764022,0.0435022004,0.0023641232,-0.0351544917,-0.0206970423,0.0213375855,-0.0205143634,0.0031328979,-0.0093203392,0.0485781468,0.0244599693,-0.0169752967,0.0264969245,0.0171545893,-0.0138758291,0.0040249182,0.0349185951,-0.0374266841,-0.0490227267,-0.0146357222,0.049993474,0.0000821236,0.0260418579,0.0206042901,0.0255396478,-0.0501046814,-0.0832695663,-0.107002303,0.1010761037,0.0586512722,0.0065377848,0.0149806514,-0.0022691865,-0.0865472183,0.0354366824,-0.0384742878,-0.0736523643,-0.0372240283,0.003226418,0.0427422039,0.0577008054,0.0176725052,0.010686609,0.040852733,0.007221852,-0.0056731515,-0.0436106436,0.036705628,-0.020316802,-0.0235027783,0.028630117,-0.039621003,-0.0276148207,0.0515065528,0.0134749636,-0.0265452359,0.0184442792,-0.0404577591,-0.0240641944,-0.0235073902,0.0454762615,0.0020335149,0.0475228243,-0.009721837,0.0417754091,0.0335596241,0.0115874344,0.0095362701,0.0197253134,0.0011908342,-0.0005706153,-0.0005738692,-0.0526281297,0.0202303547,-0.014807771,-0.0729254186,0.0054197181,0.0431450121,-0.0012009387,0.0505618453,-0.0037164672,0.0422635712,-0.0646357909,0.0057677389,-0.0030889132,-0.0225995015,0.0339518823,-0.0511602312,0.0770578012,0.0000696885,0.0275234766,-0.0451899096,-0.022858832,0.0206859838,-0.044599928,-0.0029386962,0.0037773617,0.0392324999,0.011390538,0.0280095227,-0.0304215122,-0.0346894525,0.0192446541,-0.0174965039,-0.0012165684,-0.0019021876,-0.0324203447,-0.029443793,-0.002719997,-0.0116966283,0.0298654605,0.0606548749,0.0025164487,-0.060397502,-0.0011114132,0.0001021266,-0.0197962634,0.130940631,0.0677748919,0.046565935,-0.0518706143,-0.0268377233,-0.0390650891,0.0355682783,0.000598879,0.0051447931,-0.0333991759,-0.0321922489,-0.0028813654,-0.0178110376,-0.0224915687,0.0080732414,0.0546475835,-0.0270987656,0.0213367995,0.0077455863,0.0173800215,0.0320812911,0.0747623146,0.0664260238,0.041685611,-0.0088134455,0.0053428444,-0.0298774708,0.0679858178,-0.052837342,0.0871810615,0.0351434834,0.0413618237,-0.0026019448,-0.0055295629,-0.0266856253,0.0372128412,0.0499865189,0.0111898743,-0.0356719494,-0.0915699005,0.0517106913,-0.0244521406,-0.0620881356,0.0137492502,0.0732302591,0.0308688041,0.0439081676,-0.0367529467,0.0154628139,-0.0026126266,-0.0470539555,-0.0394536629,-0.0005295802,0.0058374261,0.0519521199,-0.0192570128,0.0282539148,0.0159945488,-0.0149803031,-0.0439476594,0.0541611873,-0.0230310336,-0.0435014702,-0.0021549985,-0.0328733176,-0.0326896086,-0.0168507006,-0.0068407352,0.0055434215,-0.0371178947,0.0105134388,0.0240872577,-0.040334776,0.0393366292,-0.021623129,-0.0334086753,-0.014579121,-0.0039143758,-0.1058114618,-0.0438074172,-0.0424472988,-0.0281885359,-0.0022756879,0.0053621726,-0.0352093093,0.006647991,-0.0597030483,-0.0713924542,0.0493252762,-0.0103669548,-0.0176532641,0.0534074455,-0.0764765441,0.0153535986,-0.0202183854,-0.0405823737,-0.0310919601,0.0092375102,-0.034259174,0.0047613191,-0.0325714089,-0.0416596457,0.0235901531,0.0494365133,-0.0452405997,-0.0334541984,-0.0673423111,0.0194725115,-0.0140186427,0.0970582142,-0.012266729,0.0221495721,-0.0173538383,-0.0037143917,0.0229707807,0.0804164931,0.0620428622,-0.0479861908,-0.023778189,-0.0050070514,0.0427410156,-0.0348663293,-0.0016053808,0.0581251346,0.0360903405,-0.0237670112,0.0072779516,-0.0428308435,-0.0082393633,-0.0716862902,-0.053539902,-0.0094802678,-0.0181142334,-0.0118222916,0.0504266433,-0.0621977895,0.0167134888,0.0633097738,0.059566658,-0.0504029579,-0.0312257092,0.0556421503,-0.0026081062,0.0554500222,0.0058050966,-0.0025225966,-0.0068151765,0.0222907141,0.058788497,-0.0297689065,0.027268324,0.02920934,-0.0239153989,0.0258822106,0.0596114025,0.0322285704,0.0326963998,-0.0199329518,-0.0393788256,0.0171625763,-0.004929,-0.0066239708,0.0263356343,0.0400730744,0.0013385492,-0.0238198061,-0.0175379552,-0.0472463258,0.0003729462,-0.0005483025,0.0582509525,0.012722061,-0.0320957564,0.0075896503,0.0027884587,-0.0105684064,-0.004393762,-0.0018112632,-0.007637735,0.0102371443,0.0335133933,-0.0514904298,-0.0569008477,-0.0484494567,0.0013013453,0.030866906,0.0582759827,0.0446977727,-0.0201003682,-0.0240196437,-0.0094088241,0.0542231537,-0.0329169706,0.0192842726,-0.0086039761,-0.0146538066,0.0067302943,-0.0145086478,0.02835791,0.0183935072,0.0106191756,0.027256202,-0.044033695,-0.0651508123,0.0565743223,0.0008131396,-0.0304566417,-0.0053400472,-0.0100987945,-0.0093247592,0.065689072,0.0572584346,-0.0195685923,-0.0148419514,-0.0922819674,-0.0341372192,-0.0708890483,-0.0158127826,-0.0201109443,0.0242500212,0.0054387022,0.0125867808,0.0534879342,0.036510203,0.0042720623,0.0167437401,-0.0080244476,0.0107544065,-0.0436826088,-0.0458273031,-0.0072198547,0.0283670891,0.005321654,-0.0208342467,0.024645865,0.0259036385,0.0179523509,0.0072209402,-0.0732873678,-0.0020015419,0.0198017973,-0.0172611885,-0.0316343457,0.0381439589,-0.0051079532,-0.055725906,0.0564794242,0.0006150399,0.066420041,-0.0560324378,-0.0755954236,0.0380496904,-0.001068466,0.0135488501,-0.0243322253,0.0447915532,0.0238808021,-0.0017924412,0.0311612207,0.0385864489,0.0085078841,-0.0231829491,-0.0519652553,0.0576224662,-0.0196101461,0.0874764994,-0.0032397148,-0.0296389759,-0.0236794017,-0.0156189157,0.0172435027,-0.0301756971,0.0538565181,-0.0268890169,0.0314667821,-0.0098944241,-0.0172216315,-0.0237080511,-0.0349068046,-0.0283993687,-0.039329987,-0.0234817211,0.0029068496,-0.0152791133,0.0419753194,-0.0314819179,0.021957472,-0.0866540819,0.0037722932,0.0205891822,0.0093118036,-0.0558123402,-0.0456212871,-0.0097804787,-0.0039053252,-0.0770860016,0.0229806416,-0.0472455993,-0.0204685852,0.0702260435,0.0305977799,0.0300548989,-0.0212059114,-0.0006996492,-0.0152645046,-0.0111059835,-0.0402780101,0.0231961329,-0.0203763172,-0.0007799777,-0.017122332,0.0151447495,-0.0124359448,0.0306366682,0.0008046022,-0.0340259001,-0.0267228615,-0.0401444472,0.0303385742,0.0101333736,-0.0181666519,0.0379374959,-0.0707257986,0.076617904,0.0050339405,-0.0360610969,0.0153472172,-0.0320494175,0.0501560196,-0.027997138,-0.0228368696,-0.0520380326,0.0393734761,-0.0351091288,0.007506147,0.0907902718,-0.0040714392,0.0423058607,-0.0362511501,-0.0539835617,0.0326650739,0.0312808678,0.0039506936,-0.0270693228,0.0098048802,0.0554867089,0.0118938359,0.0178635512,0.0635431185,0.011502279,0.0586501919,-0.0025138247,0.021771742,0.0242141318,0.0178896356,0.0399884619,0.0190396812,0.0616487265,0.0040525771,-0.0324981436,0.0380287841,-0.0246598478,0.1215763018,-0.0264578462,-0.0268501602,-0.002569116,0.0460907668,-0.004753083,-0.0543504953,-0.0334701873,-0.0056572855,0.0093718218,-0.0084910812,-0.0185924098,-0.0475947112,0.0062164906,-0.0345270708,0.031737294,0.0046540969,-0.0273415726,0.0277682263,-0.0088863941,-0.0054706535,0.0172097422,-0.0288566742,0.054307431,-0.0152311223,0.0182055198,-0.020585781,0.0134712569,-0.012226874,-0.0034092995,-0.0115559185,-0.0788942203,-0.0092224311,0.0345078297,0.0091862483,-0.0476431064,0.0203331951,0.0557774194,-0.0073714829,-0.0091995858,-0.0205401778,-0.0071782833,-0.0074469456,0.0032681508,-0.0174375307,0.0168851707,0.0417557918,-0.0259908475,-0.0220568832,0.0346717015,0.0036446468,-0.0156972818,0.0178320426,0.120716095,0.0116523327,-0.0099473074,-0.0493999496,-0.0150300059,-0.033147566,-0.0245183855,-0.0117866518,-0.0142244864,0.0355561227,-0.0098767234,0.0243803281,-0.0565355271,-0.0046901805,0.0026474074,-0.0071290894,-0.0602845699,0.0013243565,0.0089368047,-0.0258364063,-0.010458474,0.0055911453,0.0422560871,-0.023817962,0.0269153174,0.0345113873,0.0722660795,0.0133240232,-0.0211955942,0.042850811,-0.0243614726,-0.0206550229,0.0598308109,-0.0357304476,0.018245114,-0.0069661061,0.0073597231,0.0093701035,0.0654886737,-0.0392463729,0.0417330973,-0.0199282207,-0.0440236181,0.0934532657,0.0005980525,0.0197562501,0.0016435812,0.0109836189,0.0095901126,0.073986344,-0.007828719,0.0111159813,-0.0161203928,-0.0427781455,-0.0458701923,-0.0206590965,0.0525842942,-0.043504931,-0.0365793966,0.0045195944,0.0230350159,0.004557427,0.0148238586,0.0532608591,0.0133469012,0.0266359728,0.0115164137,-0.0079375636,0.0209400877,-0.0242153406,0.0040540835,0.0532583334,0.0638149306,-0.0278081428,0.0248487126,-0.047904063,0.010708306,0.0234074965,0.0129117779,-0.0247580819,-0.0270887129,-0.0324271768,0.0129607581,0.0202152189,-0.0158850718,-0.0116001638,-0.0787619129,0.0048577301,-0.0498762503,-0.0017596895,-0.0530329235,0.0426820926,-0.0105420575,0.0640583113,-0.0031305945,0.0417430326,0.0212355219,-0.0465550348,0.0333899334,0.002843583,0.0070112846,0.0359691419,0.0485886708,-0.0003538429,0.0208028164,0.0139815202,-0.0745505169,-0.0373628289,-0.0369935036,-0.0022071949,0.0290106926,0.0631844103,0.0205536503,-0.0025624454,0.0002954466,0.0120626157,0.0212257653,0.0192127042,0.0361605696,0.0425453037,0.055956766,-0.0279927682,0.0397389494,0.0221746713,-0.0302463192,-0.0449823625,-0.0133194095,0.0498826578,-0.0175292119,0.0193425622,-0.0571549647,0.0052519832,-0.0032816157,-0.02543227,-0.0684554502,0.0025505004,-0.0194467846,0.0211706255,-0.0018233284,-0.0377859622,-0.0470676646,-0.0092000384,-0.00344702,-0.0359388664,-0.0057846387,0.0129478797,0.0070287082,-0.0124895107,-0.0525978021,-0.0173119698,-0.010358993,0.0409866795,0.0203582905,-0.0079591805,-0.0126064373,0.0011097441,0.0321159363,0.0225654524,-0.0536615774,0.0942344293,-0.009060381,0.0148252612,-0.0081245322,-0.018546246,0.046516791,0.0322454385]}\n",
      "{\"id\":73344184,\"embedding\":[-0.0160998479,0.0047273533,-0.0771637335,0.0556890368,0.023389155,0.0332732946,0.0239984896,-0.0269963965,-0.008631411,0.0357794873,-0.0356825739,0.0254997313,0.0622662902,-0.0038985456,-0.0458182395,-0.0129341697,0.0436771698,0.0444006957,-0.0661938861,-0.026294427,0.031609863,0.0086891791,0.0083298367,0.0328948945,-0.0287450477,-0.0113649154,-0.0062514506,0.015519375,0.0659034103,0.0088335453,-0.0003231866,0.0470348261,0.0249262508,0.0275122505,0.0190838054,0.0007420503,-0.0055181836,0.0383537002,0.0339565352,-0.009853797,-0.0075814729,0.0093251243,0.0104630496,0.0679303482,0.0330828354,-0.0156250075,-0.0141638685,0.0061457739,-0.0487843081,-0.0420611091,0.0282828305,-0.0764435381,-0.0060414965,0.0192133058,-0.0209855698,-0.0058976924,0.0754068121,-0.0507524274,-0.0280697495,-0.028259756,-0.0636417046,0.016984636,0.0015202722,-0.0470329709,0.0088460576,-0.039708931,-0.0328875855,-0.0098815635,-0.0322400816,0.0194285195,-0.0473516248,-0.0338845141,-0.002564078,-0.0509299375,-0.0021547053,-0.0248251669,-0.0170462579,-0.0364421569,0.0433193743,0.0921626687,0.0027265081,-0.0085629579,0.0380918086,0.0700058341,0.0536536537,-0.0245814528,-0.0199713353,-0.0773798823,-0.0311040469,0.0087778047,0.0836658925,-0.0457965247,0.0260298476,-0.0086444234,-0.0069646495,-0.0552828759,-0.0814845636,-0.0845992044,0.0536951534,0.0550299324,0.004916653,-0.026591517,-0.011320075,-0.0270109922,0.0644894019,0.0140135754,-0.0406299755,0.0230082832,-0.0501947477,-0.0226729866,-0.0229644421,0.0168719608,0.039863579,0.0130762933,-0.0309065375,-0.0448033884,-0.0126780896,0.058231663,-0.0694926605,-0.0225150418,0.0095537892,-0.0098795379,-0.0104091829,0.0468730517,0.0099586919,-0.0228069667,0.0033095411,-0.0542306602,-0.0756925941,0.0155485999,0.0121282134,0.0339448154,-0.0543659441,0.0605479144,0.0275271423,-0.0545776896,0.0039621964,-0.0151561378,0.0357876942,0.0732720122,-0.0198292993,-0.006339984,-0.085938789,0.0215230174,-0.0389199369,-0.0319072269,-0.0224972181,0.0037629392,-0.044124946,-0.008054994,-0.0242631976,0.0183720682,0.0099215135,0.0008954012,-0.0234171748,-0.0189761389,0.0478068404,-0.0485723354,0.0696815178,0.0485145077,0.0198245812,-0.0595361665,0.0180341378,-0.020897476,0.0040570977,0.0247381758,-0.0259783007,0.0066936091,-0.0218027513,-0.0278948434,0.0075861607,-0.0033439761,-0.0180015713,-0.0077824588,-0.0585233048,0.0670347661,-0.0326611958,0.0163653139,-0.0029357702,-0.0638645515,0.0745319948,0.0683036223,0.0279383939,-0.0423759893,0.0562742203,0.0234593451,-0.0376541615,-0.017098859,0.0413507558,0.0298123416,0.0057144044,-0.0007751221,0.0220055319,0.0552078262,-0.0302680153,0.0202972889,0.0214717984,0.0182471331,-0.0257426985,-0.0045721056,-0.0255878903,-0.0131620215,0.0144800302,-0.0640992597,0.0222512782,-0.0343490466,-0.0235275663,-0.0739804059,0.0004610555,-0.0079962676,-0.0103955222,0.0589614138,0.0159692131,-0.0632550344,-0.0140659148,0.0172428619,0.0245696045,0.069521077,-0.0473367311,-0.0493289083,-0.0207714681,0.0099092145,0.0405388996,0.0666135475,0.0682558492,0.0503891744,-0.0097154779,-0.0557323769,0.0190106072,0.0235225745,0.0218347795,0.0322912186,0.0301198512,-0.0300164986,0.0189267956,0.0108022485,0.0231353734,0.0205068905,0.0445005186,0.0864355564,-0.0139883151,0.0262767524,-0.024921516,0.0371235646,0.0807333887,0.0212586857,-0.0827122033,0.0656390041,0.0082227038,-0.0273915641,0.0476503782,0.0241761971,-0.0601144098,0.0356939994,-0.05608676,0.0540956371,0.0427486598,-0.0169994365,-0.0155195631,0.0346873961,0.0228288323,0.005407156,0.0195875466,-0.0149248699,-0.0384940393,-0.0337947421,-0.0082441298,-0.0534916557,-0.0007276166,0.0026703647,0.0452177972,-0.0059501594,-0.0373777747,-0.0365853459,0.0196959767,0.0165107548,0.0220587589,-0.0179735348,-0.0155887688,-0.0414196998,0.0140759479,-0.0222562216,0.0381790251,-0.0139258103,-0.0005151335,0.0195751749,-0.0122821452,0.0288262814,-0.0574458279,0.0246479232,0.0421853513,-0.0170930531,-0.0459440798,-0.0360385627,0.0219964553,-0.0101710968,0.0848862454,0.0081355162,0.0572901629,0.000121676,0.0130033344,0.0266178846,0.0161246322,-0.0017786032,0.0177665111,-0.023567576,-0.0377212428,0.0069551338,0.0474110655,-0.0309460331,-0.0617231391,-0.0018766341,0.0073205796,-0.0306453239,0.0248367637,-0.0049714046,-0.1111629158,-0.0064025642,-0.0031004697,-0.0053824307,-0.0239680447,-0.0180255082,-0.0380543023,0.004802133,0.0149685452,0.010727752,0.0519975424,-0.0171810593,0.009025624,0.0189317167,0.0407606475,0.0100680087,0.011639351,-0.0296386387,0.0087848566,0.094677344,-0.0071635363,-0.0261336546,0.0237885267,-0.0018110172,0.0378764942,0.0103104049,0.0380908698,0.0229271501,0.0131520489,-0.0184674654,0.0307905972,0.0324047059,0.0302657746,0.0212603714,0.0494200774,0.0325476117,0.0031527525,0.0085726567,-0.0026492602,-0.0111216819,0.0904580131,-0.0269743577,0.0531552434,-0.0079581682,0.0390336253,0.0028200941,-0.0379092805,0.0368413664,0.0171531774,-0.0360468663,0.0374522507,0.0415136255,0.0220664535,0.0212361813,-0.0191921201,0.0192172639,0.0044257226,-0.0000136537,0.0385012627,0.0044282191,-0.0172535758,-0.0239368305,0.0430006273,-0.0102845281,0.0179806761,0.0386538915,-0.0126114395,-0.0135806361,0.0256124586,0.0102735059,-0.0294306204,0.046344392,-0.0102931913,0.0187363811,-0.0850435495,0.0276247729,0.0043834783,-0.0428260528,-0.0529879965,0.02611118,-0.0240556914,0.0572407432,0.0240813643,0.0223977026,0.0430989191,-0.0065364614,0.0398963429,0.0110381879,-0.0466612577,-0.0371377319,0.0816780552,-0.0251683351,0.0151590817,0.0704264939,-0.0096342135,-0.0335487314,-0.0544855185,0.0060257027,0.0060554631,-0.0401496962,0.0124333566,-0.0047917455,0.0106199551,-0.0165977068,-0.0168647673,-0.0200707763,-0.0043686461,0.0217952617,-0.0173744559,-0.0819716081,-0.062474221,0.0085911872,-0.0486729443,-0.0647783428,0.0351520777,0.0119933011,0.0056456253,0.0440683812,0.0332999788,0.0445365049,-0.0458387434,-0.0268078782,0.0683873743,0.0761610195,-0.0061014784,-0.04088502,0.016708333,0.0092538688,0.0065364242,0.0087672574,-0.0039310311,0.0065929117,0.0379550196,0.0267003104,0.0250142235,-0.0122777633,0.0203587823,0.000079868,-0.059819784,0.0284315497,-0.000978795,0.0362520963,0.0075308732,-0.0321338885,0.005313985,0.0088608013,-0.007337647,0.0014602036,-0.0607677884,-0.0055670864,0.0486222841,0.0135259693,-0.0122361714,-0.0049037901,-0.0069360351,0.0348669998,0.0663520172,-0.0426070839,-0.0075943922,0.0274864491,-0.0254155006,0.0180063006,-0.0480048731,-0.0471418723,-0.0151550435,-0.0196282715,0.023106819,0.0521407425,0.0372069068,-0.0513443053,-0.0088180294,-0.0031960779,0.009039918,-0.0195411462,-0.0069049606,-0.0202784017,0.0276558381,-0.0801436454,-0.0715496466,0.0136020137,0.0024455313,-0.061780598,0.0066289492,0.0384422876,-0.0116108898,0.0099001043,0.0149553521,0.0077905441,-0.0064457566,0.0122892251,-0.0116699729,0.0241973735,0.0984787568,-0.0130836377,0.0691985935,-0.0435412899,0.0001679688,0.0259578228,0.0290819593,0.0572258979,-0.0183457024,-0.0262707211,-0.0028239992,0.0028463097,0.0002685933,0.007052388,-0.0442638658,-0.0243971199,0.0324099138,-0.0092288516,-0.0027517811,-0.0055178562,0.022417251,-0.0059639961,-0.0280815717,0.0433438607,0.0452864692,-0.0085993027,-0.0269655362,0.0606940947,0.0366741903,0.0004398805,0.0070075188,-0.0097841695,0.0216194186,0.0013969997,0.0051797666,0.0096018855,0.08514411,-0.0568411984,-0.0381605588,0.0668338165,0.0051502474,-0.0038664807,-0.0232725516,-0.0181081928,0.038450513,0.003543867,0.0074074389,0.0272198301,-0.0511411056,0.0057853581,-0.0039219544,-0.0422245786,0.0289592613,-0.0071731629,-0.0680752695,0.0000214807,-0.0119731585,0.0667907447,0.0420056581,0.0845506638,-0.0073531331,0.0046258275,0.0059951041,-0.044480525,-0.025780553,0.0196480528,-0.0166716352,-0.0337666497,-0.0103232935,0.0182276163,0.0005934028,-0.0424357951,0.0113987476,0.0310085509,0.0243427753,0.0372712649,-0.0302372687,-0.0478094779,-0.0287464056,-0.0525493808,-0.0179993771,0.0360918753,-0.0192061309,-0.0281000212,0.0175903905,-0.0337214097,-0.0072644949,0.0398977026,0.0264357515,-0.0109340791,0.0056552314,0.0098748803,0.0300899912,0.0023142779,0.0229594689,-0.0111253094,-0.0382650383,-0.0054389709,-0.0035070973,0.0065989234,-0.0067417864,-0.0560362674,-0.0058880602,0.0468523726,-0.0190317873,-0.0091191623,-0.0529073291,-0.0011678472,0.0416468084,-0.0220986716,-0.0105328476,0.0251227953,0.0317030698,-0.0193430521,-0.011505235,0.0132297957,-0.0068359561,-0.0380907767,-0.0077151908,0.0351906493,0.0849585757,0.0703200623,0.0123646231,0.072089605,0.0176869817,-0.0014397772,-0.0160006881,-0.0462012254,-0.0114015527,-0.0038230449,-0.0156794991,0.005017614,-0.0114134606,0.0150490617,0.0835316852,0.022716362,-0.0038020313,0.0541074164,0.0384430774,-0.0527043417,0.0222189631,0.0592960827,0.033064764,0.0626507998,-0.0133117046,-0.0235973764,-0.0260707196,-0.0535572208,-0.0588846058,-0.0413621254,0.0219297819,0.0342092104,0.0131721189,-0.0494788103,-0.0313066542,0.0029325234,0.0182332415,-0.0170138739,-0.0058151395,-0.0329410918,0.0631716624,-0.091490671,0.0063372655,0.0880091488,0.0296671689,0.0883642286,-0.0111196525,-0.02590218,-0.0035822259,-0.0290820785,-0.0507846177,0.023105301,0.0291965213,-0.0627258494,-0.0247156173,-0.0292799938,-0.0116270352,0.0362974964,0.0093206149,0.0246571619,-0.0721683279,0.0284756124,0.0194188002,0.008811635,-0.0973091573,-0.0060615307,0.0001748873,-0.0067278477,-0.1048236936,0.024118403,-0.0075529711,0.0093037002,-0.0061068451,0.0018819239,-0.0031706274,-0.0440925471,0.0247544553,0.0464506634,-0.0538241901,-0.0038428626,-0.0392692909,0.0130821886,-0.0889069512,0.0038106993,0.0538443364,0.0247820299,0.0056787073,0.0259092022,0.0096483696,-0.0239824727,-0.036328394,0.0382767133,-0.0050019259,-0.0137009826,-0.0094156414,0.009119343,0.0642533898,-0.0079250755,-0.0396844484,0.0144346291,-0.0420809798,0.0350219384,0.0592691563,0.00570908,-0.006284296,-0.015574174,-0.0154958973,-0.0037212928,0.0230094027,0.0032412705,-0.0344014093,0.0090546422,0.0614431649,0.0206371639,0.0005866878,-0.0054622157,-0.029175058,0.0074331323,0.0043716626,-0.071190998,-0.0266344901,0.041168429,-0.0180695746,0.0946160406,-0.0661917999,0.0058883862,0.0509150624,-0.0521117598,0.040157482,-0.0282932967,-0.0110994773,-0.0021018805,0.0003154059,0.0827948377,0.0022562642,0.0131862862,-0.0388328098,-0.009012768,-0.0449066721,0.0456773341]}\n",
      "{\"id\":73392599,\"embedding\":[0.0284675229,-0.0620910078,-0.0631104857,0.0386543311,0.0549183525,0.0264694821,0.0553727075,-0.0386916138,0.0209809747,0.0006231379,-0.0066731744,0.0453121103,-0.0003538123,0.0093604643,-0.06476558,-0.0319217704,0.018438464,0.0099410182,0.0429591686,-0.0458025262,-0.032933481,-0.0350396335,-0.0066789901,-0.0152479466,-0.0265905894,0.0034607509,0.0095927594,-0.007657832,0.0332683027,0.0133022517,0.0113357417,-0.0030368399,-0.0202574115,-0.0142756188,0.0216914434,0.0314166024,0.0014819524,0.0320209712,0.0471952334,-0.0573822297,-0.0512158163,0.041121494,-0.0385527909,-0.0054997667,0.0166244525,-0.0692638755,-0.0446259752,0.0087252529,-0.034580458,0.0564964898,-0.0085257292,0.0036548553,0.0017886634,-0.0083498582,0.0365699306,-0.0242669899,-0.0040943394,0.0270832255,0.0602224655,0.0170066096,0.0326907896,-0.0240897369,-0.0017492068,0.0133651486,0.0188828502,-0.0189435408,-0.0500159189,0.0317859426,-0.0425375551,-0.0255040806,-0.0092666484,-0.0284159295,-0.0375587158,-0.0339277387,-0.0146877803,0.0584502332,0.0295170248,-0.0180570744,0.0052136495,0.0683335066,0.0040280996,-0.0147289392,0.0628929064,0.0169352498,0.0133909658,-0.0071829371,-0.0461725071,-0.051637277,-0.0056906054,0.0084810974,0.0375152044,-0.0175774917,-0.0025563024,0.0343117155,0.0082616527,-0.0811702535,-0.0427166969,-0.0523425341,0.0395235606,0.0708783269,-0.0122785261,-0.0470034853,0.0261976868,-0.0155333141,0.0206463039,0.0263723563,-0.0044327336,-0.0336380266,-0.0280145239,0.025313152,0.0077408417,0.0603850335,-0.01468076,0.0515449345,-0.0100649549,0.0257619601,0.0227544941,0.0547327809,0.0650655702,0.0032128147,0.0039997222,0.0953858346,-0.0118358433,0.0444711372,0.010433889,0.0569704473,0.0380294323,0.0482500121,0.0397732109,-0.0083220201,-0.0008221722,-0.0423344858,-0.0257466938,0.0200067926,0.0515578762,-0.0599005409,0.0433794148,-0.0379327126,-0.015862111,0.0656893402,-0.0396490581,0.0030674112,-0.0688932687,0.001220439,-0.0320588015,-0.0016122597,0.038808465,0.0993478298,-0.0283007808,-0.0063996338,-0.0046635731,0.0013709917,-0.0483785905,0.0003042773,-0.0340236537,0.0042903041,0.0598641485,-0.008998611,0.0474049225,0.0160778277,0.0333730429,-0.0209908579,-0.0067226458,-0.0128341578,0.0090913875,-0.0466565192,-0.0148386732,-0.0403213762,-0.0215996783,-0.0246007387,-0.0613121241,-0.0065257316,-0.035965465,-0.0676268041,-0.0458827168,0.0526795238,0.0236765519,-0.0306451414,-0.0631043836,-0.0156683661,0.059668798,0.0140354829,0.0037815315,-0.0258582123,0.0272706803,-0.0333612338,-0.0321639292,-0.000077607,0.0554016791,0.0814566091,-0.0827595145,0.0278604552,0.0540611185,-0.0042734365,-0.0602491908,-0.0067465906,0.0018474119,-0.0128392661,-0.0548359454,-0.0325411521,0.029285118,-0.0187655948,0.014500089,0.0241410863,-0.0194171071,-0.0329916999,0.0329591557,-0.0077880588,0.0331369862,0.003388606,0.0009501691,-0.0608017109,-0.0503109097,-0.0361960903,0.023301065,0.0243011247,0.0269068014,0.0608697534,0.050798893,0.0174665824,-0.0065320893,-0.0363494158,-0.0287187565,0.0187217426,0.0681464747,-0.0085739493,-0.0145875616,0.0235975385,-0.0642810017,-0.029209109,0.0182447657,0.0215882584,-0.0011953448,0.0140870716,0.0402243696,0.025346797,0.0025318079,0.0137403999,-0.0334218666,0.0146489991,-0.0120203272,-0.0095399832,0.0559326746,0.0316827446,0.0864795968,0.0188874304,0.050749246,0.0443995632,-0.0152303334,-0.025743423,0.038645763,-0.0413010381,-0.0125636803,-0.0512610488,-0.041947227,-0.0344847403,-0.0038656769,0.016522035,-0.049850516,-0.0237989277,0.0106479591,-0.0514870621,-0.0484217741,-0.028974656,-0.013616709,-0.0906693339,-0.0288006291,-0.0319320075,0.0433596,0.0249433648,0.0395434462,-0.0190330204,-0.0405772664,-0.0375722721,-0.0284335874,0.0043901773,-0.0145425107,0.0073429933,-0.0611321367,-0.0224171076,0.0015983593,-0.0037271287,0.086963594,0.0075601791,0.0194363892,-0.006291782,-0.0161044206,0.0252176467,-0.0154693853,0.0148063684,0.0265417192,0.0134123154,-0.0280788969,-0.0494993925,0.022039447,0.0003482756,0.0377376154,-0.0103052007,0.019788377,-0.0343917497,0.0186075736,0.0340798609,-0.0108787138,0.0747764409,0.0073326896,0.0552013591,0.0201663822,0.0115661006,0.0042183301,0.0211160388,0.0493322089,-0.0246552601,-0.0243165661,-0.0314485878,0.0129720084,-0.0438613929,-0.0423305407,-0.0018913029,-0.0303929169,-0.0089366445,-0.0333617069,0.0009915,-0.0167096574,0.0216085315,-0.0018541389,0.0208583027,0.0273235403,-0.0285722204,-0.0126855113,-0.0580266826,0.0263993423,-0.0153700812,0.0323278457,-0.0551090278,-0.0060993,-0.010265925,-0.0602048077,-0.0049662092,0.0773418099,0.0277015343,0.0263356101,-0.0110421199,0.0022879858,0.0014083046,0.0095709246,0.0140206106,-0.0425539538,-0.0427539051,0.0073210709,0.0621561594,0.0487929136,0.0456183292,0.0314069837,-0.0225526486,0.0205316562,-0.0097050676,0.0172867458,0.0021916714,0.0034799236,-0.0042790431,0.0025980682,-0.0226603113,-0.0170853585,0.0236337874,0.0097185057,-0.0031520841,0.0525535531,0.0294946395,-0.0500719734,0.0327498727,0.050380718,0.0645082891,-0.0625238195,0.0072396323,0.0453533567,-0.0789604634,-0.0205267314,-0.0193403717,-0.0040046042,0.0054725925,-0.0012090155,0.0331209004,0.0577919371,-0.0050118188,0.0281770024,0.0406829678,-0.0382479988,0.0235535726,-0.0231127404,-0.031976711,0.005619145,0.0233991966,0.0390518233,0.0540228449,-0.0328770466,-0.0113677075,-0.0006467171,0.0240332205,-0.0106982179,0.0227111652,0.0314575359,-0.0239266101,-0.0273706503,-0.0448289178,-0.0085735014,0.0132956505,0.0203001648,0.0042544585,0.0157774221,-0.0061927107,-0.0061143264,-0.0020267912,-0.0174769145,0.0364083312,0.0493880846,0.0211916585,0.0721251592,-0.0272698961,-0.0457895882,0.0536521077,0.0064097522,0.0314658731,0.0218995921,-0.0405859612,0.0151487505,-0.0108161252,-0.0336216018,-0.0682858974,0.0265176892,-0.020687433,-0.0174674727,-0.0276635177,0.0215347484,0.0599998422,0.0431702994,0.0238609519,-0.0237587318,-0.0105943307,-0.0538830012,0.0589078888,0.1007443815,0.0530061163,0.0683855861,0.0047107143,-0.0148612745,0.0424873382,0.035516873,0.0115262764,0.0206496064,-0.0497419387,0.0177795272,-0.0254075788,-0.0181863029,-0.045706749,-0.0343258157,-0.0166708361,0.0327654518,-0.0196460281,-0.0196045339,0.0299515594,-0.0759926513,0.0392653234,0.0173190404,0.0744446144,-0.0396887437,-0.069595024,0.0174469892,0.0578263067,0.0324213058,-0.0148732439,-0.0171668194,0.0258488767,0.0168413445,-0.001600769,-0.09896148,-0.0125519857,0.0138343265,0.0034259402,-0.0382435955,-0.0326170214,-0.0177423526,-0.009958759,-0.0369198695,-0.0035467865,-0.0293576252,-0.0426911265,0.0166049525,0.0389913581,0.0160484295,-0.0013678108,-0.0689849928,-0.0112622268,-0.0187807623,-0.0165187363,0.0095919026,-0.0006283993,0.0255943034,-0.0126435841,0.0435562432,0.057506673,-0.0141041325,0.035435427,0.0226641707,-0.0252400134,-0.0198294483,-0.0312548652,-0.0417593829,0.0024339994,0.0633566231,0.0034926827,0.0202204529,0.0417067483,0.0039832303,-0.0624408722,-0.0238503627,0.0388166755,-0.0664277747,-0.0224770475,-0.0212326813,0.0074039041,-0.0025916167,0.0032180862,0.0742603838,-0.0287141502,-0.0643809736,-0.0340081751,0.0110995425,-0.006198626,-0.0117218262,-0.032387957,-0.0163837597,0.0561813489,0.0115226945,0.0082056196,0.0474425629,0.0283761229,0.0854421183,-0.0497576557,-0.0114628542,0.0106611196,-0.0164914392,0.0656948686,0.0018472545,-0.0225236043,0.0918034241,0.0143510653,-0.023931982,0.0565250814,0.0064320704,0.0553609766,-0.0775729343,-0.0117887817,0.0221841335,-0.0179237872,0.0071265646,0.0114519643,-0.0074236449,-0.0166408289,-0.0004689886,0.0114471624,-0.0078616319,-0.0134649836,0.0041263052,0.0123896543,0.0289307218,-0.0049431729,-0.0319420472,0.0316317193,-0.0272871964,-0.0135294665,-0.0126371449,-0.0637730137,0.0208809096,-0.0146590946,-0.0693105012,0.0035976698,-0.0293020606,0.0125248916,0.0486520492,0.019692855,-0.0279082898,0.0289532933,0.0427779369,-0.0501647554,-0.0432976335,-0.0036010938,-0.0075791492,0.0152286449,-0.030623477,-0.0004460462,-0.0036479761,-0.0160153545,0.0548116602,-0.039673727,-0.0115853325,-0.0284713805,-0.0008703982,0.0707134157,-0.0466666333,-0.012665648,-0.0125290304,-0.0338409357,0.0816952139,0.0142863262,-0.0499846339,-0.1214173064,0.0059246588,-0.0515234619,-0.0147720901,0.0078278519,-0.0231629908,0.0486176312,-0.0313888453,-0.0393716991,-0.0603157394,0.0438558534,-0.0141536882,-0.0250374097,0.0050947759,0.005753688,-0.0330080763,-0.0179308206,0.0347584896,-0.0158735476,0.0314287692,-0.0236036889,-0.0101973293,-0.0191628095,0.0656135753,0.0435935706,-0.0225257874,0.049267564,0.0486908071,-0.0158521757,-0.021182511,-0.0213687848,-0.0256104693,-0.0268073697,-0.0486118533,-0.0033105779,0.0407650545,-0.0111643812,0.037909694,-0.0277210288,-0.023514675,0.0250799991,0.0319940485,-0.0145654976,-0.0368665829,0.0062263003,-0.0087148948,0.0990361422,0.0502857603,0.0439791828,-0.0713862628,-0.008418221,-0.0408100933,0.0083145574,-0.0055185072,-0.044458691,0.0408814661,-0.018239785,-0.028396057,-0.028479768,0.051513996,-0.0098373434,0.0209121127,0.0357978791,-0.0307648014,-0.0214329399,0.0862993002,0.0024265649,0.068171382,0.0860956982,0.0362636559,0.0252979062,0.0243717227,-0.0449755602,0.0140265673,0.0678533092,-0.0228974074,-0.0429036543,0.0096898265,-0.022666065,-0.0001266213,-0.0179826394,-0.0106341131,-0.064526476,-0.01809722,0.0198433325,0.0197639335,-0.0043661031,-0.0193819385,-0.0092864158,-0.0212729853,0.0561538637,-0.0756783262,-0.0168607589,-0.0693864748,-0.0255722683,0.0790023282,-0.0213473998,-0.0335254371,-0.0469076857,0.0457175709,-0.0177580062,0.0317283645,-0.0054831817,-0.0593222342,0.0171881076,-0.0594513714,0.0465932712,0.0652751923,-0.0075977594,-0.0459874943,0.0168707781,0.0083785644,0.0388952754,0.0143969618,0.025543699,0.0807721913,0.003181827,0.0971540585,0.0060543725,-0.0158973765,-0.0265014973,-0.0152118756,0.0011694048,0.0724755079,0.0176642071,0.0065712295,0.0211214665,-0.0905316472,0.0155772697,-0.0058942521,-0.0139281768,-0.0045334711,-0.0230708942,0.0212597176,-0.0395539589,0.0112707224,0.0153683135,0.0368617326,-0.0265770555,-0.0224069431,0.0587225668,-0.0009164265,0.01609114,0.0111043444,-0.0292121265,-0.0510259531,-0.0580871254,-0.0317242183,-0.0452566482,0.0369682536,-0.0034853162,-0.0114720985,0.0253066737,0.0389416851,-0.0050033866,0.0404455587,-0.012765564,-0.0603684559,0.0236132573,-0.03333636,0.0175141655,0.0531106666,0.0017852794]}\n"
     ]
    }
   ],
   "source": [
    "# save id and embedding as a json file\n",
    "jsonl_string = df[[\"id\", \"embedding\"]].to_json(orient=\"records\", lines=True)\n",
    "with open(\"questions.json\", \"w\") as f:\n",
    "    f.write(jsonl_string)\n",
    "\n",
    "# show the first few lines of the json file\n",
    "! head -n 3 questions.json"
   ]
  },
  {
   "cell_type": "markdown",
   "metadata": {
    "id": "-WTNJ3FAQl_W"
   },
   "source": [
    "Then, create a new Cloud Storage bucket and copy the file to it."
   ]
  },
  {
   "cell_type": "code",
   "execution_count": 15,
   "metadata": {
    "id": "CzwDWJfzAk3n",
    "tags": []
   },
   "outputs": [
    {
     "name": "stdout",
     "output_type": "stream",
     "text": [
      "Creating gs://qwiklabs-gcp-02-a801a98f8d3d-embvs-tutorial-01130552/...\n",
      "Copying file://questions.json [Content-Type=application/json]...\n",
      "/ [1 files][  9.8 MiB/  9.8 MiB]                                                \n",
      "Operation completed over 1 objects/9.8 MiB.                                      \n"
     ]
    }
   ],
   "source": [
    "BUCKET_URI = f\"gs://{PROJECT_ID}-embvs-tutorial-{UID}\"\n",
    "! gsutil mb -l $LOCATION -p {PROJECT_ID} {BUCKET_URI}\n",
    "! gsutil cp questions.json {BUCKET_URI}"
   ]
  },
  {
   "cell_type": "markdown",
   "metadata": {
    "id": "xxdbjKw1XDxl"
   },
   "source": [
    "### Create an Index\n",
    "\n",
    "Now it's ready to load the embeddings to Vector Search. Its APIs are available under the [aiplatform](https://cloud.google.com/python/docs/reference/aiplatform/latest/google.cloud.aiplatform) package of the SDK."
   ]
  },
  {
   "cell_type": "code",
   "execution_count": 16,
   "metadata": {
    "id": "8unyr9KagAoI",
    "tags": []
   },
   "outputs": [],
   "source": [
    "# init the aiplatform package\n",
    "from google.cloud import aiplatform\n",
    "\n",
    "aiplatform.init(project=PROJECT_ID, location=LOCATION)"
   ]
  },
  {
   "cell_type": "markdown",
   "metadata": {
    "id": "xpMUXqWQ75uu"
   },
   "source": [
    "Create an [MatchingEngineIndex](https://cloud.google.com/python/docs/reference/aiplatform/latest/google.cloud.aiplatform.MatchingEngineIndex) with its `create_tree_ah_index` function (Matching Engine is the previous name of Vector Search)."
   ]
  },
  {
   "cell_type": "code",
   "execution_count": 17,
   "metadata": {
    "id": "kKDw5VXMkXb3",
    "tags": []
   },
   "outputs": [
    {
     "name": "stdout",
     "output_type": "stream",
     "text": [
      "Creating MatchingEngineIndex\n",
      "Create MatchingEngineIndex backing LRO: projects/987384280338/locations/us-central1/indexes/5865054507301339136/operations/8015770616407785472\n",
      "MatchingEngineIndex created. Resource name: projects/987384280338/locations/us-central1/indexes/5865054507301339136\n",
      "To use this MatchingEngineIndex in another session:\n",
      "index = aiplatform.MatchingEngineIndex('projects/987384280338/locations/us-central1/indexes/5865054507301339136')\n"
     ]
    }
   ],
   "source": [
    "# create index\n",
    "my_index = aiplatform.MatchingEngineIndex.create_tree_ah_index(\n",
    "    display_name=f\"embvs-tutorial-index-{UID}\",\n",
    "    contents_delta_uri=BUCKET_URI,\n",
    "    dimensions=768,\n",
    "    approximate_neighbors_count=20,\n",
    "    distance_measure_type=\"DOT_PRODUCT_DISTANCE\",\n",
    ")"
   ]
  },
  {
   "cell_type": "markdown",
   "metadata": {
    "id": "2rFam_w9U0dI"
   },
   "source": [
    "By calling the `create_tree_ah_index` function, it starts building an Index. This will take under a few minutes if the dataset is small, otherwise about 50 minutes or more depending on the size of the dataset. You can check status of the index creation on [the Vector Search Console > INDEXES tab](https://console.cloud.google.com/vertex-ai/matching-engine/indexes).\n",
    "\n",
    "![](https://storage.googleapis.com/github-repo/img/embeddings/vs-quickstart/creating-index.png)\n",
    "\n",
    "#### The parameters for creating index\n",
    "\n",
    "- `contents_delta_uri`: The URI of Cloud Storage directory where you stored the embedding JSON files\n",
    "- `dimensions`: Dimension size of each embedding. In this case, it is 768 as we are using the embeddings from the Text Embeddings API.\n",
    "- `approximate_neighbors_count`: how many similar items we want to retrieve in typical cases\n",
    "- `distance_measure_type`: what metrics to measure distance/similarity between embeddings. In this case it's `DOT_PRODUCT_DISTANCE`\n",
    "\n",
    "See [the document](https://cloud.google.com/vertex-ai/docs/vector-search/create-manage-index) for more details on creating Index and the parameters.\n",
    "\n",
    "#### Batch Update or Streaming Update?\n",
    "There are two types of index: Index for *Batch Update* (used in this tutorial) and Index for *Streaming Updates*. The Batch Update index can be updated with a batch process whereas the Streaming Update index can be updated in real-time. The latter one is more suited for use cases where you want to add or update each embeddings in the index more often, and crucial to serve with the latest embeddings, such as e-commerce product search.\n"
   ]
  },
  {
   "cell_type": "markdown",
   "metadata": {
    "id": "VLOAMF50XMI8"
   },
   "source": [
    "### Create Index Endpoint and deploy the Index\n",
    "\n",
    "To use the Index, you need to create an [Index Endpoint](https://cloud.google.com/vertex-ai/docs/vector-search/deploy-index-public). It works as a server instance accepting query requests for your Index."
   ]
  },
  {
   "cell_type": "code",
   "execution_count": 18,
   "metadata": {
    "id": "h6IzyufWCjU1",
    "tags": []
   },
   "outputs": [
    {
     "name": "stdout",
     "output_type": "stream",
     "text": [
      "Creating MatchingEngineIndexEndpoint\n",
      "Create MatchingEngineIndexEndpoint backing LRO: projects/987384280338/locations/us-central1/indexEndpoints/1951637537348911104/operations/2823120246049603584\n",
      "MatchingEngineIndexEndpoint created. Resource name: projects/987384280338/locations/us-central1/indexEndpoints/1951637537348911104\n",
      "To use this MatchingEngineIndexEndpoint in another session:\n",
      "index_endpoint = aiplatform.MatchingEngineIndexEndpoint('projects/987384280338/locations/us-central1/indexEndpoints/1951637537348911104')\n"
     ]
    }
   ],
   "source": [
    "# create IndexEndpoint\n",
    "my_index_endpoint = aiplatform.MatchingEngineIndexEndpoint.create(\n",
    "    display_name=f\"embvs-tutorial-index-endpoint-{UID}\",\n",
    "    public_endpoint_enabled=True,\n",
    ")"
   ]
  },
  {
   "cell_type": "markdown",
   "metadata": {
    "id": "11e3e1a3a9e9"
   },
   "source": [
    "This tutorial utilizes a [Public Endpoint](https://cloud.google.com/vertex-ai/docs/vector-search/setup/setup#choose-endpoint) and does not support [Virtual Private Cloud (VPC)](https://cloud.google.com/vpc/docs/private-services-access). Unless you have a specific requirement for VPC, we recommend using a Public Endpoint. Despite the term \"public\" in its name, it does not imply open access to the public internet. Rather, it functions like other endpoints in Vertex AI services, which are secured by default through IAM. Without explicit IAM permissions, as we have previously established, no one can access the endpoint."
   ]
  },
  {
   "cell_type": "markdown",
   "metadata": {
    "id": "8n33iO1T5hFO"
   },
   "source": [
    "With the Index Endpoint, deploy the Index by specifying an unique deployed index ID."
   ]
  },
  {
   "cell_type": "code",
   "execution_count": 19,
   "metadata": {
    "id": "FcBHLifGwAWq",
    "tags": []
   },
   "outputs": [],
   "source": [
    "DEPLOYED_INDEX_ID = f\"embvs_tutorial_deployed_{UID}\""
   ]
  },
  {
   "cell_type": "code",
   "execution_count": 20,
   "metadata": {
    "id": "1jUoGhY5TPFP",
    "tags": []
   },
   "outputs": [
    {
     "name": "stdout",
     "output_type": "stream",
     "text": [
      "Deploying index MatchingEngineIndexEndpoint index_endpoint: projects/987384280338/locations/us-central1/indexEndpoints/1951637537348911104\n",
      "Deploy index MatchingEngineIndexEndpoint index_endpoint backing LRO: projects/987384280338/locations/us-central1/indexEndpoints/1951637537348911104/operations/4654959394482552832\n",
      "MatchingEngineIndexEndpoint index_endpoint Deployed index. Resource name: projects/987384280338/locations/us-central1/indexEndpoints/1951637537348911104\n"
     ]
    },
    {
     "data": {
      "text/plain": [
       "<google.cloud.aiplatform.matching_engine.matching_engine_index_endpoint.MatchingEngineIndexEndpoint object at 0x7f576cb42230> \n",
       "resource name: projects/987384280338/locations/us-central1/indexEndpoints/1951637537348911104"
      ]
     },
     "execution_count": 20,
     "metadata": {},
     "output_type": "execute_result"
    }
   ],
   "source": [
    "# deploy the Index to the Index Endpoint\n",
    "my_index_endpoint.deploy_index(index=my_index, deployed_index_id=DEPLOYED_INDEX_ID)"
   ]
  },
  {
   "cell_type": "markdown",
   "metadata": {
    "id": "xu9ZmWcpXQ55"
   },
   "source": [
    "If it is the first time to deploy an Index to an Index Endpoint, it will take around 25 minutes to automatically build and initiate the backend for it. After the first deployment, it will finish in seconds. To see the status of the index deployment, open [the Vector Search Console > INDEX ENDPOINTS tab](https://console.cloud.google.com/vertex-ai/matching-engine/index-endpoints) and click the Index Endpoint.\n",
    "\n",
    "<img src=\"https://storage.googleapis.com/github-repo/img/embeddings/vs-quickstart/deploying-index.png\" width=\"70%\">"
   ]
  },
  {
   "cell_type": "markdown",
   "metadata": {
    "id": "oTi4PjjbXV-O"
   },
   "source": [
    "### Run Query\n",
    "\n",
    "Finally it's ready to use Vector Search. In the following code, it creates an embedding for a test question, and find similar question with the Vector Search."
   ]
  },
  {
   "cell_type": "code",
   "execution_count": 21,
   "metadata": {
    "id": "FhNuRQqUWdfe",
    "tags": []
   },
   "outputs": [
    {
     "name": "stderr",
     "output_type": "stream",
     "text": [
      "100%|██████████| 1/1 [00:01<00:00,  1.10s/it]\n"
     ]
    }
   ],
   "source": [
    "test_embeddings = get_embeddings_wrapper([\"How to read JSON with Python?\"])"
   ]
  },
  {
   "cell_type": "code",
   "execution_count": 22,
   "metadata": {
    "id": "Q01DGMBPXAg-",
    "tags": []
   },
   "outputs": [
    {
     "name": "stdout",
     "output_type": "stream",
     "text": [
      "0.6428 Create a table like structure with keys on the left and values on the right of the table from json data and display on html using python flask\n",
      "0.6372 I can't figure out how to load JSON file data into my html project\n",
      "0.5765 How to calculate percentages inside nested dictionaries in Python\n",
      "0.5671 Gets only the first value from the JSON array. What should I do?\n",
      "0.5667 How to convert nested json to csv with multiple different names?\n",
      "0.5578 Web scraping multiple pages in python\n",
      "0.5526 How to get data from font on python\n",
      "0.5518 yolov5, for a trained model, feed an image and get in return found classes with scores and bounding boxes as json\n",
      "0.5450 Discard JSON objects if they contain substrings from a list\n",
      "0.5421 Check every layer of nested dict for two specific keys and return key value pair\n",
      "0.5409 Convert string into data frame\n",
      "0.5401 Transforming json file using jq so data ends up under a common object\n",
      "0.5361 Getting the sum of a csv column without pandas in python\n",
      "0.5360 json.dumps() encodes StrEnum with custom __new__ to empty string\n",
      "0.5324 Python - Problem understanding the BeautifulSoup XML structure and (re-)writing to file\n",
      "0.5247 JSON Property names with dots in Javascript using Jackson-like library\n",
      "0.5238 Flutter Json parsing relationships\n",
      "0.5135 How to deploy small python services\n",
      "0.5125 Python: How to remove part of a string starting at a keyword for multiple lines?\n",
      "0.5104 Extract text values from a dataframe (like operators) - Python\n"
     ]
    }
   ],
   "source": [
    "# Test query\n",
    "response = my_index_endpoint.find_neighbors(\n",
    "    deployed_index_id=DEPLOYED_INDEX_ID,\n",
    "    queries=test_embeddings,\n",
    "    num_neighbors=20,\n",
    ")\n",
    "\n",
    "# show the result\n",
    "import numpy as np\n",
    "\n",
    "for idx, neighbor in enumerate(response[0]):\n",
    "    id = np.int64(neighbor.id)\n",
    "    similar = df.query(\"id == @id\", engine=\"python\")\n",
    "    print(f\"{neighbor.distance:.4f} {similar.title.values[0]}\")"
   ]
  },
  {
   "cell_type": "markdown",
   "metadata": {
    "id": "tPDOL9caoYZ9"
   },
   "source": [
    "The `find_neighbors` function only takes milliseconds to fetch the similar items even when you have billions of items on the Index, thanks to the ScaNN algorithm. Vector Search also supports [autoscaling](https://cloud.google.com/vertex-ai/docs/vector-search/deploy-index-public#autoscaling) which can automatically resize the number of nodes based on the demands of your workloads."
   ]
  },
  {
   "cell_type": "markdown",
   "metadata": {
    "id": "DDt4D6FDyc66"
   },
   "source": [
    "# IMPORTANT: Cleaning Up\n",
    "\n",
    "In case you are using your own Cloud project, not a temporary project on Qwiklab, please make sure to delete all the Indexes, Index Endpoints and Cloud Storage buckets after finishing this tutorial. Otherwise the remaining objects would **incur unexpected costs**.\n",
    "\n",
    "If you used Workbench, you may also need to delete the Notebooks from [the console](https://console.cloud.google.com/vertex-ai/workbench)."
   ]
  },
  {
   "cell_type": "code",
   "execution_count": null,
   "metadata": {
    "id": "MEsKVzguyxNx"
   },
   "outputs": [],
   "source": [
    "# wait for a confirmation\n",
    "input(\"Press Enter to delete Index Endpoint, Index and Cloud Storage bucket:\")\n",
    "\n",
    "# delete Index Endpoint\n",
    "my_index_endpoint.undeploy_all()\n",
    "my_index_endpoint.delete(force=True)\n",
    "\n",
    "# delete Index\n",
    "my_index.delete()\n",
    "\n",
    "# delete Cloud Storage bucket\n",
    "! gsutil rm -r {BUCKET_URI}"
   ]
  },
  {
   "cell_type": "markdown",
   "metadata": {
    "id": "b8k26QOF3Ys7"
   },
   "source": [
    "# Summary\n",
    "\n",
    "## Grounding LLM outputs with Vertex AI Vector Search\n",
    "\n",
    "As we have seen, by combining the Embeddings API and Vector Search, you can use the embeddings to \"ground\" LLM outputs to real business data with low latency.\n",
    "\n",
    "For example, if an user asks a question, Embeddings API can convert it to an embedding, and issue a query on Vector Search to find similar embeddings in its index. Those embeddings represent the actual business data in the databases. As we are just retrieving the business data and not generating any artificial texts, there is no risk of having hallucinations in the result.\n",
    "\n",
    "![](https://storage.googleapis.com/gweb-cloudblog-publish/original_images/10._grounding.png)\n",
    "\n",
    "### The difference between the questions and answers\n",
    "\n",
    "In this tutorial, we have used the Stack Overflow dataset. There is a reason why we had to use it; As the dataset has many pairs of **questions and answers**, so you can just find questions similar to your question to find answers to it.\n",
    "\n",
    "In many business use cases, the semantics (meaning) of questions and answers are different. Also, there could be cases where you would want to add variety of recommended or personalized items to the results, like product search on e-commerce sites.\n",
    "\n",
    "In these cases, the simple semantics search don't work well. It's more like a recommendation system problem where you may want to train a model (e.g. Two-Tower model) to learn the relationship between the question embedding space and answer embedding space. Also, many production systems adds reranking phase after the semantic search to achieve higher search quality. Please see [Scaling deep retrieval with TensorFlow Recommenders and Vertex AI Matching Engine](https://cloud.google.com/blog/products/ai-machine-learning/scaling-deep-retrieval-tensorflow-two-towers-architecture) to learn more.\n",
    "\n",
    "### Hybrid of semantic + keyword search\n",
    "\n",
    "Another typical challenge you will face in production system is to support keyword search combined with the semantic search. For example, for e-commerce product search, you may want to let users find product by entering its product name or model number. As LLM doesn't memorize those product names or model numbers, semantic search can't handle those \"usual\" search functionalities.\n",
    "\n",
    "[Vertex AI Search](https://cloud.google.com/blog/products/ai-machine-learning/vertex-ai-search-and-conversation-is-now-generally-available) is another product you may consider for those requirements. While Vector Search provides a simple semantic search capability only, Search provides a integrated search solution that combines semantic search, keyword search, reranking and filtering, available as an out-of-the-box tool.\n",
    "\n",
    "### What about Retrieval Augmented Generation (RAG)?\n",
    "\n",
    "In this tutorial, we have looked at the simple combination of LLM embeddings and vector search. From this starting point, you may also extend the design to [Retrieval Augmented Generation (RAG)](https://www.google.com/search?q=Retrieval+Augmented+Generation+(RAG)&oq=Retrieval+Augmented+Generation+(RAG)).\n",
    "\n",
    "RAG is a popular architecture pattern of implementing grounding with LLM with text chat UI. The idea is to have the LLM text chat UI as a frontend for the document retrieval with vector search and summarization of the result.\n",
    "\n",
    "![](https://storage.googleapis.com/gweb-cloudblog-publish/images/Figure-7-Ask_Your_Documents_Flow.max-529x434.png)\n",
    "\n",
    "There are some pros and cons between the two solutions.\n",
    "\n",
    "| | Embeddings + vector search | RAG |\n",
    "|---|---|---|\n",
    "| Design | simple | complex |\n",
    "| UI | Text search UI | Text chat UI |\n",
    "| Summarization of result | No | Yes |\n",
    "| Multi-turn (Context aware) | No | Yes |\n",
    "| Latency | milliseconds | seconds |\n",
    "| Cost | lower | higher |\n",
    "| Hallucinations | No risk | Some risk |\n",
    "\n",
    "The Embedding + vector search pattern we have looked at with this tutorial provides simple, fast and low cost semantic search functionality with the LLM intelligence. RAG adds context-aware text chat experience and result summarization to it. While RAG provides the more \"Gen AI-ish\" experience, it also adds a risk of hallucination and higher cost and time for the text generation.\n",
    "\n",
    "To learn more about how to build a RAG solution, you may look at [Building Generative AI applications made easy with Vertex AI PaLM API and LangChain](https://cloud.google.com/blog/products/ai-machine-learning/generative-ai-applications-with-vertex-ai-palm-2-models-and-langchain).\n",
    "\n",
    "## Resources\n",
    "\n",
    "To learn more, please check out the following resources:\n",
    "\n",
    "### Documentations\n",
    "\n",
    "[Vertex AI Embeddings for Text API documentation\n",
    "](https://cloud.google.com/vertex-ai/docs/generative-ai/embeddings/get-text-embeddings)\n",
    "\n",
    "[Vector Search documentation](https://cloud.google.com/vertex-ai/docs/matching-engine/overview)\n",
    "\n",
    "### Vector Search blog posts\n",
    "\n",
    "[Vertex Matching Engine: Blazing fast and massively scalable nearest neighbor search](https://cloud.google.com/blog/products/ai-machine-learning/vertex-matching-engine-blazing-fast-and-massively-scalable-nearest-neighbor-search)\n",
    "\n",
    "[Find anything blazingly fast with Google's vector search technology](https://cloud.google.com/blog/topics/developers-practitioners/find-anything-blazingly-fast-googles-vector-search-technology)\n",
    "\n",
    "[Enabling real-time AI with Streaming Ingestion in Vertex AI](https://cloud.google.com/blog/products/ai-machine-learning/real-time-ai-with-google-cloud-vertex-ai)\n",
    "\n",
    "[Mercari leverages Google's vector search technology to create a new marketplace](https://cloud.google.com/blog/topics/developers-practitioners/mercari-leverages-googles-vector-search-technology-create-new-marketplace)\n",
    "\n",
    "[Recommending news articles using Vertex AI Matching Engine](https://cloud.google.com/blog/products/ai-machine-learning/recommending-articles-using-vertex-ai-matching-engine)\n",
    "\n",
    "[What is Multimodal Search: \"LLMs with vision\" change businesses](https://cloud.google.com/blog/products/ai-machine-learning/multimodal-generative-ai-search)"
   ]
  },
  {
   "cell_type": "markdown",
   "metadata": {
    "id": "BE1tELsH-u8N"
   },
   "source": [
    "# Utilities\n",
    "\n",
    "Sometimes it takes tens of minutes to create or deploy Indexes and you would lose connection with the Colab runtime. In that case, instead of creating or deploying new Index again, you can check [the Vector Search Console](https://console.cloud.google.com/vertex-ai/matching-engine/index-endpoints) and get the existing ones to continue."
   ]
  },
  {
   "cell_type": "markdown",
   "metadata": {
    "id": "wF_pkdpJ-yaq"
   },
   "source": [
    "## Get an existing Index\n",
    "\n",
    "To get an Index object that already exists, replace the following `[your-index-id]` with the index ID and run the cell. You can check the ID on [the Vector Search Console > INDEXES tab](https://console.cloud.google.com/vertex-ai/matching-engine/indexes)."
   ]
  },
  {
   "cell_type": "code",
   "execution_count": null,
   "metadata": {
    "id": "mEBkZZt_-0jG"
   },
   "outputs": [],
   "source": [
    "my_index_id = \"[your-index-id]\"  # @param {type:\"string\"}\n",
    "my_index = aiplatform.MatchingEngineIndex(my_index_id)"
   ]
  },
  {
   "cell_type": "markdown",
   "metadata": {
    "id": "_vlgzkyw-3CI"
   },
   "source": [
    "## Get an existing Index Endpoint\n",
    "\n",
    "To get an Index Endpoint object that already exists, replace the following `[your-index-endpoint-id]` with the Index Endpoint ID and run the cell. You can check the ID on [the Vector Search Console > INDEX ENDPOINTS tab](https://console.cloud.google.com/vertex-ai/matching-engine/index-endpoints)."
   ]
  },
  {
   "cell_type": "code",
   "execution_count": null,
   "metadata": {
    "id": "E0OFnirF-6Rk"
   },
   "outputs": [],
   "source": [
    "my_index_endpoint_id = \"[your-index-endpoint-id]\"  # @param {type:\"string\"}\n",
    "my_index_endpoint = aiplatform.MatchingEngineIndexEndpoint(my_index_endpoint_id)"
   ]
  }
 ],
 "metadata": {
  "colab": {
   "name": "intro-textemb-vectorsearch.ipynb",
   "toc_visible": true
  },
  "environment": {
   "kernel": "conda-base-py",
   "name": "workbench-notebooks.m126",
   "type": "gcloud",
   "uri": "us-docker.pkg.dev/deeplearning-platform-release/gcr.io/workbench-notebooks:m126"
  },
  "kernelspec": {
   "display_name": "Python 3 (ipykernel) (Local)",
   "language": "python",
   "name": "conda-base-py"
  },
  "language_info": {
   "codemirror_mode": {
    "name": "ipython",
    "version": 3
   },
   "file_extension": ".py",
   "mimetype": "text/x-python",
   "name": "python",
   "nbconvert_exporter": "python",
   "pygments_lexer": "ipython3",
   "version": "3.10.15"
  }
 },
 "nbformat": 4,
 "nbformat_minor": 4
}
