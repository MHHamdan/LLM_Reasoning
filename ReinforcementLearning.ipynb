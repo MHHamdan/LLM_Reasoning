{
  "nbformat": 4,
  "nbformat_minor": 0,
  "metadata": {
    "colab": {
      "provenance": [],
      "authorship_tag": "ABX9TyOLNPfcQwVHn1q8Jk6B8F0z",
      "include_colab_link": true
    },
    "kernelspec": {
      "name": "python3",
      "display_name": "Python 3"
    },
    "language_info": {
      "name": "python"
    }
  },
  "cells": [
    {
      "cell_type": "markdown",
      "metadata": {
        "id": "view-in-github",
        "colab_type": "text"
      },
      "source": [
        "<a href=\"https://colab.research.google.com/github/MHHamdan/LLM_Reasoning/blob/main/ReinforcementLearning.ipynb\" target=\"_parent\"><img src=\"https://colab.research.google.com/assets/colab-badge.svg\" alt=\"Open In Colab\"/></a>"
      ]
    },
    {
      "cell_type": "markdown",
      "source": [
        "# Reinforcement Learning Basics\n",
        "Reinforcement Learning (RL) is a machine learning technique where an agent learns by interacting with an environment to maximize cumulative rewards.\n",
        "\n",
        "## In this notebook, we will:\n",
        "\n",
        "Understand RL concepts (Agent, Environment, Rewards, Actions).\n",
        "Implement a simple grid-based environment.\n",
        "Use Q-learning, a fundamental RL algorithm.\n",
        "Train an agent and visualize its learning progress.\n"
      ],
      "metadata": {
        "id": "HfA34NKW3zTt"
      }
    },
    {
      "cell_type": "markdown",
      "source": [
        "## Step 1: Import Necessary Libraries\n",
        "\n",
        "### We need to import some essential Python libraries:\n",
        "\n",
        "- numpy: For handling numerical operations.\n",
        "- matplotlib.pyplot: To visualize training progress.\n",
        "- random: To help with action selection."
      ],
      "metadata": {
        "id": "zcDZSI3P4hQl"
      }
    },
    {
      "cell_type": "code",
      "execution_count": 1,
      "metadata": {
        "id": "YnDEC_xA3yhl"
      },
      "outputs": [],
      "source": [
        "import numpy as np\n",
        "import matplotlib.pyplot as plt\n",
        "import random\n"
      ]
    },
    {
      "cell_type": "markdown",
      "source": [
        "## Step 2: Define the Environment\n",
        "In reinforcement learning, an `environment` is where the agent operates. Here, we define a simple grid-based environment where:\n",
        "\n",
        "- The agent starts at the top-left corner (0, 0).\n",
        "- The goal is at the bottom-right corner (size-1, size-1).\n",
        "- The agent receives a reward of +1 for reaching the goal and -0.1 for each other step."
      ],
      "metadata": {
        "id": "oOr9W04Z4yUA"
      }
    },
    {
      "cell_type": "code",
      "source": [
        "class GridWorld:\n",
        "    def __init__(self, size=5):\n",
        "        self.size = size\n",
        "        self.state = (0, 0)  # Starting position\n",
        "        self.goal = (size-1, size-1)  # Goal position\n",
        "\n",
        "    def reset(self):\n",
        "        \"\"\"Reset the environment to the initial state.\"\"\"\n",
        "        self.state = (0, 0)\n",
        "        return self.state\n",
        "\n",
        "    def step(self, action):\n",
        "        \"\"\"Apply an action and return the new state, reward, and done flag.\"\"\"\n",
        "        x, y = self.state\n",
        "        if action == 0:  # Move up\n",
        "            x = max(x - 1, 0)\n",
        "        elif action == 1:  # Move down\n",
        "            x = min(x + 1, self.size - 1)\n",
        "        elif action == 2:  # Move left\n",
        "            y = max(y - 1, 0)\n",
        "        elif action == 3:  # Move right\n",
        "            y = min(y + 1, self.size - 1)\n",
        "\n",
        "        self.state = (x, y)\n",
        "        reward = 1 if self.state == self.goal else -0.1\n",
        "        done = self.state == self.goal\n",
        "        return self.state, reward, done\n"
      ],
      "metadata": {
        "id": "CMzHI1MK5lCm"
      },
      "execution_count": 2,
      "outputs": []
    },
    {
      "cell_type": "code",
      "source": [
        "env = GridWorld();\n",
        "print(env.reset())"
      ],
      "metadata": {
        "colab": {
          "base_uri": "https://localhost:8080/"
        },
        "id": "noaRInaK5ls3",
        "outputId": "d94653dc-b13a-4a42-c428-5d13ed7b204d"
      },
      "execution_count": 3,
      "outputs": [
        {
          "output_type": "stream",
          "name": "stdout",
          "text": [
            "(0, 0)\n"
          ]
        }
      ]
    },
    {
      "cell_type": "markdown",
      "source": [
        "## Step 3: Define the Q-learning Agent\n",
        "A Q-learning agent learns by updating a Q-table, which stores the expected rewards for each state-action pair.\n",
        "\n",
        "Exploration vs. Exploitation:\n",
        "- The agent sometimes explores random actions (epsilon chance).\n",
        "- Otherwise, it exploits the best-known action from the Q-table.\n",
        "\n",
        "\n",
        "Updates Q-values using the Bellman equation:\n",
        "\n",
        "Q\n",
        "(\n",
        "s\n",
        ",\n",
        "a\n",
        ")\n",
        "←\n",
        "Q\n",
        "(\n",
        "s\n",
        ",\n",
        "a\n",
        ")\n",
        "+\n",
        "α\n",
        "×\n",
        "(\n",
        "r\n",
        "+\n",
        "γ\n",
        "max\n",
        "⁡\n",
        "a\n",
        "Q\n",
        "(\n",
        "s\n",
        "′\n",
        ",\n",
        "a\n",
        ")\n",
        "−\n",
        "Q\n",
        "(\n",
        "s\n",
        ",\n",
        "a\n",
        ")\n",
        ")\n",
        "Q(s,a)←Q(s,a)+α×(r+γ\n",
        "a\n",
        "max\n",
        "​\n",
        " Q(s\n",
        "′\n",
        " ,a)−Q(s,a))\n",
        "\n",
        "\n",
        "\n",
        "\n",
        "Meaning: New Q-value is a mix of the old value and the newly observed reward.\n"
      ],
      "metadata": {
        "id": "CXf0G0dd9l3k"
      }
    },
    {
      "cell_type": "code",
      "source": [
        "class QLearningAgent:\n",
        "    def __init__(self, env, alpha=0.1, gamma=0.9, epsilon=0.1):\n",
        "        self.env = env\n",
        "        self.q_table = np.zeros((env.size, env.size, 4))  # Q-table for each state (x, y) and 4 actions\n",
        "        self.alpha = alpha  # Learning rate\n",
        "        self.gamma = gamma  # Discount factor\n",
        "        self.epsilon = epsilon  # Exploration rate\n",
        "\n",
        "    def choose_action(self, state):\n",
        "        \"\"\"Selects an action using epsilon-greedy policy.\"\"\"\n",
        "        if np.random.rand() < self.epsilon:\n",
        "            return np.random.choice(4)  # Explore (random action)\n",
        "        else:\n",
        "            x, y = state\n",
        "            return np.argmax(self.q_table[x, y])  # Exploit (best known action)\n",
        "\n",
        "    def learn(self, state, action, reward, next_state):\n",
        "        \"\"\"Updates Q-table using the Bellman equation.\"\"\"\n",
        "        x, y = state\n",
        "        nx, ny = next_state\n",
        "        best_next_action = np.max(self.q_table[nx, ny])  # Best\n",
        "        self.q_table[x, y, action] += self.alpha * (reward + self.gamma * best_next_action - self.q_table[x, y, action])"
      ],
      "metadata": {
        "id": "LHLoTU459Xuz"
      },
      "execution_count": 6,
      "outputs": []
    },
    {
      "cell_type": "code",
      "source": [
        "env = GridWorld()\n",
        "agent = QLearningAgent(env)\n",
        "print(agent.q_table)\n"
      ],
      "metadata": {
        "colab": {
          "base_uri": "https://localhost:8080/"
        },
        "id": "brtN28_R-Nwv",
        "outputId": "f5624a61-0b36-497a-c18e-14348de18485"
      },
      "execution_count": 7,
      "outputs": [
        {
          "output_type": "stream",
          "name": "stdout",
          "text": [
            "[[[0. 0. 0. 0.]\n",
            "  [0. 0. 0. 0.]\n",
            "  [0. 0. 0. 0.]\n",
            "  [0. 0. 0. 0.]\n",
            "  [0. 0. 0. 0.]]\n",
            "\n",
            " [[0. 0. 0. 0.]\n",
            "  [0. 0. 0. 0.]\n",
            "  [0. 0. 0. 0.]\n",
            "  [0. 0. 0. 0.]\n",
            "  [0. 0. 0. 0.]]\n",
            "\n",
            " [[0. 0. 0. 0.]\n",
            "  [0. 0. 0. 0.]\n",
            "  [0. 0. 0. 0.]\n",
            "  [0. 0. 0. 0.]\n",
            "  [0. 0. 0. 0.]]\n",
            "\n",
            " [[0. 0. 0. 0.]\n",
            "  [0. 0. 0. 0.]\n",
            "  [0. 0. 0. 0.]\n",
            "  [0. 0. 0. 0.]\n",
            "  [0. 0. 0. 0.]]\n",
            "\n",
            " [[0. 0. 0. 0.]\n",
            "  [0. 0. 0. 0.]\n",
            "  [0. 0. 0. 0.]\n",
            "  [0. 0. 0. 0.]\n",
            "  [0. 0. 0. 0.]]]\n"
          ]
        }
      ]
    },
    {
      "cell_type": "markdown",
      "source": [
        "## Step 4: Train the Agent\n",
        "Now, we will train the agent by running multiple episodes, allowing it to:\n",
        "\n",
        "- Start at (0,0)\n",
        "- Explore the environment, choosing actions based on the Q-learning policy\n",
        "- Update the Q-table over time\n",
        "- Learn the optimal path to reach the goal"
      ],
      "metadata": {
        "id": "Z3rAcEMYDT3g"
      }
    },
    {
      "cell_type": "code",
      "source": [
        "def train_agent(episodes=500):\n",
        "    env = GridWorld()\n",
        "    agent = QLearningAgent(env)\n",
        "    rewards = []\n",
        "\n",
        "    for episode in range(episodes):\n",
        "        state = env.reset()\n",
        "        total_reward = 0\n",
        "        done = False\n",
        "\n",
        "        while not done:\n",
        "            action = agent.choose_action(state)\n",
        "            next_state, reward, done = env.step(action)\n",
        "            agent.learn(state, action, reward, next_state)\n",
        "            state = next_state\n",
        "            total_reward += reward\n",
        "\n",
        "        rewards.append(total_reward)\n",
        "\n",
        "    return agent, rewards\n"
      ],
      "metadata": {
        "id": "YVrSU_RpDKWQ"
      },
      "execution_count": 8,
      "outputs": []
    },
    {
      "cell_type": "code",
      "source": [
        "def train_agent(episodes=500):\n",
        "    env = GridWorld()\n",
        "    agent = QLearningAgent(env)\n",
        "    rewards = []\n",
        "\n",
        "    for episode in range(episodes):\n",
        "        state = env.reset()\n",
        "        total_reward = 0\n",
        "        done = False\n",
        "\n",
        "        while not done:\n",
        "            action = agent.choose_action(state)\n",
        "            next_state, reward, done = env.step(action)\n",
        "            agent.learn(state, action, reward, next_state)\n",
        "            state = next_state\n",
        "            total_reward += reward\n",
        "\n",
        "        rewards.append(total_reward)\n",
        "\n",
        "    return agent, rewards\n"
      ],
      "metadata": {
        "id": "BeYonokJDe7s"
      },
      "execution_count": 9,
      "outputs": []
    },
    {
      "cell_type": "code",
      "source": [
        "trained_agent, rewards = train_agent()\n",
        "print(trained_agent.q_table)\n"
      ],
      "metadata": {
        "colab": {
          "base_uri": "https://localhost:8080/"
        },
        "id": "ttjNnXZNE4zJ",
        "outputId": "710c3e21-6355-4f07-d6fa-b94dc8ac4064"
      },
      "execution_count": 10,
      "outputs": [
        {
          "output_type": "stream",
          "name": "stdout",
          "text": [
            "[[[-0.22643495 -0.15913636 -0.19028462 -0.0434062 ]\n",
            "  [-0.15760392  0.062882   -0.18132159 -0.13950654]\n",
            "  [-0.16548624  0.10510514 -0.14885574 -0.16392764]\n",
            "  [-0.10598356  0.1353936  -0.11044293 -0.10814761]\n",
            "  [-0.07725531 -0.05797122 -0.07159693 -0.07660558]]\n",
            "\n",
            " [[-0.21522687 -0.23010302 -0.22992971  0.0365297 ]\n",
            "  [-0.10035595 -0.0454684  -0.15374562  0.18098   ]\n",
            "  [-0.10859705  0.20121433  0.00144403  0.3122    ]\n",
            "  [-0.06780348  0.458       0.1218616   0.3113181 ]\n",
            "  [-0.04842451  0.59935922 -0.0539908  -0.0393238 ]]\n",
            "\n",
            " [[-0.16946959 -0.16838906 -0.17313621 -0.16557766]\n",
            "  [-0.12968015 -0.11736393 -0.14859607  0.198883  ]\n",
            "  [-0.06719534 -0.06270111 -0.07701658  0.45402924]\n",
            "  [ 0.22701467  0.40093985  0.18548115  0.62      ]\n",
            "  [ 0.23254441  0.8         0.3474138   0.52407156]]\n",
            "\n",
            " [[-0.13107799 -0.10775661 -0.11361513 -0.10804963]\n",
            "  [-0.07361856  0.00949397 -0.0831377  -0.07221376]\n",
            "  [-0.04333515  0.15785252 -0.05379677 -0.03513619]\n",
            "  [-0.0199      0.75665752 -0.02233729 -0.01      ]\n",
            "  [ 0.36411015  1.          0.2406857   0.37447148]]\n",
            "\n",
            " [[-0.07218396 -0.07725531 -0.07725531  0.00254936]\n",
            "  [-0.05131057 -0.04900995 -0.06159968  0.31780529]\n",
            "  [-0.02413605  0.01550827 -0.03180877  0.67918251]\n",
            "  [ 0.0413609   0.10886554  0.01412317  0.99800332]\n",
            "  [ 0.          0.          0.          0.        ]]]\n"
          ]
        }
      ]
    },
    {
      "cell_type": "markdown",
      "source": [
        "## Step 5: Plot Training Progress\n",
        "We will plot the total rewards per episode to observe how the agent is learning."
      ],
      "metadata": {
        "id": "bgc3CcGBFCjo"
      }
    },
    {
      "cell_type": "code",
      "source": [
        "plt.plot(rewards)\n",
        "plt.xlabel('Episodes')\n",
        "plt.ylabel('Total Reward')\n",
        "plt.title('Training Progress')\n",
        "plt.grid(True)\n",
        "plt.show()\n"
      ],
      "metadata": {
        "colab": {
          "base_uri": "https://localhost:8080/",
          "height": 472
        },
        "id": "P7O8MyjgE5lF",
        "outputId": "74319d9a-0f8c-4c57-eb75-0460c6475c94"
      },
      "execution_count": 11,
      "outputs": [
        {
          "output_type": "display_data",
          "data": {
            "text/plain": [
              "<Figure size 640x480 with 1 Axes>"
            ],
            "image/png": "[encoded data removed]"
          },
          "metadata": {}
        }
      ]
    },
    {
      "cell_type": "markdown",
      "source": [
        "## Step 6: Create an Interactive Training Plot\n",
        "- Instead of plotting after training, we will update the plot live as the agent learns.\n",
        "- Matplotlib’s FuncAnimation will refresh the plot every few episodes."
      ],
      "metadata": {
        "id": "xHq0eQzxFhxW"
      }
    },
    {
      "cell_type": "code",
      "source": [
        "import matplotlib.pyplot as plt\n",
        "import matplotlib.animation as animation\n",
        "\n",
        "# Initialize the figure and axis\n",
        "fig, ax = plt.subplots()\n",
        "ax.set_xlabel(\"Episodes\")\n",
        "ax.set_ylabel(\"Total Reward\")\n",
        "ax.set_title(\"Training Progress (Live Update)\")\n",
        "line, = ax.plot([], [], lw=2)\n",
        "\n",
        "# Update function for animation\n",
        "def update(frame):\n",
        "    if frame >= len(rewards):\n",
        "        return line,\n",
        "    line.set_data(range(frame), rewards[:frame])\n",
        "    ax.relim()\n",
        "    ax.autoscale_view()\n",
        "    return line,\n",
        "\n",
        "# Create animation\n",
        "ani = animation.FuncAnimation(fig, update, frames=len(rewards), interval=10, blit=False)\n",
        "\n",
        "plt.show()\n"
      ],
      "metadata": {
        "colab": {
          "base_uri": "https://localhost:8080/",
          "height": 472
        },
        "id": "A3A1UyfVFHSw",
        "outputId": "89cabe17-c18c-47ac-e15d-b4582592d306"
      },
      "execution_count": 14,
      "outputs": [
        {
          "output_type": "display_data",
          "data": {
            "text/plain": [
              "<Figure size 640x480 with 1 Axes>"
            ],
            "image/png": "[encoded data removed]"
          },
          "metadata": {}
        }
      ]
    },
    {
      "cell_type": "markdown",
      "source": [
        "## Step 7: Test the Performance of the Trained Agent\n",
        "1. Run the agent in the environment without learning (i.e., without exploration, just exploitation).\n",
        "2. Measure how many steps it takes to reach the goal.\n",
        "3. Observe if it follows an optimal path.\n"
      ],
      "metadata": {
        "id": "bYTUoU7TGCcN"
      }
    },
    {
      "cell_type": "code",
      "source": [
        "def test_agent(agent, env, episodes=10):\n",
        "    \"\"\"Tests the trained agent and prints its performance.\"\"\"\n",
        "    success_count = 0\n",
        "    total_steps = []\n",
        "\n",
        "    for episode in range(episodes):\n",
        "        state = env.reset()\n",
        "        done = False\n",
        "        steps = 0\n",
        "\n",
        "        while not done:\n",
        "            action = np.argmax(agent.q_table[state[0], state[1]])  # Always pick the best action\n",
        "            next_state, reward, done = env.step(action)\n",
        "            state = next_state\n",
        "            steps += 1\n",
        "\n",
        "        total_steps.append(steps)\n",
        "        if state == env.goal:\n",
        "            success_count += 1  # Check if the agent reached the goal\n",
        "\n",
        "    avg_steps = np.mean(total_steps)\n",
        "    success_rate = (success_count / episodes) * 100\n",
        "\n",
        "    print(f\"Success Rate: {success_rate:.2f}%\")\n",
        "    print(f\"Average Steps to Goal: {avg_steps:.2f}\")\n",
        "\n",
        "    return success_rate, avg_steps\n"
      ],
      "metadata": {
        "id": "TzzBgzs6Fr4O"
      },
      "execution_count": 15,
      "outputs": []
    },
    {
      "cell_type": "code",
      "source": [
        "success_rate, avg_steps = test_agent(trained_agent, env)\n"
      ],
      "metadata": {
        "colab": {
          "base_uri": "https://localhost:8080/"
        },
        "id": "gNyUGUQPGc38",
        "outputId": "7e036794-0736-4d15-aff2-2aaf10b0d03d"
      },
      "execution_count": 16,
      "outputs": [
        {
          "output_type": "stream",
          "name": "stdout",
          "text": [
            "Success Rate: 100.00%\n",
            "Average Steps to Goal: 8.00\n"
          ]
        }
      ]
    },
    {
      "cell_type": "markdown",
      "source": [
        "# Step 8: Visualizing the Agent’s Movements\n",
        "This will show how the agent moves from (0,0) to the goal step by step."
      ],
      "metadata": {
        "id": "x_5Ra3uhHKj0"
      }
    },
    {
      "cell_type": "code",
      "source": [
        "import time\n",
        "import matplotlib.pyplot as plt\n",
        "import seaborn as sns\n",
        "\n",
        "def visualize_agent(agent, env):\n",
        "    \"\"\"Visualizes the agent's movement from start to goal.\"\"\"\n",
        "    state = env.reset()\n",
        "    path = [state]  # Store visited states\n",
        "\n",
        "    done = False\n",
        "    while not done:\n",
        "        action = np.argmax(agent.q_table[state[0], state[1]])  # Best action\n",
        "        state, _, done = env.step(action)\n",
        "        path.append(state)\n",
        "\n",
        "    # Create a grid visualization\n",
        "    grid = np.zeros((env.size, env.size))\n",
        "    for (x, y) in path:\n",
        "        grid[x, y] = 1  # Mark the agent's path\n",
        "\n",
        "    # Mark start and goal positions\n",
        "    grid[0, 0] = 0.5  # Start (gray)\n",
        "    grid[env.goal[0], env.goal[1]] = 0.8  # Goal (yellow)\n",
        "\n",
        "    # Plot the grid\n",
        "    plt.figure(figsize=(6, 6))\n",
        "    sns.heatmap(grid, annot=True, cmap=\"coolwarm\", linewidths=0.5, cbar=False)\n",
        "    plt.title(\"Agent's Path to Goal\")\n",
        "    plt.show()\n",
        "\n",
        "# Run visualization\n",
        "visualize_agent(trained_agent, env)\n"
      ],
      "metadata": {
        "colab": {
          "base_uri": "https://localhost:8080/",
          "height": 545
        },
        "id": "G105JnMjGsPN",
        "outputId": "8e313d57-1054-49bb-f880-b9191d21fe7e"
      },
      "execution_count": 17,
      "outputs": [
        {
          "output_type": "display_data",
          "data": {
            "text/plain": [
              "<Figure size 600x600 with 1 Axes>"
            ],
            "image/png": "[encoded data removed]"
          },
          "metadata": {}
        }
      ]
    },
    {
      "cell_type": "code",
      "source": [],
      "metadata": {
        "id": "Ilj11jE1HOAx"
      },
      "execution_count": null,
      "outputs": []
    }
  ]
}